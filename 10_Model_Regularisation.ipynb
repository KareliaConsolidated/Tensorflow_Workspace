{
 "cells": [
  {
   "cell_type": "code",
   "execution_count": 1,
   "metadata": {
    "scrolled": true
   },
   "outputs": [
    {
     "name": "stdout",
     "output_type": "stream",
     "text": [
      "2.2.0\n"
     ]
    }
   ],
   "source": [
    "import tensorflow as tf\n",
    "print(tf.__version__)"
   ]
  },
  {
   "cell_type": "markdown",
   "metadata": {},
   "source": [
    "# Validation, regularisation and callbacks"
   ]
  },
  {
   "cell_type": "markdown",
   "metadata": {},
   "source": [
    " ## Coding tutorials\n",
    " #### [1. Validation sets](#coding_tutorial_1)\n",
    " #### [2. Model regularisation](#coding_tutorial_2)\n",
    " #### [3. Introduction to callbacks](#coding_tutorial_3)\n",
    " #### [4. Early stopping / patience](#coding_tutorial_4)"
   ]
  },
  {
   "cell_type": "markdown",
   "metadata": {},
   "source": [
    "***\n",
    "<a id=\"coding_tutorial_1\"></a>\n",
    "## Validation sets"
   ]
  },
  {
   "cell_type": "markdown",
   "metadata": {},
   "source": [
    "#### Load the data"
   ]
  },
  {
   "cell_type": "code",
   "execution_count": 2,
   "metadata": {},
   "outputs": [
    {
     "name": "stdout",
     "output_type": "stream",
     "text": [
      ".. _diabetes_dataset:\n",
      "\n",
      "Diabetes dataset\n",
      "----------------\n",
      "\n",
      "Ten baseline variables, age, sex, body mass index, average blood\n",
      "pressure, and six blood serum measurements were obtained for each of n =\n",
      "442 diabetes patients, as well as the response of interest, a\n",
      "quantitative measure of disease progression one year after baseline.\n",
      "\n",
      "**Data Set Characteristics:**\n",
      "\n",
      "  :Number of Instances: 442\n",
      "\n",
      "  :Number of Attributes: First 10 columns are numeric predictive values\n",
      "\n",
      "  :Target: Column 11 is a quantitative measure of disease progression one year after baseline\n",
      "\n",
      "  :Attribute Information:\n",
      "      - Age\n",
      "      - Sex\n",
      "      - Body mass index\n",
      "      - Average blood pressure\n",
      "      - S1\n",
      "      - S2\n",
      "      - S3\n",
      "      - S4\n",
      "      - S5\n",
      "      - S6\n",
      "\n",
      "Note: Each of these 10 feature variables have been mean centered and scaled by the standard deviation times `n_samples` (i.e. the sum of squares of each column totals 1).\n",
      "\n",
      "Source URL:\n",
      "https://www4.stat.ncsu.edu/~boos/var.select/diabetes.html\n",
      "\n",
      "For more information see:\n",
      "Bradley Efron, Trevor Hastie, Iain Johnstone and Robert Tibshirani (2004) \"Least Angle Regression,\" Annals of Statistics (with discussion), 407-499.\n",
      "(https://web.stanford.edu/~hastie/Papers/LARS/LeastAngle_2002.pdf)\n"
     ]
    }
   ],
   "source": [
    "# Load the diabetes dataset\n",
    "\n",
    "from sklearn.datasets import load_diabetes\n",
    "\n",
    "diabetes_dataset = load_diabetes()\n",
    "print(diabetes_dataset['DESCR'])"
   ]
  },
  {
   "cell_type": "code",
   "execution_count": 3,
   "metadata": {},
   "outputs": [],
   "source": [
    "# Save the input and target variables\n",
    "\n",
    "data = diabetes_dataset[\"data\"]\n",
    "targets = diabetes_dataset[\"target\"]"
   ]
  },
  {
   "cell_type": "code",
   "execution_count": 4,
   "metadata": {},
   "outputs": [
    {
     "data": {
      "text/plain": [
       "array([-1.47194752e-02, -1.00165882e+00, -1.44579915e-01,  6.99512942e-01,\n",
       "       -2.22496178e-01, -7.15965848e-01, -1.83538046e-01, -1.15749134e+00,\n",
       "       -5.47147277e-01,  2.05006151e+00, -6.64021672e-01, -1.07957508e+00,\n",
       "        3.48889755e-01,  4.26806019e-01, -4.43258925e-01,  2.45001404e-01,\n",
       "        1.80071184e-01, -1.05621783e-01, -7.15965848e-01,  2.06043272e-01,\n",
       "       -1.09256112e+00, -1.33929596e+00, -1.09256112e+00,  1.20596866e+00,\n",
       "        4.13819975e-01,  6.47568766e-01, -1.96524090e-01, -8.71798376e-01,\n",
       "       -2.74440354e-01,  1.69943833e+00, -3.00412442e-01, -1.20943552e+00,\n",
       "        2.45262887e+00, -8.45826288e-01, -1.13151925e+00, -6.51035629e-01,\n",
       "        1.46568953e+00,  1.60853602e+00,  1.29687096e+00, -8.06868156e-01,\n",
       "       -6.77007716e-01, -1.26137969e+00, -1.18346343e+00, -7.80896068e-01,\n",
       "        1.38777327e+00, -1.28735178e+00,  4.91736239e-01, -1.31593871e-01,\n",
       "       -1.00165882e+00, -1.31593871e-01,  3.72247006e-02,  9.46247777e-01,\n",
       "       -1.20943552e+00, -6.25063541e-01,  3.87847887e-01, -3.13398486e-01,\n",
       "       -1.30033783e+00, -1.49512849e+00,  2.32015360e-01,  2.32015360e-01,\n",
       "       -1.18346343e+00, -1.05621783e-01, -1.30033783e+00, -3.13398486e-01,\n",
       "       -1.05360299e+00,  1.41113052e-01, -2.77055191e-02, -7.15965848e-01,\n",
       "        1.02154920e-01,  3.35903711e-01, -1.35228200e+00,  1.53061975e+00,\n",
       "        6.47568766e-01, -5.34161233e-01, -8.71798376e-01, -1.43019827e+00,\n",
       "        2.32015360e-01,  6.21596678e-01,  1.29687096e+00, -5.08189145e-01,\n",
       "       -1.18607827e-01, -1.31332387e+00, -1.30033783e+00,  7.51457118e-01,\n",
       "       -1.13151925e+00, -1.44579915e-01, -1.26137969e+00, -2.35482222e-01,\n",
       "       -1.43019827e+00, -5.34161233e-01, -7.02979804e-01,  1.54099096e-01,\n",
       "       -1.35228200e+00, -7.28951892e-01, -8.06868156e-01,  1.28127008e-01,\n",
       "       -2.77055191e-02,  1.64749415e+00, -7.80896068e-01, -8.97770464e-01,\n",
       "       -3.13398486e-01, -6.51035629e-01,  1.94617316e+00,  5.95624590e-01,\n",
       "       -7.41937936e-01, -1.28735178e+00, -2.35482222e-01, -1.05621783e-01,\n",
       "        1.03715008e+00, -9.23742551e-01, -6.25063541e-01, -1.20943552e+00,\n",
       "        1.21895470e+00,  1.88124294e+00,  1.37478723e+00,  9.98191953e-01,\n",
       "        1.59554997e+00,  1.67346624e+00,  3.48889755e-01,  6.21596678e-01,\n",
       "        6.21596678e-01,  2.70973492e-01,  3.61875799e-01, -8.84784420e-01,\n",
       "       -4.04300794e-01,  1.15140964e-01, -6.89993760e-01, -5.60133321e-01,\n",
       "       -4.82217057e-01,  1.50464767e+00,  1.58256393e+00,  7.61828325e-02,\n",
       "       -5.86105409e-01, -8.97770464e-01, -6.38049585e-01,  1.55659184e+00,\n",
       "       -8.71798376e-01,  1.66048019e+00,  2.38769865e+00,  1.67346624e+00,\n",
       "       -4.43258925e-01,  2.14096382e+00,  1.07610822e+00, -1.19644947e+00,\n",
       "        2.83959536e-01,  1.38777327e+00,  3.35903711e-01, -3.13398486e-01,\n",
       "       -7.28951892e-01, -3.39370574e-01,  1.76436855e+00, -8.32840244e-01,\n",
       "        1.81631272e+00, -1.05360299e+00,  5.82638546e-01,  4.39792063e-01,\n",
       "       -1.65096101e+00, -8.84784420e-01, -7.28951892e-01,  5.56666458e-01,\n",
       "       -1.28735178e+00,  8.42359425e-01,  2.57987448e-01, -2.74440354e-01,\n",
       "        8.03401293e-01, -1.20943552e+00, -1.06658903e+00,  8.81317557e-01,\n",
       "        1.50464767e+00, -1.73343121e-03, -1.36526805e+00, -1.01464486e+00,\n",
       "        1.85527085e+00, -6.64021672e-01, -1.47194752e-02, -3.26384530e-01,\n",
       "        1.10208030e+00,  9.46247777e-01, -9.23742551e-01, -1.47194752e-02,\n",
       "       -5.86105409e-01, -1.14450530e+00, -1.83538046e-01,  4.26806019e-01,\n",
       "        1.46568953e+00, -6.64021672e-01, -1.96524090e-01, -1.18607827e-01,\n",
       "       -1.44579915e-01, -9.49714639e-01,  1.81631272e+00,  3.35903711e-01,\n",
       "       -7.93882112e-01, -4.69231013e-01, -8.58812332e-01, -3.91314750e-01,\n",
       "       -1.04061695e+00, -3.00412442e-01, -1.31593871e-01, -8.06868156e-01,\n",
       "        7.61828325e-02, -1.46915640e+00,  5.69652502e-01,  9.07289645e-01,\n",
       "        1.62152206e+00, -6.89993760e-01,  5.69652502e-01,  6.47568766e-01,\n",
       "        3.72247006e-02, -9.75686727e-01,  5.04722283e-01, -1.06658903e+00,\n",
       "       -1.02763090e+00, -1.33929596e+00, -1.13151925e+00,  1.43971745e+00,\n",
       "        1.24492679e+00,  1.86825690e+00,  8.03401293e-01,  4.26806019e-01,\n",
       "       -9.62700683e-01, -7.67910024e-01,  1.29687096e+00, -2.77055191e-02,\n",
       "       -9.75686727e-01,  7.25485030e-01, -9.75686727e-01, -5.73119365e-01,\n",
       "        1.02154920e-01, -1.28735178e+00,  8.81317557e-01,  2.42386567e-02,\n",
       "        1.38777327e+00, -8.06868156e-01,  1.21895470e+00, -3.65342662e-01,\n",
       "       -1.10554717e+00, -1.04061695e+00,  1.36180118e+00,  1.42673140e+00,\n",
       "        1.59554997e+00,  3.22917667e-01, -1.05360299e+00, -1.36526805e+00,\n",
       "        4.52778107e-01, -3.52356618e-01, -9.62700683e-01, -1.31332387e+00,\n",
       "        1.37478723e+00,  8.16387337e-01,  1.95915920e+00,  1.17999657e+00,\n",
       "       -7.93882112e-01, -2.77055191e-02,  2.05006151e+00,  1.12526127e-02,\n",
       "        2.51755909e+00, -1.15749134e+00, -8.19854200e-01, -1.32630991e+00,\n",
       "       -1.46915640e+00, -6.38049585e-01,  2.02408942e+00, -4.69231013e-01,\n",
       "       -9.26357388e-02, -1.01464486e+00, -1.39124013e+00, -4.82217057e-01,\n",
       "        1.45270349e+00, -8.45826288e-01,  6.47568766e-01, -3.26384530e-01,\n",
       "        3.87847887e-01,  1.15402448e+00, -1.11853321e+00, -7.54923980e-01,\n",
       "        1.69943833e+00, -1.14450530e+00, -6.51035629e-01,  6.21596678e-01,\n",
       "        1.46568953e+00, -7.54923980e-01,  1.01117800e+00,  3.74861843e-01,\n",
       "        5.02107446e-02,  1.05013613e+00, -1.19644947e+00,  8.68331513e-01,\n",
       "       -9.36728595e-01, -1.09256112e+00,  2.33575448e+00,  1.24492679e+00,\n",
       "       -8.84784420e-01,  6.21596678e-01, -1.26137969e+00, -8.71798376e-01,\n",
       "       -8.19854200e-01, -1.57304475e+00, -3.00412442e-01, -8.97770464e-01,\n",
       "        1.59554997e+00, -1.13151925e+00,  5.95624590e-01,  1.08909426e+00,\n",
       "        1.30985701e+00, -3.65342662e-01, -1.40422618e+00,  2.57987448e-01,\n",
       "       -4.95203101e-01, -1.31593871e-01, -5.60133321e-01,  3.61875799e-01,\n",
       "       -1.05621783e-01,  1.41113052e-01, -6.66636509e-02, -7.15965848e-01,\n",
       "        8.81317557e-01,  4.91736239e-01, -5.60133321e-01,  5.04722283e-01,\n",
       "       -3.91314750e-01,  1.01117800e+00,  1.16701052e+00,  1.24492679e+00,\n",
       "        1.25791283e+00,  5.17708327e-01, -2.74440354e-01,  1.10208030e+00,\n",
       "       -9.62700683e-01, -2.22496178e-01,  1.19298261e+00,  6.08610634e-01,\n",
       "        1.53061975e+00,  1.54099096e-01, -1.04061695e+00, -7.28951892e-01,\n",
       "        1.99811734e+00, -7.93882112e-01,  8.03401293e-01, -7.41937936e-01,\n",
       "        8.29373381e-01,  1.43971745e+00,  3.35903711e-01, -5.08189145e-01,\n",
       "        6.21596678e-01, -1.70552003e-01, -1.70552003e-01, -8.32840244e-01,\n",
       "       -5.36776070e-02, -8.32840244e-01,  1.17999657e+00, -1.05360299e+00,\n",
       "       -9.75686727e-01, -5.60133321e-01,  1.55659184e+00, -1.19644947e+00,\n",
       "       -1.27436574e+00,  8.94303601e-01, -8.06868156e-01,  2.06304756e+00,\n",
       "        1.67346624e+00,  3.87847887e-01,  2.19290800e+00, -1.22242156e+00,\n",
       "        1.42673140e+00,  6.99512942e-01,  1.05013613e+00,  1.16701052e+00,\n",
       "       -3.78328706e-01,  1.93057228e-01, -1.15749134e+00,  5.82638546e-01,\n",
       "       -1.05360299e+00,  2.06043272e-01, -1.57565959e-01,  8.42359425e-01,\n",
       "       -4.04300794e-01,  1.07610822e+00,  1.20596866e+00, -1.45617035e+00,\n",
       "       -1.30033783e+00, -6.25063541e-01, -2.61454310e-01, -8.32840244e-01,\n",
       "       -1.07957508e+00,  8.68331513e-01, -1.04061695e+00,  6.34582722e-01,\n",
       "       -5.47147277e-01, -1.31332387e+00,  1.62152206e+00, -1.15749134e+00,\n",
       "       -4.43258925e-01, -1.07957508e+00,  1.56957789e+00,  1.37478723e+00,\n",
       "       -1.41721222e+00,  5.95624590e-01,  1.16701052e+00,  1.03715008e+00,\n",
       "        2.96945580e-01, -7.67910024e-01,  2.06043272e-01,  1.59554997e+00,\n",
       "        1.82929877e+00,  1.67346624e+00, -1.04061695e+00, -1.57565959e-01,\n",
       "        4.78750195e-01,  3.74861843e-01,  7.38471074e-01, -2.09510134e-01,\n",
       "        1.41374536e+00, -5.08189145e-01, -2.74440354e-01,  2.83959536e-01,\n",
       "        1.36180118e+00, -1.26137969e+00, -8.84784420e-01, -1.43019827e+00,\n",
       "       -7.96496949e-02,  7.77429206e-01,  1.05013613e+00, -7.93882112e-01,\n",
       "       -5.34161233e-01, -1.73343121e-03, -4.17286837e-01, -1.10554717e+00,\n",
       "        2.05006151e+00, -7.54923980e-01,  4.00833931e-01, -1.11853321e+00,\n",
       "        2.70973492e-01, -1.04061695e+00, -1.33929596e+00, -1.14450530e+00,\n",
       "       -1.35228200e+00,  3.35903711e-01, -6.25063541e-01, -2.61454310e-01,\n",
       "        8.81317557e-01, -1.23540761e+00])"
      ]
     },
     "execution_count": 4,
     "metadata": {},
     "output_type": "execute_result"
    }
   ],
   "source": [
    "# Normalise the target data (this will make clearer training curves)\n",
    "\n",
    "targets = (targets - targets.mean(axis=0)) / targets.std()\n",
    "targets"
   ]
  },
  {
   "cell_type": "code",
   "execution_count": 5,
   "metadata": {},
   "outputs": [
    {
     "name": "stdout",
     "output_type": "stream",
     "text": [
      "(397, 10)\n",
      "(45, 10)\n",
      "(397,)\n",
      "(45,)\n"
     ]
    }
   ],
   "source": [
    "# Split the data into train and test sets\n",
    "\n",
    "from sklearn.model_selection import train_test_split\n",
    "\n",
    "train_data, test_data, train_targets, test_targets = train_test_split(data, targets, test_size=0.1)\n",
    "\n",
    "print(train_data.shape)\n",
    "print(test_data.shape)\n",
    "print(train_targets.shape)\n",
    "print(test_targets.shape)"
   ]
  },
  {
   "cell_type": "markdown",
   "metadata": {},
   "source": [
    "#### Train a feedforward neural network model"
   ]
  },
  {
   "cell_type": "code",
   "execution_count": 6,
   "metadata": {},
   "outputs": [],
   "source": [
    "# Build the model\n",
    "\n",
    "from tensorflow.keras.models import Sequential\n",
    "from tensorflow.keras.layers import Dense\n",
    "\n",
    "def get_model():\n",
    "    model = Sequential([\n",
    "        Dense(128, activation='relu', input_shape=(train_data.shape[1],)),\n",
    "        Dense(128, activation='relu'),\n",
    "        Dense(128, activation='relu'),\n",
    "        Dense(128, activation='relu'),\n",
    "        Dense(128, activation='relu'),\n",
    "        Dense(128, activation='relu'),\n",
    "        Dense(1)\n",
    "    ])\n",
    "    \n",
    "    return model\n",
    "\n",
    "model = get_model()"
   ]
  },
  {
   "cell_type": "code",
   "execution_count": 7,
   "metadata": {},
   "outputs": [
    {
     "name": "stdout",
     "output_type": "stream",
     "text": [
      "Model: \"sequential\"\n",
      "_________________________________________________________________\n",
      "Layer (type)                 Output Shape              Param #   \n",
      "=================================================================\n",
      "dense (Dense)                (None, 128)               1408      \n",
      "_________________________________________________________________\n",
      "dense_1 (Dense)              (None, 128)               16512     \n",
      "_________________________________________________________________\n",
      "dense_2 (Dense)              (None, 128)               16512     \n",
      "_________________________________________________________________\n",
      "dense_3 (Dense)              (None, 128)               16512     \n",
      "_________________________________________________________________\n",
      "dense_4 (Dense)              (None, 128)               16512     \n",
      "_________________________________________________________________\n",
      "dense_5 (Dense)              (None, 128)               16512     \n",
      "_________________________________________________________________\n",
      "dense_6 (Dense)              (None, 1)                 129       \n",
      "=================================================================\n",
      "Total params: 84,097\n",
      "Trainable params: 84,097\n",
      "Non-trainable params: 0\n",
      "_________________________________________________________________\n"
     ]
    }
   ],
   "source": [
    "# Print the model summary\n",
    "\n",
    "model.summary()"
   ]
  },
  {
   "cell_type": "code",
   "execution_count": 8,
   "metadata": {},
   "outputs": [],
   "source": [
    "# Compile the model\n",
    "\n",
    "model.compile(optimizer='adam', loss='mse', metrics=['mae'])"
   ]
  },
  {
   "cell_type": "code",
   "execution_count": 9,
   "metadata": {},
   "outputs": [
    {
     "name": "stdout",
     "output_type": "stream",
     "text": [
      "Epoch 1/100\n",
      "6/6 - 0s - loss: 0.9537 - mae: 0.8153 - val_loss: 1.1677 - val_mae: 0.9736\n",
      "Epoch 2/100\n",
      "6/6 - 0s - loss: 0.8882 - mae: 0.7850 - val_loss: 1.0149 - val_mae: 0.8892\n",
      "Epoch 3/100\n",
      "6/6 - 0s - loss: 0.7716 - mae: 0.7155 - val_loss: 0.7693 - val_mae: 0.7340\n",
      "Epoch 4/100\n",
      "6/6 - 0s - loss: 0.6666 - mae: 0.6736 - val_loss: 0.5561 - val_mae: 0.6123\n",
      "Epoch 5/100\n",
      "6/6 - 0s - loss: 0.6086 - mae: 0.6360 - val_loss: 0.4804 - val_mae: 0.5698\n",
      "Epoch 6/100\n",
      "6/6 - 0s - loss: 0.5772 - mae: 0.6384 - val_loss: 0.6437 - val_mae: 0.6120\n",
      "Epoch 7/100\n",
      "6/6 - 0s - loss: 0.5960 - mae: 0.6215 - val_loss: 0.4260 - val_mae: 0.5504\n",
      "Epoch 8/100\n",
      "6/6 - 0s - loss: 0.5355 - mae: 0.6083 - val_loss: 0.4111 - val_mae: 0.5049\n",
      "Epoch 9/100\n",
      "6/6 - 0s - loss: 0.5201 - mae: 0.5775 - val_loss: 0.3485 - val_mae: 0.4964\n",
      "Epoch 10/100\n",
      "6/6 - 0s - loss: 0.5144 - mae: 0.5913 - val_loss: 0.3422 - val_mae: 0.4888\n",
      "Epoch 11/100\n",
      "6/6 - 0s - loss: 0.5075 - mae: 0.5696 - val_loss: 0.4242 - val_mae: 0.5140\n",
      "Epoch 12/100\n",
      "6/6 - 0s - loss: 0.4881 - mae: 0.5625 - val_loss: 0.4006 - val_mae: 0.5361\n",
      "Epoch 13/100\n",
      "6/6 - 0s - loss: 0.4952 - mae: 0.5828 - val_loss: 0.3621 - val_mae: 0.5071\n",
      "Epoch 14/100\n",
      "6/6 - 0s - loss: 0.4602 - mae: 0.5449 - val_loss: 0.3427 - val_mae: 0.4846\n",
      "Epoch 15/100\n",
      "6/6 - 0s - loss: 0.4441 - mae: 0.5289 - val_loss: 0.3474 - val_mae: 0.4669\n",
      "Epoch 16/100\n",
      "6/6 - 0s - loss: 0.4374 - mae: 0.5228 - val_loss: 0.3333 - val_mae: 0.4664\n",
      "Epoch 17/100\n",
      "6/6 - 0s - loss: 0.4243 - mae: 0.5187 - val_loss: 0.3387 - val_mae: 0.4769\n",
      "Epoch 18/100\n",
      "6/6 - 0s - loss: 0.4262 - mae: 0.5219 - val_loss: 0.3549 - val_mae: 0.4843\n",
      "Epoch 19/100\n",
      "6/6 - 0s - loss: 0.4362 - mae: 0.5401 - val_loss: 0.3560 - val_mae: 0.4726\n",
      "Epoch 20/100\n",
      "6/6 - 0s - loss: 0.4182 - mae: 0.5093 - val_loss: 0.3735 - val_mae: 0.4811\n",
      "Epoch 21/100\n",
      "6/6 - 0s - loss: 0.4199 - mae: 0.5177 - val_loss: 0.3605 - val_mae: 0.4784\n",
      "Epoch 22/100\n",
      "6/6 - 0s - loss: 0.4067 - mae: 0.5017 - val_loss: 0.3582 - val_mae: 0.4812\n",
      "Epoch 23/100\n",
      "6/6 - 0s - loss: 0.3926 - mae: 0.5024 - val_loss: 0.3676 - val_mae: 0.4838\n",
      "Epoch 24/100\n",
      "6/6 - 0s - loss: 0.3835 - mae: 0.4910 - val_loss: 0.3843 - val_mae: 0.4804\n",
      "Epoch 25/100\n",
      "6/6 - 0s - loss: 0.3877 - mae: 0.4902 - val_loss: 0.3652 - val_mae: 0.4775\n",
      "Epoch 26/100\n",
      "6/6 - 0s - loss: 0.3726 - mae: 0.4809 - val_loss: 0.3671 - val_mae: 0.4726\n",
      "Epoch 27/100\n",
      "6/6 - 0s - loss: 0.3603 - mae: 0.4787 - val_loss: 0.3801 - val_mae: 0.4860\n",
      "Epoch 28/100\n",
      "6/6 - 0s - loss: 0.3545 - mae: 0.4711 - val_loss: 0.3903 - val_mae: 0.4758\n",
      "Epoch 29/100\n",
      "6/6 - 0s - loss: 0.3461 - mae: 0.4580 - val_loss: 0.3928 - val_mae: 0.4746\n",
      "Epoch 30/100\n",
      "6/6 - 0s - loss: 0.3437 - mae: 0.4598 - val_loss: 0.3909 - val_mae: 0.4781\n",
      "Epoch 31/100\n",
      "6/6 - 0s - loss: 0.3392 - mae: 0.4575 - val_loss: 0.3989 - val_mae: 0.4739\n",
      "Epoch 32/100\n",
      "6/6 - 0s - loss: 0.3312 - mae: 0.4532 - val_loss: 0.3909 - val_mae: 0.4846\n",
      "Epoch 33/100\n",
      "6/6 - 0s - loss: 0.3086 - mae: 0.4324 - val_loss: 0.4224 - val_mae: 0.4859\n",
      "Epoch 34/100\n",
      "6/6 - 0s - loss: 0.3113 - mae: 0.4329 - val_loss: 0.4452 - val_mae: 0.5040\n",
      "Epoch 35/100\n",
      "6/6 - 0s - loss: 0.3434 - mae: 0.4618 - val_loss: 0.4082 - val_mae: 0.4777\n",
      "Epoch 36/100\n",
      "6/6 - 0s - loss: 0.3055 - mae: 0.4295 - val_loss: 0.4608 - val_mae: 0.5257\n",
      "Epoch 37/100\n",
      "6/6 - 0s - loss: 0.3107 - mae: 0.4353 - val_loss: 0.3901 - val_mae: 0.4880\n",
      "Epoch 38/100\n",
      "6/6 - 0s - loss: 0.2878 - mae: 0.4220 - val_loss: 0.4175 - val_mae: 0.4814\n",
      "Epoch 39/100\n",
      "6/6 - 0s - loss: 0.2821 - mae: 0.4216 - val_loss: 0.3961 - val_mae: 0.4760\n",
      "Epoch 40/100\n",
      "6/6 - 0s - loss: 0.3074 - mae: 0.4256 - val_loss: 0.3817 - val_mae: 0.4737\n",
      "Epoch 41/100\n",
      "6/6 - 0s - loss: 0.2708 - mae: 0.4041 - val_loss: 0.4521 - val_mae: 0.5213\n",
      "Epoch 42/100\n",
      "6/6 - 0s - loss: 0.2619 - mae: 0.3976 - val_loss: 0.4050 - val_mae: 0.4940\n",
      "Epoch 43/100\n",
      "6/6 - 0s - loss: 0.2461 - mae: 0.3783 - val_loss: 0.3692 - val_mae: 0.4549\n",
      "Epoch 44/100\n",
      "6/6 - 0s - loss: 0.2359 - mae: 0.3748 - val_loss: 0.4741 - val_mae: 0.5212\n",
      "Epoch 45/100\n",
      "6/6 - 0s - loss: 0.2452 - mae: 0.3818 - val_loss: 0.4492 - val_mae: 0.4985\n",
      "Epoch 46/100\n",
      "6/6 - 0s - loss: 0.2184 - mae: 0.3561 - val_loss: 0.4424 - val_mae: 0.5145\n",
      "Epoch 47/100\n",
      "6/6 - 0s - loss: 0.2200 - mae: 0.3692 - val_loss: 0.4890 - val_mae: 0.5165\n",
      "Epoch 48/100\n",
      "6/6 - 0s - loss: 0.2088 - mae: 0.3542 - val_loss: 0.4975 - val_mae: 0.5186\n",
      "Epoch 49/100\n",
      "6/6 - 0s - loss: 0.1944 - mae: 0.3394 - val_loss: 0.4555 - val_mae: 0.5052\n",
      "Epoch 50/100\n",
      "6/6 - 0s - loss: 0.1935 - mae: 0.3429 - val_loss: 0.4700 - val_mae: 0.5135\n",
      "Epoch 51/100\n",
      "6/6 - 0s - loss: 0.1684 - mae: 0.3145 - val_loss: 0.5054 - val_mae: 0.5226\n",
      "Epoch 52/100\n",
      "6/6 - 0s - loss: 0.1585 - mae: 0.3110 - val_loss: 0.5126 - val_mae: 0.5521\n",
      "Epoch 53/100\n",
      "6/6 - 0s - loss: 0.1474 - mae: 0.2999 - val_loss: 0.5477 - val_mae: 0.5479\n",
      "Epoch 54/100\n",
      "6/6 - 0s - loss: 0.1557 - mae: 0.3100 - val_loss: 0.4965 - val_mae: 0.5390\n",
      "Epoch 55/100\n",
      "6/6 - 0s - loss: 0.1691 - mae: 0.3279 - val_loss: 0.5700 - val_mae: 0.5806\n",
      "Epoch 56/100\n",
      "6/6 - 0s - loss: 0.1852 - mae: 0.3365 - val_loss: 0.4513 - val_mae: 0.4988\n",
      "Epoch 57/100\n",
      "6/6 - 0s - loss: 0.1390 - mae: 0.2954 - val_loss: 0.4943 - val_mae: 0.5291\n",
      "Epoch 58/100\n",
      "6/6 - 0s - loss: 0.1442 - mae: 0.3028 - val_loss: 0.5555 - val_mae: 0.5567\n",
      "Epoch 59/100\n",
      "6/6 - 0s - loss: 0.1626 - mae: 0.3214 - val_loss: 0.5368 - val_mae: 0.5517\n",
      "Epoch 60/100\n",
      "6/6 - 0s - loss: 0.1742 - mae: 0.3318 - val_loss: 0.4912 - val_mae: 0.5139\n",
      "Epoch 61/100\n",
      "6/6 - 0s - loss: 0.1620 - mae: 0.3125 - val_loss: 0.4620 - val_mae: 0.5080\n",
      "Epoch 62/100\n",
      "6/6 - 0s - loss: 0.1661 - mae: 0.3201 - val_loss: 0.4343 - val_mae: 0.4879\n",
      "Epoch 63/100\n",
      "6/6 - 0s - loss: 0.1672 - mae: 0.3138 - val_loss: 0.4850 - val_mae: 0.5410\n",
      "Epoch 64/100\n",
      "6/6 - 0s - loss: 0.1502 - mae: 0.3062 - val_loss: 0.4941 - val_mae: 0.5317\n",
      "Epoch 65/100\n",
      "6/6 - 0s - loss: 0.1239 - mae: 0.2711 - val_loss: 0.4975 - val_mae: 0.5314\n",
      "Epoch 66/100\n",
      "6/6 - 0s - loss: 0.1098 - mae: 0.2544 - val_loss: 0.5197 - val_mae: 0.5096\n",
      "Epoch 67/100\n",
      "6/6 - 0s - loss: 0.1011 - mae: 0.2390 - val_loss: 0.4689 - val_mae: 0.5158\n",
      "Epoch 68/100\n",
      "6/6 - 0s - loss: 0.1009 - mae: 0.2410 - val_loss: 0.5116 - val_mae: 0.5357\n",
      "Epoch 69/100\n",
      "6/6 - 0s - loss: 0.1129 - mae: 0.2558 - val_loss: 0.5134 - val_mae: 0.5428\n",
      "Epoch 70/100\n",
      "6/6 - 0s - loss: 0.0873 - mae: 0.2227 - val_loss: 0.5307 - val_mae: 0.5337\n",
      "Epoch 71/100\n",
      "6/6 - 0s - loss: 0.0899 - mae: 0.2239 - val_loss: 0.5225 - val_mae: 0.5529\n",
      "Epoch 72/100\n",
      "6/6 - 0s - loss: 0.0756 - mae: 0.2031 - val_loss: 0.5333 - val_mae: 0.5335\n",
      "Epoch 73/100\n",
      "6/6 - 0s - loss: 0.0705 - mae: 0.1988 - val_loss: 0.5511 - val_mae: 0.5569\n",
      "Epoch 74/100\n",
      "6/6 - 0s - loss: 0.0710 - mae: 0.2046 - val_loss: 0.5794 - val_mae: 0.5788\n",
      "Epoch 75/100\n",
      "6/6 - 0s - loss: 0.0801 - mae: 0.2170 - val_loss: 0.5257 - val_mae: 0.5417\n",
      "Epoch 76/100\n",
      "6/6 - 0s - loss: 0.0664 - mae: 0.1873 - val_loss: 0.5182 - val_mae: 0.5348\n",
      "Epoch 77/100\n",
      "6/6 - 0s - loss: 0.0731 - mae: 0.1995 - val_loss: 0.5786 - val_mae: 0.5694\n",
      "Epoch 78/100\n",
      "6/6 - 0s - loss: 0.0777 - mae: 0.2136 - val_loss: 0.5275 - val_mae: 0.5312\n",
      "Epoch 79/100\n",
      "6/6 - 0s - loss: 0.0701 - mae: 0.2021 - val_loss: 0.5610 - val_mae: 0.5637\n",
      "Epoch 80/100\n",
      "6/6 - 0s - loss: 0.0788 - mae: 0.2211 - val_loss: 0.5453 - val_mae: 0.5404\n",
      "Epoch 81/100\n",
      "6/6 - 0s - loss: 0.0842 - mae: 0.2178 - val_loss: 0.5534 - val_mae: 0.5675\n",
      "Epoch 82/100\n",
      "6/6 - 0s - loss: 0.0786 - mae: 0.2146 - val_loss: 0.4770 - val_mae: 0.5212\n",
      "Epoch 83/100\n",
      "6/6 - 0s - loss: 0.0604 - mae: 0.1819 - val_loss: 0.5156 - val_mae: 0.5512\n",
      "Epoch 84/100\n",
      "6/6 - 0s - loss: 0.0608 - mae: 0.1814 - val_loss: 0.5329 - val_mae: 0.5542\n",
      "Epoch 85/100\n",
      "6/6 - 0s - loss: 0.0559 - mae: 0.1733 - val_loss: 0.5502 - val_mae: 0.5651\n",
      "Epoch 86/100\n",
      "6/6 - 0s - loss: 0.0664 - mae: 0.2027 - val_loss: 0.5897 - val_mae: 0.5714\n",
      "Epoch 87/100\n",
      "6/6 - 0s - loss: 0.0606 - mae: 0.1915 - val_loss: 0.6093 - val_mae: 0.5973\n",
      "Epoch 88/100\n",
      "6/6 - 0s - loss: 0.0714 - mae: 0.2097 - val_loss: 0.5501 - val_mae: 0.5592\n",
      "Epoch 89/100\n",
      "6/6 - 0s - loss: 0.0667 - mae: 0.2052 - val_loss: 0.5228 - val_mae: 0.5487\n",
      "Epoch 90/100\n",
      "6/6 - 0s - loss: 0.0763 - mae: 0.2122 - val_loss: 0.5420 - val_mae: 0.5545\n",
      "Epoch 91/100\n",
      "6/6 - 0s - loss: 0.0646 - mae: 0.1887 - val_loss: 0.5160 - val_mae: 0.5420\n",
      "Epoch 92/100\n",
      "6/6 - 0s - loss: 0.0652 - mae: 0.2011 - val_loss: 0.5529 - val_mae: 0.5543\n",
      "Epoch 93/100\n",
      "6/6 - 0s - loss: 0.0547 - mae: 0.1863 - val_loss: 0.6008 - val_mae: 0.5956\n",
      "Epoch 94/100\n",
      "6/6 - 0s - loss: 0.0535 - mae: 0.1722 - val_loss: 0.5495 - val_mae: 0.5493\n"
     ]
    },
    {
     "name": "stdout",
     "output_type": "stream",
     "text": [
      "Epoch 95/100\n",
      "6/6 - 0s - loss: 0.0420 - mae: 0.1510 - val_loss: 0.5686 - val_mae: 0.5838\n",
      "Epoch 96/100\n",
      "6/6 - 0s - loss: 0.0449 - mae: 0.1524 - val_loss: 0.5313 - val_mae: 0.5381\n",
      "Epoch 97/100\n",
      "6/6 - 0s - loss: 0.0461 - mae: 0.1626 - val_loss: 0.5743 - val_mae: 0.5815\n",
      "Epoch 98/100\n",
      "6/6 - 0s - loss: 0.0803 - mae: 0.2299 - val_loss: 0.5385 - val_mae: 0.5637\n",
      "Epoch 99/100\n",
      "6/6 - 0s - loss: 0.0556 - mae: 0.1842 - val_loss: 0.5189 - val_mae: 0.5381\n",
      "Epoch 100/100\n",
      "6/6 - 0s - loss: 0.0453 - mae: 0.1586 - val_loss: 0.5641 - val_mae: 0.5845\n"
     ]
    }
   ],
   "source": [
    "# Train the model, with some of the data reserved for validation\n",
    "\n",
    "history = model.fit(train_data, train_targets, epochs=100, validation_split=0.15, batch_size=64, verbose=2)"
   ]
  },
  {
   "cell_type": "code",
   "execution_count": 10,
   "metadata": {},
   "outputs": [
    {
     "name": "stdout",
     "output_type": "stream",
     "text": [
      "2/2 - 0s - loss: 1.2093 - mae: 0.8437\n"
     ]
    },
    {
     "data": {
      "text/plain": [
       "[1.2092664241790771, 0.8436778783798218]"
      ]
     },
     "execution_count": 10,
     "metadata": {},
     "output_type": "execute_result"
    }
   ],
   "source": [
    "# Evaluate the model on the test set\n",
    "\n",
    "model.evaluate(test_data, test_targets, verbose=2)"
   ]
  },
  {
   "cell_type": "markdown",
   "metadata": {},
   "source": [
    "#### Plot the learning curves"
   ]
  },
  {
   "cell_type": "code",
   "execution_count": 11,
   "metadata": {},
   "outputs": [],
   "source": [
    "import matplotlib.pyplot as plt\n",
    "%matplotlib inline"
   ]
  },
  {
   "cell_type": "code",
   "execution_count": 12,
   "metadata": {},
   "outputs": [
    {
     "data": {
      "image/png": "[encoded data removed]",
      "text/plain": [
       "<Figure size 432x288 with 1 Axes>"
      ]
     },
     "metadata": {
      "needs_background": "light"
     },
     "output_type": "display_data"
    }
   ],
   "source": [
    "# Plot the training and validation loss\n",
    "\n",
    "plt.plot(history.history['loss'])\n",
    "plt.plot(history.history['val_loss'])\n",
    "plt.title('Loss vs. epochs')\n",
    "plt.ylabel('Loss')\n",
    "plt.xlabel('Epoch')\n",
    "plt.legend(['Training', 'Validation'], loc='upper right')\n",
    "plt.show()"
   ]
  },
  {
   "cell_type": "markdown",
   "metadata": {},
   "source": [
    "***\n",
    "<a id=\"coding_tutorial_2\"></a>\n",
    "## Model regularisation"
   ]
  },
  {
   "cell_type": "markdown",
   "metadata": {},
   "source": [
    "#### Adding regularisation with weight decay and dropout"
   ]
  },
  {
   "cell_type": "code",
   "execution_count": 13,
   "metadata": {},
   "outputs": [],
   "source": [
    "from tensorflow.keras.layers import Dropout\n",
    "from tensorflow.keras import regularizers"
   ]
  },
  {
   "cell_type": "code",
   "execution_count": 14,
   "metadata": {},
   "outputs": [],
   "source": [
    "def get_regularized_model(wd, rate):\n",
    "    model = Sequential([\n",
    "        Dense(128, kernel_regularizer=regularizers.l2(wd), activation='relu', input_shape=(train_data.shape[1],)),\n",
    "        Dropout(rate),\n",
    "        Dense(128, kernel_regularizer=regularizers.l2(wd), activation='relu'),\n",
    "        Dropout(rate),\n",
    "        Dense(128, kernel_regularizer=regularizers.l2(wd), activation='relu'),\n",
    "        Dropout(rate),\n",
    "        Dense(128, kernel_regularizer=regularizers.l2(wd), activation='relu'),\n",
    "        Dropout(rate),\n",
    "        Dense(128, kernel_regularizer=regularizers.l2(wd), activation='relu'),\n",
    "        Dropout(rate),\n",
    "        Dense(128, kernel_regularizer=regularizers.l2(wd), activation='relu'),\n",
    "        Dropout(rate),\n",
    "        Dense(1)\n",
    "    ])\n",
    "    \n",
    "    return model"
   ]
  },
  {
   "cell_type": "code",
   "execution_count": 15,
   "metadata": {},
   "outputs": [],
   "source": [
    "# Re-build the model with weight decay and dropout layers\n",
    "model = get_regularized_model(1e-5, 0.3)"
   ]
  },
  {
   "cell_type": "code",
   "execution_count": 16,
   "metadata": {},
   "outputs": [],
   "source": [
    "# Compile the model\n",
    "model.compile(optimizer='adam', loss='mse', metrics=['mae'])"
   ]
  },
  {
   "cell_type": "code",
   "execution_count": 17,
   "metadata": {},
   "outputs": [
    {
     "name": "stdout",
     "output_type": "stream",
     "text": [
      "Epoch 1/100\n",
      "6/6 - 0s - loss: 0.9668 - mae: 0.8217 - val_loss: 1.2173 - val_mae: 0.9937\n",
      "Epoch 2/100\n",
      "6/6 - 0s - loss: 0.9624 - mae: 0.8169 - val_loss: 1.1964 - val_mae: 0.9834\n",
      "Epoch 3/100\n",
      "6/6 - 0s - loss: 0.9425 - mae: 0.8085 - val_loss: 1.1233 - val_mae: 0.9530\n",
      "Epoch 4/100\n",
      "6/6 - 0s - loss: 0.8978 - mae: 0.7918 - val_loss: 0.9554 - val_mae: 0.8733\n",
      "Epoch 5/100\n",
      "6/6 - 0s - loss: 0.7741 - mae: 0.7407 - val_loss: 0.6232 - val_mae: 0.6842\n",
      "Epoch 6/100\n",
      "6/6 - 0s - loss: 0.6399 - mae: 0.6649 - val_loss: 0.4601 - val_mae: 0.5236\n",
      "Epoch 7/100\n",
      "6/6 - 0s - loss: 0.6625 - mae: 0.6557 - val_loss: 0.4161 - val_mae: 0.5164\n",
      "Epoch 8/100\n",
      "6/6 - 0s - loss: 0.5650 - mae: 0.6140 - val_loss: 0.4411 - val_mae: 0.5630\n",
      "Epoch 9/100\n",
      "6/6 - 0s - loss: 0.6511 - mae: 0.6641 - val_loss: 0.4533 - val_mae: 0.5756\n",
      "Epoch 10/100\n",
      "6/6 - 0s - loss: 0.5857 - mae: 0.6438 - val_loss: 0.4483 - val_mae: 0.5558\n",
      "Epoch 11/100\n",
      "6/6 - 0s - loss: 0.5940 - mae: 0.6159 - val_loss: 0.3825 - val_mae: 0.5218\n",
      "Epoch 12/100\n",
      "6/6 - 0s - loss: 0.6061 - mae: 0.6248 - val_loss: 0.3729 - val_mae: 0.5110\n",
      "Epoch 13/100\n",
      "6/6 - 0s - loss: 0.5577 - mae: 0.6133 - val_loss: 0.4159 - val_mae: 0.5306\n",
      "Epoch 14/100\n",
      "6/6 - 0s - loss: 0.5732 - mae: 0.6087 - val_loss: 0.3974 - val_mae: 0.5266\n",
      "Epoch 15/100\n",
      "6/6 - 0s - loss: 0.5761 - mae: 0.6248 - val_loss: 0.3848 - val_mae: 0.5217\n",
      "Epoch 16/100\n",
      "6/6 - 0s - loss: 0.5690 - mae: 0.6194 - val_loss: 0.3851 - val_mae: 0.5221\n",
      "Epoch 17/100\n",
      "6/6 - 0s - loss: 0.5610 - mae: 0.6071 - val_loss: 0.3927 - val_mae: 0.5194\n",
      "Epoch 18/100\n",
      "6/6 - 0s - loss: 0.5391 - mae: 0.5978 - val_loss: 0.3699 - val_mae: 0.5170\n",
      "Epoch 19/100\n",
      "6/6 - 0s - loss: 0.5289 - mae: 0.5969 - val_loss: 0.3669 - val_mae: 0.5107\n",
      "Epoch 20/100\n",
      "6/6 - 0s - loss: 0.5381 - mae: 0.5941 - val_loss: 0.3871 - val_mae: 0.5135\n",
      "Epoch 21/100\n",
      "6/6 - 0s - loss: 0.5365 - mae: 0.6022 - val_loss: 0.3775 - val_mae: 0.5134\n",
      "Epoch 22/100\n",
      "6/6 - 0s - loss: 0.5214 - mae: 0.5856 - val_loss: 0.3780 - val_mae: 0.5011\n",
      "Epoch 23/100\n",
      "6/6 - 0s - loss: 0.4975 - mae: 0.5618 - val_loss: 0.3647 - val_mae: 0.5063\n",
      "Epoch 24/100\n",
      "6/6 - 0s - loss: 0.5358 - mae: 0.6021 - val_loss: 0.3700 - val_mae: 0.5076\n",
      "Epoch 25/100\n",
      "6/6 - 0s - loss: 0.4949 - mae: 0.5669 - val_loss: 0.3637 - val_mae: 0.4973\n",
      "Epoch 26/100\n",
      "6/6 - 0s - loss: 0.5032 - mae: 0.5737 - val_loss: 0.3686 - val_mae: 0.4985\n",
      "Epoch 27/100\n",
      "6/6 - 0s - loss: 0.5476 - mae: 0.5925 - val_loss: 0.4017 - val_mae: 0.5215\n",
      "Epoch 28/100\n",
      "6/6 - 0s - loss: 0.4868 - mae: 0.5597 - val_loss: 0.3966 - val_mae: 0.5239\n",
      "Epoch 29/100\n",
      "6/6 - 0s - loss: 0.5258 - mae: 0.5965 - val_loss: 0.3931 - val_mae: 0.5296\n",
      "Epoch 30/100\n",
      "6/6 - 0s - loss: 0.5072 - mae: 0.5763 - val_loss: 0.3721 - val_mae: 0.5014\n",
      "Epoch 31/100\n",
      "6/6 - 0s - loss: 0.5103 - mae: 0.5787 - val_loss: 0.4029 - val_mae: 0.5144\n",
      "Epoch 32/100\n",
      "6/6 - 0s - loss: 0.5117 - mae: 0.5890 - val_loss: 0.4318 - val_mae: 0.5602\n",
      "Epoch 33/100\n",
      "6/6 - 0s - loss: 0.5193 - mae: 0.5950 - val_loss: 0.4011 - val_mae: 0.5221\n",
      "Epoch 34/100\n",
      "6/6 - 0s - loss: 0.4778 - mae: 0.5552 - val_loss: 0.4035 - val_mae: 0.5103\n",
      "Epoch 35/100\n",
      "6/6 - 0s - loss: 0.5127 - mae: 0.5747 - val_loss: 0.3878 - val_mae: 0.5031\n",
      "Epoch 36/100\n",
      "6/6 - 0s - loss: 0.4657 - mae: 0.5406 - val_loss: 0.4235 - val_mae: 0.5196\n",
      "Epoch 37/100\n",
      "6/6 - 0s - loss: 0.5070 - mae: 0.5770 - val_loss: 0.4089 - val_mae: 0.5371\n",
      "Epoch 38/100\n",
      "6/6 - 0s - loss: 0.5210 - mae: 0.5896 - val_loss: 0.3727 - val_mae: 0.4946\n",
      "Epoch 39/100\n",
      "6/6 - 0s - loss: 0.5199 - mae: 0.5739 - val_loss: 0.3861 - val_mae: 0.5063\n",
      "Epoch 40/100\n",
      "6/6 - 0s - loss: 0.4742 - mae: 0.5507 - val_loss: 0.4112 - val_mae: 0.5201\n",
      "Epoch 41/100\n",
      "6/6 - 0s - loss: 0.4927 - mae: 0.5704 - val_loss: 0.4022 - val_mae: 0.5100\n",
      "Epoch 42/100\n",
      "6/6 - 0s - loss: 0.4964 - mae: 0.5630 - val_loss: 0.4069 - val_mae: 0.5300\n",
      "Epoch 43/100\n",
      "6/6 - 0s - loss: 0.4877 - mae: 0.5718 - val_loss: 0.4216 - val_mae: 0.5441\n",
      "Epoch 44/100\n",
      "6/6 - 0s - loss: 0.4681 - mae: 0.5577 - val_loss: 0.3850 - val_mae: 0.5073\n",
      "Epoch 45/100\n",
      "6/6 - 0s - loss: 0.4560 - mae: 0.5319 - val_loss: 0.3761 - val_mae: 0.4940\n",
      "Epoch 46/100\n",
      "6/6 - 0s - loss: 0.4652 - mae: 0.5654 - val_loss: 0.3774 - val_mae: 0.5002\n",
      "Epoch 47/100\n",
      "6/6 - 0s - loss: 0.4652 - mae: 0.5473 - val_loss: 0.3882 - val_mae: 0.5076\n",
      "Epoch 48/100\n",
      "6/6 - 0s - loss: 0.4572 - mae: 0.5424 - val_loss: 0.4013 - val_mae: 0.5181\n",
      "Epoch 49/100\n",
      "6/6 - 0s - loss: 0.4592 - mae: 0.5460 - val_loss: 0.4033 - val_mae: 0.5170\n",
      "Epoch 50/100\n",
      "6/6 - 0s - loss: 0.4693 - mae: 0.5544 - val_loss: 0.4197 - val_mae: 0.5297\n",
      "Epoch 51/100\n",
      "6/6 - 0s - loss: 0.4685 - mae: 0.5535 - val_loss: 0.4057 - val_mae: 0.5080\n",
      "Epoch 52/100\n",
      "6/6 - 0s - loss: 0.4652 - mae: 0.5410 - val_loss: 0.3915 - val_mae: 0.4991\n",
      "Epoch 53/100\n",
      "6/6 - 0s - loss: 0.4661 - mae: 0.5434 - val_loss: 0.3999 - val_mae: 0.5055\n",
      "Epoch 54/100\n",
      "6/6 - 0s - loss: 0.4363 - mae: 0.5317 - val_loss: 0.4335 - val_mae: 0.5238\n",
      "Epoch 55/100\n",
      "6/6 - 0s - loss: 0.4647 - mae: 0.5469 - val_loss: 0.4192 - val_mae: 0.5202\n",
      "Epoch 56/100\n",
      "6/6 - 0s - loss: 0.4450 - mae: 0.5395 - val_loss: 0.4239 - val_mae: 0.5298\n",
      "Epoch 57/100\n",
      "6/6 - 0s - loss: 0.4801 - mae: 0.5565 - val_loss: 0.3982 - val_mae: 0.4979\n",
      "Epoch 58/100\n",
      "6/6 - 0s - loss: 0.4399 - mae: 0.5381 - val_loss: 0.4004 - val_mae: 0.4950\n",
      "Epoch 59/100\n",
      "6/6 - 0s - loss: 0.4494 - mae: 0.5379 - val_loss: 0.4206 - val_mae: 0.5238\n",
      "Epoch 60/100\n",
      "6/6 - 0s - loss: 0.4359 - mae: 0.5324 - val_loss: 0.4226 - val_mae: 0.5217\n",
      "Epoch 61/100\n",
      "6/6 - 0s - loss: 0.4626 - mae: 0.5471 - val_loss: 0.3938 - val_mae: 0.4945\n",
      "Epoch 62/100\n",
      "6/6 - 0s - loss: 0.4532 - mae: 0.5397 - val_loss: 0.3778 - val_mae: 0.4874\n",
      "Epoch 63/100\n",
      "6/6 - 0s - loss: 0.4443 - mae: 0.5279 - val_loss: 0.3817 - val_mae: 0.4809\n",
      "Epoch 64/100\n",
      "6/6 - 0s - loss: 0.4524 - mae: 0.5282 - val_loss: 0.3935 - val_mae: 0.4942\n",
      "Epoch 65/100\n",
      "6/6 - 0s - loss: 0.4446 - mae: 0.5310 - val_loss: 0.4166 - val_mae: 0.5200\n",
      "Epoch 66/100\n",
      "6/6 - 0s - loss: 0.4258 - mae: 0.5109 - val_loss: 0.4150 - val_mae: 0.5140\n",
      "Epoch 67/100\n",
      "6/6 - 0s - loss: 0.4234 - mae: 0.5193 - val_loss: 0.4023 - val_mae: 0.5006\n",
      "Epoch 68/100\n",
      "6/6 - 0s - loss: 0.4230 - mae: 0.5244 - val_loss: 0.3906 - val_mae: 0.4932\n",
      "Epoch 69/100\n",
      "6/6 - 0s - loss: 0.4491 - mae: 0.5273 - val_loss: 0.3911 - val_mae: 0.5016\n",
      "Epoch 70/100\n",
      "6/6 - 0s - loss: 0.4369 - mae: 0.5390 - val_loss: 0.4191 - val_mae: 0.5070\n",
      "Epoch 71/100\n",
      "6/6 - 0s - loss: 0.4039 - mae: 0.5015 - val_loss: 0.4189 - val_mae: 0.5080\n",
      "Epoch 72/100\n",
      "6/6 - 0s - loss: 0.4047 - mae: 0.5131 - val_loss: 0.3924 - val_mae: 0.4988\n",
      "Epoch 73/100\n",
      "6/6 - 0s - loss: 0.4218 - mae: 0.5204 - val_loss: 0.3853 - val_mae: 0.4902\n",
      "Epoch 74/100\n",
      "6/6 - 0s - loss: 0.4269 - mae: 0.5222 - val_loss: 0.3897 - val_mae: 0.4994\n",
      "Epoch 75/100\n",
      "6/6 - 0s - loss: 0.4118 - mae: 0.5116 - val_loss: 0.3997 - val_mae: 0.5015\n",
      "Epoch 76/100\n",
      "6/6 - 0s - loss: 0.4272 - mae: 0.5160 - val_loss: 0.4042 - val_mae: 0.4939\n",
      "Epoch 77/100\n",
      "6/6 - 0s - loss: 0.4234 - mae: 0.5144 - val_loss: 0.3894 - val_mae: 0.4999\n",
      "Epoch 78/100\n",
      "6/6 - 0s - loss: 0.4092 - mae: 0.5089 - val_loss: 0.4241 - val_mae: 0.5266\n",
      "Epoch 79/100\n",
      "6/6 - 0s - loss: 0.4165 - mae: 0.5202 - val_loss: 0.4142 - val_mae: 0.5119\n",
      "Epoch 80/100\n",
      "6/6 - 0s - loss: 0.4091 - mae: 0.5127 - val_loss: 0.4117 - val_mae: 0.5077\n",
      "Epoch 81/100\n",
      "6/6 - 0s - loss: 0.4200 - mae: 0.5146 - val_loss: 0.4320 - val_mae: 0.5136\n",
      "Epoch 82/100\n",
      "6/6 - 0s - loss: 0.4083 - mae: 0.5109 - val_loss: 0.4075 - val_mae: 0.5041\n",
      "Epoch 83/100\n",
      "6/6 - 0s - loss: 0.3948 - mae: 0.5020 - val_loss: 0.4091 - val_mae: 0.5094\n",
      "Epoch 84/100\n",
      "6/6 - 0s - loss: 0.3991 - mae: 0.5094 - val_loss: 0.4121 - val_mae: 0.5051\n",
      "Epoch 85/100\n",
      "6/6 - 0s - loss: 0.4173 - mae: 0.5108 - val_loss: 0.4301 - val_mae: 0.5283\n",
      "Epoch 86/100\n",
      "6/6 - 0s - loss: 0.4058 - mae: 0.5111 - val_loss: 0.4464 - val_mae: 0.5358\n",
      "Epoch 87/100\n",
      "6/6 - 0s - loss: 0.3984 - mae: 0.5130 - val_loss: 0.4564 - val_mae: 0.5264\n",
      "Epoch 88/100\n",
      "6/6 - 0s - loss: 0.4287 - mae: 0.5236 - val_loss: 0.4200 - val_mae: 0.5071\n",
      "Epoch 89/100\n",
      "6/6 - 0s - loss: 0.4158 - mae: 0.5182 - val_loss: 0.4309 - val_mae: 0.5125\n",
      "Epoch 90/100\n",
      "6/6 - 0s - loss: 0.4156 - mae: 0.5126 - val_loss: 0.4187 - val_mae: 0.5166\n",
      "Epoch 91/100\n",
      "6/6 - 0s - loss: 0.4299 - mae: 0.5271 - val_loss: 0.4283 - val_mae: 0.5305\n",
      "Epoch 92/100\n",
      "6/6 - 0s - loss: 0.4188 - mae: 0.5250 - val_loss: 0.4697 - val_mae: 0.5407\n",
      "Epoch 93/100\n",
      "6/6 - 0s - loss: 0.4055 - mae: 0.5012 - val_loss: 0.4094 - val_mae: 0.5011\n",
      "Epoch 94/100\n",
      "6/6 - 0s - loss: 0.4291 - mae: 0.5205 - val_loss: 0.3871 - val_mae: 0.4929\n"
     ]
    },
    {
     "name": "stdout",
     "output_type": "stream",
     "text": [
      "Epoch 95/100\n",
      "6/6 - 0s - loss: 0.3955 - mae: 0.5068 - val_loss: 0.3890 - val_mae: 0.4959\n",
      "Epoch 96/100\n",
      "6/6 - 0s - loss: 0.3689 - mae: 0.4843 - val_loss: 0.3882 - val_mae: 0.4833\n",
      "Epoch 97/100\n",
      "6/6 - 0s - loss: 0.3830 - mae: 0.4855 - val_loss: 0.3964 - val_mae: 0.4869\n",
      "Epoch 98/100\n",
      "6/6 - 0s - loss: 0.3831 - mae: 0.4934 - val_loss: 0.4192 - val_mae: 0.5032\n",
      "Epoch 99/100\n",
      "6/6 - 0s - loss: 0.3931 - mae: 0.5036 - val_loss: 0.4035 - val_mae: 0.4913\n",
      "Epoch 100/100\n",
      "6/6 - 0s - loss: 0.3881 - mae: 0.4942 - val_loss: 0.4392 - val_mae: 0.5088\n"
     ]
    }
   ],
   "source": [
    "# Train the model, with some of the data reserved for validation\n",
    "history = model.fit(train_data, train_targets, epochs=100, validation_split=0.15, batch_size=64, verbose=2)"
   ]
  },
  {
   "cell_type": "code",
   "execution_count": 18,
   "metadata": {},
   "outputs": [
    {
     "name": "stdout",
     "output_type": "stream",
     "text": [
      "2/2 - 0s - loss: 0.6237 - mae: 0.6026\n"
     ]
    },
    {
     "data": {
      "text/plain": [
       "[0.6236792206764221, 0.602633535861969]"
      ]
     },
     "execution_count": 18,
     "metadata": {},
     "output_type": "execute_result"
    }
   ],
   "source": [
    "# Evaluate the model on the test set\n",
    "model.evaluate(test_data, test_targets, verbose=2)"
   ]
  },
  {
   "cell_type": "markdown",
   "metadata": {},
   "source": [
    "#### Plot the learning curves"
   ]
  },
  {
   "cell_type": "code",
   "execution_count": 19,
   "metadata": {},
   "outputs": [
    {
     "data": {
      "image/png": "[encoded data removed]",
      "text/plain": [
       "<Figure size 432x288 with 1 Axes>"
      ]
     },
     "metadata": {
      "needs_background": "light"
     },
     "output_type": "display_data"
    }
   ],
   "source": [
    "# Plot the training and validation loss\n",
    "\n",
    "import matplotlib.pyplot as plt\n",
    "\n",
    "plt.plot(history.history['loss'])\n",
    "plt.plot(history.history['val_loss'])\n",
    "plt.title('Loss vs. epochs')\n",
    "plt.ylabel('Loss')\n",
    "plt.xlabel('Epoch')\n",
    "plt.legend(['Training', 'Validation'], loc='upper right')\n",
    "plt.show()"
   ]
  }
 ],
 "metadata": {
  "kernelspec": {
   "display_name": "Python 3",
   "language": "python",
   "name": "python3"
  },
  "language_info": {
   "codemirror_mode": {
    "name": "ipython",
    "version": 3
   },
   "file_extension": ".py",
   "mimetype": "text/x-python",
   "name": "python",
   "nbconvert_exporter": "python",
   "pygments_lexer": "ipython3",
   "version": "3.7.6"
  }
 },
 "nbformat": 4,
 "nbformat_minor": 2
}
