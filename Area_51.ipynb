{
 "cells": [
  {
   "cell_type": "code",
   "execution_count": 1,
   "metadata": {},
   "outputs": [],
   "source": [
    "import tensorflow as tf"
   ]
  },
  {
   "cell_type": "code",
   "execution_count": 2,
   "metadata": {},
   "outputs": [],
   "source": [
    "import numpy as np\n",
    "import logging\n",
    "logger = tf.get_logger()\n",
    "logger.setLevel(logging.ERROR)"
   ]
  },
  {
   "cell_type": "code",
   "execution_count": 3,
   "metadata": {},
   "outputs": [
    {
     "name": "stdout",
     "output_type": "stream",
     "text": [
      "-40.0 degrees Celsius = -40.0 degrees Fahrenheit\n",
      "-10.0 degrees Celsius = 14.0 degrees Fahrenheit\n",
      "0.0 degrees Celsius = 32.0 degrees Fahrenheit\n",
      "8.0 degrees Celsius = 46.0 degrees Fahrenheit\n",
      "15.0 degrees Celsius = 59.0 degrees Fahrenheit\n",
      "22.0 degrees Celsius = 72.0 degrees Fahrenheit\n",
      "38.0 degrees Celsius = 100.0 degrees Fahrenheit\n"
     ]
    }
   ],
   "source": [
    "celsius_q    = np.array([-40, -10,  0,  8, 15, 22,  38],  dtype=float)\n",
    "fahrenheit_a = np.array([-40,  14, 32, 46, 59, 72, 100],  dtype=float)\n",
    "\n",
    "for i, c in enumerate(celsius_q):\n",
    "    print(f\"{c} degrees Celsius = {fahrenheit_a[i]} degrees Fahrenheit\")"
   ]
  },
  {
   "cell_type": "code",
   "execution_count": 4,
   "metadata": {},
   "outputs": [],
   "source": [
    "layer_0 = tf.keras.layers.Dense(units=1, input_shape=[1])"
   ]
  },
  {
   "cell_type": "code",
   "execution_count": 5,
   "metadata": {},
   "outputs": [],
   "source": [
    "model = tf.keras.Sequential([layer_0])"
   ]
  },
  {
   "cell_type": "code",
   "execution_count": 8,
   "metadata": {},
   "outputs": [],
   "source": [
    "model.compile(loss='mean_squared_error', optimizer=tf.keras.optimizers.Adam(0.1))"
   ]
  },
  {
   "cell_type": "code",
   "execution_count": 9,
   "metadata": {},
   "outputs": [
    {
     "name": "stdout",
     "output_type": "stream",
     "text": [
      "Finished Training the Model\n"
     ]
    }
   ],
   "source": [
    "history = model.fit(celsius_q, fahrenheit_a, epochs=500, verbose=False)\n",
    "print(\"Finished Training the Model\")"
   ]
  },
  {
   "cell_type": "code",
   "execution_count": 11,
   "metadata": {},
   "outputs": [
    {
     "data": {
      "image/png": "[encoded data removed]",
      "text/plain": [
       "<Figure size 432x288 with 1 Axes>"
      ]
     },
     "metadata": {
      "needs_background": "light"
     },
     "output_type": "display_data"
    }
   ],
   "source": [
    "# Display Training Stats\n",
    "import matplotlib.pyplot as plt\n",
    "plt.xlabel(\"Epoch Number\")\n",
    "plt.ylabel(\"Loss Magnitude\")\n",
    "plt.plot(history.history['loss']);"
   ]
  },
  {
   "cell_type": "code",
   "execution_count": 12,
   "metadata": {},
   "outputs": [
    {
     "name": "stdout",
     "output_type": "stream",
     "text": [
      "[[211.30154]]\n"
     ]
    }
   ],
   "source": [
    "# Use the model to predict values\n",
    "print(model.predict([100.0]))"
   ]
  },
  {
   "cell_type": "markdown",
   "metadata": {},
   "source": [
    "### The Correct Answer is 100 x 1.8 + 32 = 212"
   ]
  },
  {
   "cell_type": "code",
   "execution_count": 13,
   "metadata": {},
   "outputs": [
    {
     "name": "stdout",
     "output_type": "stream",
     "text": [
      "These are the layer variables: [array([[1.8254465]], dtype=float32), array([28.756899], dtype=float32)]\n"
     ]
    }
   ],
   "source": [
    "print(f\"These are the layer variables: {layer_0.get_weights()}\")"
   ]
  },
  {
   "cell_type": "code",
   "execution_count": 14,
   "metadata": {},
   "outputs": [
    {
     "name": "stdout",
     "output_type": "stream",
     "text": [
      "Finished Training Model\n",
      "[[211.74745]]\n",
      "Model predicts that 100 degrees Celsius is: [[211.74745]] degrees Fahrenheit\n",
      "These are the layer_0 variables: [array([[ 0.5500968 , -0.1305398 , -0.23083349,  0.6699288 ]],\n",
      "      dtype=float32), array([ 4.0280952,  3.2132723, -1.4098232,  4.015565 ], dtype=float32)]\n",
      "These are the layer_1 variables: [array([[ 1.2163693 ,  0.53907317, -0.01810136,  0.1109663 ],\n",
      "       [ 0.63795006,  0.748639  , -0.48431626,  0.62596166],\n",
      "       [ 0.17089358,  0.12476731, -0.97723055, -0.47191203],\n",
      "       [ 1.207564  , -0.09785204,  0.09879781, -0.31416503]],\n",
      "      dtype=float32), array([3.9437015, 3.8040357, 2.9860628, 3.194273 ], dtype=float32)]\n",
      "These are the layer_2 variables: [array([[1.2391038],\n",
      "       [0.708573 ],\n",
      "       [0.3081053],\n",
      "       [0.505927 ]], dtype=float32), array([3.6862144], dtype=float32)]\n"
     ]
    }
   ],
   "source": [
    "layer_0 = tf.keras.layers.Dense(units = 4, input_shape=[1])\n",
    "layer_1 = tf.keras.layers.Dense(units = 4)\n",
    "layer_2 = tf.keras.layers.Dense(units = 1)\n",
    "\n",
    "model = tf.keras.Sequential([layer_0, layer_1, layer_2])\n",
    "\n",
    "model.compile(loss='mean_squared_error', optimizer = tf.keras.optimizers.Adam(0.1))\n",
    "\n",
    "model.fit(celsius_q, fahrenheit_a, epochs=500, verbose=False)\n",
    "\n",
    "print(\"Finished Training Model\")\n",
    "\n",
    "print(model.predict([100.0]))\n",
    "\n",
    "print(f\"Model predicts that 100 degrees Celsius is: {model.predict([100.0])} degrees Fahrenheit\")\n",
    "print(f\"These are the layer_0 variables: {layer_0.get_weights()}\")\n",
    "print(f\"These are the layer_1 variables: {layer_1.get_weights()}\")\n",
    "print(f\"These are the layer_2 variables: {layer_2.get_weights()}\")"
   ]
  }
 ],
 "metadata": {
  "kernelspec": {
   "display_name": "Python 3",
   "language": "python",
   "name": "python3"
  },
  "language_info": {
   "codemirror_mode": {
    "name": "ipython",
    "version": 3
   },
   "file_extension": ".py",
   "mimetype": "text/x-python",
   "name": "python",
   "nbconvert_exporter": "python",
   "pygments_lexer": "ipython3",
   "version": "3.7.6"
  }
 },
 "nbformat": 4,
 "nbformat_minor": 4
}
