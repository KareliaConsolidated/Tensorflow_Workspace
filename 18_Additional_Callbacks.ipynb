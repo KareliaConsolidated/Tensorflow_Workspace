{
 "cells": [
  {
   "cell_type": "code",
   "execution_count": 1,
   "metadata": {
    "scrolled": true
   },
   "outputs": [
    {
     "name": "stdout",
     "output_type": "stream",
     "text": [
      "2.0.0\n"
     ]
    }
   ],
   "source": [
    "import tensorflow as tf\n",
    "print(tf.__version__)"
   ]
  },
  {
   "cell_type": "markdown",
   "metadata": {},
   "source": [
    "# Validation"
   ]
  },
  {
   "cell_type": "markdown",
   "metadata": {},
   "source": [
    "***\n",
    "<a id=\"coding_tutorial_1\"></a>\n",
    "## Validation sets"
   ]
  },
  {
   "cell_type": "markdown",
   "metadata": {},
   "source": [
    "#### Load the data"
   ]
  },
  {
   "cell_type": "code",
   "execution_count": 2,
   "metadata": {},
   "outputs": [
    {
     "name": "stdout",
     "output_type": "stream",
     "text": [
      ".. _diabetes_dataset:\n",
      "\n",
      "Diabetes dataset\n",
      "----------------\n",
      "\n",
      "Ten baseline variables, age, sex, body mass index, average blood\n",
      "pressure, and six blood serum measurements were obtained for each of n =\n",
      "442 diabetes patients, as well as the response of interest, a\n",
      "quantitative measure of disease progression one year after baseline.\n",
      "\n",
      "**Data Set Characteristics:**\n",
      "\n",
      "  :Number of Instances: 442\n",
      "\n",
      "  :Number of Attributes: First 10 columns are numeric predictive values\n",
      "\n",
      "  :Target: Column 11 is a quantitative measure of disease progression one year after baseline\n",
      "\n",
      "  :Attribute Information:\n",
      "      - Age\n",
      "      - Sex\n",
      "      - Body mass index\n",
      "      - Average blood pressure\n",
      "      - S1\n",
      "      - S2\n",
      "      - S3\n",
      "      - S4\n",
      "      - S5\n",
      "      - S6\n",
      "\n",
      "Note: Each of these 10 feature variables have been mean centered and scaled by the standard deviation times `n_samples` (i.e. the sum of squares of each column totals 1).\n",
      "\n",
      "Source URL:\n",
      "http://www4.stat.ncsu.edu/~boos/var.select/diabetes.html\n",
      "\n",
      "For more information see:\n",
      "Bradley Efron, Trevor Hastie, Iain Johnstone and Robert Tibshirani (2004) \"Least Angle Regression,\" Annals of Statistics (with discussion), 407-499.\n",
      "(http://web.stanford.edu/~hastie/Papers/LARS/LeastAngle_2002.pdf)\n"
     ]
    }
   ],
   "source": [
    "# Load the diabetes dataset\n",
    "\n",
    "from sklearn.datasets import load_diabetes\n",
    "\n",
    "diabetes_dataset = load_diabetes()\n",
    "print(diabetes_dataset['DESCR'])"
   ]
  },
  {
   "cell_type": "code",
   "execution_count": 3,
   "metadata": {},
   "outputs": [],
   "source": [
    "# Save the input and target variables\n",
    "\n",
    "data = diabetes_dataset[\"data\"]\n",
    "targets = diabetes_dataset[\"target\"]"
   ]
  },
  {
   "cell_type": "code",
   "execution_count": 4,
   "metadata": {},
   "outputs": [
    {
     "data": {
      "text/plain": [
       "array([-1.47194752e-02, -1.00165882e+00, -1.44579915e-01,  6.99512942e-01,\n",
       "       -2.22496178e-01, -7.15965848e-01, -1.83538046e-01, -1.15749134e+00,\n",
       "       -5.47147277e-01,  2.05006151e+00, -6.64021672e-01, -1.07957508e+00,\n",
       "        3.48889755e-01,  4.26806019e-01, -4.43258925e-01,  2.45001404e-01,\n",
       "        1.80071184e-01, -1.05621783e-01, -7.15965848e-01,  2.06043272e-01,\n",
       "       -1.09256112e+00, -1.33929596e+00, -1.09256112e+00,  1.20596866e+00,\n",
       "        4.13819975e-01,  6.47568766e-01, -1.96524090e-01, -8.71798376e-01,\n",
       "       -2.74440354e-01,  1.69943833e+00, -3.00412442e-01, -1.20943552e+00,\n",
       "        2.45262887e+00, -8.45826288e-01, -1.13151925e+00, -6.51035629e-01,\n",
       "        1.46568953e+00,  1.60853602e+00,  1.29687096e+00, -8.06868156e-01,\n",
       "       -6.77007716e-01, -1.26137969e+00, -1.18346343e+00, -7.80896068e-01,\n",
       "        1.38777327e+00, -1.28735178e+00,  4.91736239e-01, -1.31593871e-01,\n",
       "       -1.00165882e+00, -1.31593871e-01,  3.72247006e-02,  9.46247777e-01,\n",
       "       -1.20943552e+00, -6.25063541e-01,  3.87847887e-01, -3.13398486e-01,\n",
       "       -1.30033783e+00, -1.49512849e+00,  2.32015360e-01,  2.32015360e-01,\n",
       "       -1.18346343e+00, -1.05621783e-01, -1.30033783e+00, -3.13398486e-01,\n",
       "       -1.05360299e+00,  1.41113052e-01, -2.77055191e-02, -7.15965848e-01,\n",
       "        1.02154920e-01,  3.35903711e-01, -1.35228200e+00,  1.53061975e+00,\n",
       "        6.47568766e-01, -5.34161233e-01, -8.71798376e-01, -1.43019827e+00,\n",
       "        2.32015360e-01,  6.21596678e-01,  1.29687096e+00, -5.08189145e-01,\n",
       "       -1.18607827e-01, -1.31332387e+00, -1.30033783e+00,  7.51457118e-01,\n",
       "       -1.13151925e+00, -1.44579915e-01, -1.26137969e+00, -2.35482222e-01,\n",
       "       -1.43019827e+00, -5.34161233e-01, -7.02979804e-01,  1.54099096e-01,\n",
       "       -1.35228200e+00, -7.28951892e-01, -8.06868156e-01,  1.28127008e-01,\n",
       "       -2.77055191e-02,  1.64749415e+00, -7.80896068e-01, -8.97770464e-01,\n",
       "       -3.13398486e-01, -6.51035629e-01,  1.94617316e+00,  5.95624590e-01,\n",
       "       -7.41937936e-01, -1.28735178e+00, -2.35482222e-01, -1.05621783e-01,\n",
       "        1.03715008e+00, -9.23742551e-01, -6.25063541e-01, -1.20943552e+00,\n",
       "        1.21895470e+00,  1.88124294e+00,  1.37478723e+00,  9.98191953e-01,\n",
       "        1.59554997e+00,  1.67346624e+00,  3.48889755e-01,  6.21596678e-01,\n",
       "        6.21596678e-01,  2.70973492e-01,  3.61875799e-01, -8.84784420e-01,\n",
       "       -4.04300794e-01,  1.15140964e-01, -6.89993760e-01, -5.60133321e-01,\n",
       "       -4.82217057e-01,  1.50464767e+00,  1.58256393e+00,  7.61828325e-02,\n",
       "       -5.86105409e-01, -8.97770464e-01, -6.38049585e-01,  1.55659184e+00,\n",
       "       -8.71798376e-01,  1.66048019e+00,  2.38769865e+00,  1.67346624e+00,\n",
       "       -4.43258925e-01,  2.14096382e+00,  1.07610822e+00, -1.19644947e+00,\n",
       "        2.83959536e-01,  1.38777327e+00,  3.35903711e-01, -3.13398486e-01,\n",
       "       -7.28951892e-01, -3.39370574e-01,  1.76436855e+00, -8.32840244e-01,\n",
       "        1.81631272e+00, -1.05360299e+00,  5.82638546e-01,  4.39792063e-01,\n",
       "       -1.65096101e+00, -8.84784420e-01, -7.28951892e-01,  5.56666458e-01,\n",
       "       -1.28735178e+00,  8.42359425e-01,  2.57987448e-01, -2.74440354e-01,\n",
       "        8.03401293e-01, -1.20943552e+00, -1.06658903e+00,  8.81317557e-01,\n",
       "        1.50464767e+00, -1.73343121e-03, -1.36526805e+00, -1.01464486e+00,\n",
       "        1.85527085e+00, -6.64021672e-01, -1.47194752e-02, -3.26384530e-01,\n",
       "        1.10208030e+00,  9.46247777e-01, -9.23742551e-01, -1.47194752e-02,\n",
       "       -5.86105409e-01, -1.14450530e+00, -1.83538046e-01,  4.26806019e-01,\n",
       "        1.46568953e+00, -6.64021672e-01, -1.96524090e-01, -1.18607827e-01,\n",
       "       -1.44579915e-01, -9.49714639e-01,  1.81631272e+00,  3.35903711e-01,\n",
       "       -7.93882112e-01, -4.69231013e-01, -8.58812332e-01, -3.91314750e-01,\n",
       "       -1.04061695e+00, -3.00412442e-01, -1.31593871e-01, -8.06868156e-01,\n",
       "        7.61828325e-02, -1.46915640e+00,  5.69652502e-01,  9.07289645e-01,\n",
       "        1.62152206e+00, -6.89993760e-01,  5.69652502e-01,  6.47568766e-01,\n",
       "        3.72247006e-02, -9.75686727e-01,  5.04722283e-01, -1.06658903e+00,\n",
       "       -1.02763090e+00, -1.33929596e+00, -1.13151925e+00,  1.43971745e+00,\n",
       "        1.24492679e+00,  1.86825690e+00,  8.03401293e-01,  4.26806019e-01,\n",
       "       -9.62700683e-01, -7.67910024e-01,  1.29687096e+00, -2.77055191e-02,\n",
       "       -9.75686727e-01,  7.25485030e-01, -9.75686727e-01, -5.73119365e-01,\n",
       "        1.02154920e-01, -1.28735178e+00,  8.81317557e-01,  2.42386567e-02,\n",
       "        1.38777327e+00, -8.06868156e-01,  1.21895470e+00, -3.65342662e-01,\n",
       "       -1.10554717e+00, -1.04061695e+00,  1.36180118e+00,  1.42673140e+00,\n",
       "        1.59554997e+00,  3.22917667e-01, -1.05360299e+00, -1.36526805e+00,\n",
       "        4.52778107e-01, -3.52356618e-01, -9.62700683e-01, -1.31332387e+00,\n",
       "        1.37478723e+00,  8.16387337e-01,  1.95915920e+00,  1.17999657e+00,\n",
       "       -7.93882112e-01, -2.77055191e-02,  2.05006151e+00,  1.12526127e-02,\n",
       "        2.51755909e+00, -1.15749134e+00, -8.19854200e-01, -1.32630991e+00,\n",
       "       -1.46915640e+00, -6.38049585e-01,  2.02408942e+00, -4.69231013e-01,\n",
       "       -9.26357388e-02, -1.01464486e+00, -1.39124013e+00, -4.82217057e-01,\n",
       "        1.45270349e+00, -8.45826288e-01,  6.47568766e-01, -3.26384530e-01,\n",
       "        3.87847887e-01,  1.15402448e+00, -1.11853321e+00, -7.54923980e-01,\n",
       "        1.69943833e+00, -1.14450530e+00, -6.51035629e-01,  6.21596678e-01,\n",
       "        1.46568953e+00, -7.54923980e-01,  1.01117800e+00,  3.74861843e-01,\n",
       "        5.02107446e-02,  1.05013613e+00, -1.19644947e+00,  8.68331513e-01,\n",
       "       -9.36728595e-01, -1.09256112e+00,  2.33575448e+00,  1.24492679e+00,\n",
       "       -8.84784420e-01,  6.21596678e-01, -1.26137969e+00, -8.71798376e-01,\n",
       "       -8.19854200e-01, -1.57304475e+00, -3.00412442e-01, -8.97770464e-01,\n",
       "        1.59554997e+00, -1.13151925e+00,  5.95624590e-01,  1.08909426e+00,\n",
       "        1.30985701e+00, -3.65342662e-01, -1.40422618e+00,  2.57987448e-01,\n",
       "       -4.95203101e-01, -1.31593871e-01, -5.60133321e-01,  3.61875799e-01,\n",
       "       -1.05621783e-01,  1.41113052e-01, -6.66636509e-02, -7.15965848e-01,\n",
       "        8.81317557e-01,  4.91736239e-01, -5.60133321e-01,  5.04722283e-01,\n",
       "       -3.91314750e-01,  1.01117800e+00,  1.16701052e+00,  1.24492679e+00,\n",
       "        1.25791283e+00,  5.17708327e-01, -2.74440354e-01,  1.10208030e+00,\n",
       "       -9.62700683e-01, -2.22496178e-01,  1.19298261e+00,  6.08610634e-01,\n",
       "        1.53061975e+00,  1.54099096e-01, -1.04061695e+00, -7.28951892e-01,\n",
       "        1.99811734e+00, -7.93882112e-01,  8.03401293e-01, -7.41937936e-01,\n",
       "        8.29373381e-01,  1.43971745e+00,  3.35903711e-01, -5.08189145e-01,\n",
       "        6.21596678e-01, -1.70552003e-01, -1.70552003e-01, -8.32840244e-01,\n",
       "       -5.36776070e-02, -8.32840244e-01,  1.17999657e+00, -1.05360299e+00,\n",
       "       -9.75686727e-01, -5.60133321e-01,  1.55659184e+00, -1.19644947e+00,\n",
       "       -1.27436574e+00,  8.94303601e-01, -8.06868156e-01,  2.06304756e+00,\n",
       "        1.67346624e+00,  3.87847887e-01,  2.19290800e+00, -1.22242156e+00,\n",
       "        1.42673140e+00,  6.99512942e-01,  1.05013613e+00,  1.16701052e+00,\n",
       "       -3.78328706e-01,  1.93057228e-01, -1.15749134e+00,  5.82638546e-01,\n",
       "       -1.05360299e+00,  2.06043272e-01, -1.57565959e-01,  8.42359425e-01,\n",
       "       -4.04300794e-01,  1.07610822e+00,  1.20596866e+00, -1.45617035e+00,\n",
       "       -1.30033783e+00, -6.25063541e-01, -2.61454310e-01, -8.32840244e-01,\n",
       "       -1.07957508e+00,  8.68331513e-01, -1.04061695e+00,  6.34582722e-01,\n",
       "       -5.47147277e-01, -1.31332387e+00,  1.62152206e+00, -1.15749134e+00,\n",
       "       -4.43258925e-01, -1.07957508e+00,  1.56957789e+00,  1.37478723e+00,\n",
       "       -1.41721222e+00,  5.95624590e-01,  1.16701052e+00,  1.03715008e+00,\n",
       "        2.96945580e-01, -7.67910024e-01,  2.06043272e-01,  1.59554997e+00,\n",
       "        1.82929877e+00,  1.67346624e+00, -1.04061695e+00, -1.57565959e-01,\n",
       "        4.78750195e-01,  3.74861843e-01,  7.38471074e-01, -2.09510134e-01,\n",
       "        1.41374536e+00, -5.08189145e-01, -2.74440354e-01,  2.83959536e-01,\n",
       "        1.36180118e+00, -1.26137969e+00, -8.84784420e-01, -1.43019827e+00,\n",
       "       -7.96496949e-02,  7.77429206e-01,  1.05013613e+00, -7.93882112e-01,\n",
       "       -5.34161233e-01, -1.73343121e-03, -4.17286837e-01, -1.10554717e+00,\n",
       "        2.05006151e+00, -7.54923980e-01,  4.00833931e-01, -1.11853321e+00,\n",
       "        2.70973492e-01, -1.04061695e+00, -1.33929596e+00, -1.14450530e+00,\n",
       "       -1.35228200e+00,  3.35903711e-01, -6.25063541e-01, -2.61454310e-01,\n",
       "        8.81317557e-01, -1.23540761e+00])"
      ]
     },
     "execution_count": 4,
     "metadata": {},
     "output_type": "execute_result"
    }
   ],
   "source": [
    "# Normalise the target data (this will make clearer training curves)\n",
    "\n",
    "targets = (targets - targets.mean(axis=0)) / targets.std()\n",
    "targets"
   ]
  },
  {
   "cell_type": "code",
   "execution_count": 5,
   "metadata": {},
   "outputs": [
    {
     "name": "stdout",
     "output_type": "stream",
     "text": [
      "(397, 10)\n",
      "(45, 10)\n",
      "(397,)\n",
      "(45,)\n"
     ]
    }
   ],
   "source": [
    "# Split the data into train and test sets\n",
    "\n",
    "from sklearn.model_selection import train_test_split\n",
    "\n",
    "train_data, test_data, train_targets, test_targets = train_test_split(data, targets, test_size=0.1)\n",
    "\n",
    "print(train_data.shape)\n",
    "print(test_data.shape)\n",
    "print(train_targets.shape)\n",
    "print(test_targets.shape)"
   ]
  },
  {
   "cell_type": "markdown",
   "metadata": {},
   "source": [
    "#### Train a feedforward neural network model"
   ]
  },
  {
   "cell_type": "code",
   "execution_count": 6,
   "metadata": {},
   "outputs": [],
   "source": [
    "# Build the model\n",
    "\n",
    "from tensorflow.keras.models import Sequential\n",
    "from tensorflow.keras.layers import Dense\n",
    "\n",
    "def get_model():\n",
    "    model = Sequential([\n",
    "        Dense(128, activation='relu', input_shape=(train_data.shape[1],)),\n",
    "        Dense(128, activation='relu'),\n",
    "        Dense(128, activation='relu'),\n",
    "        Dense(128, activation='relu'),\n",
    "        Dense(128, activation='relu'),\n",
    "        Dense(128, activation='relu'),\n",
    "        Dense(1)\n",
    "    ])\n",
    "    \n",
    "    return model\n",
    "\n",
    "model = get_model()"
   ]
  },
  {
   "cell_type": "code",
   "execution_count": 7,
   "metadata": {},
   "outputs": [
    {
     "name": "stdout",
     "output_type": "stream",
     "text": [
      "Model: \"sequential\"\n",
      "_________________________________________________________________\n",
      "Layer (type)                 Output Shape              Param #   \n",
      "=================================================================\n",
      "dense (Dense)                (None, 128)               1408      \n",
      "_________________________________________________________________\n",
      "dense_1 (Dense)              (None, 128)               16512     \n",
      "_________________________________________________________________\n",
      "dense_2 (Dense)              (None, 128)               16512     \n",
      "_________________________________________________________________\n",
      "dense_3 (Dense)              (None, 128)               16512     \n",
      "_________________________________________________________________\n",
      "dense_4 (Dense)              (None, 128)               16512     \n",
      "_________________________________________________________________\n",
      "dense_5 (Dense)              (None, 128)               16512     \n",
      "_________________________________________________________________\n",
      "dense_6 (Dense)              (None, 1)                 129       \n",
      "=================================================================\n",
      "Total params: 84,097\n",
      "Trainable params: 84,097\n",
      "Non-trainable params: 0\n",
      "_________________________________________________________________\n"
     ]
    }
   ],
   "source": [
    "# Print the model summary\n",
    "\n",
    "model.summary()"
   ]
  },
  {
   "cell_type": "code",
   "execution_count": 8,
   "metadata": {},
   "outputs": [],
   "source": [
    "# Compile the model\n",
    "\n",
    "model.compile(optimizer='adam', loss='mse', metrics=['mae'])"
   ]
  },
  {
   "cell_type": "code",
   "execution_count": 9,
   "metadata": {
    "scrolled": true
   },
   "outputs": [
    {
     "name": "stdout",
     "output_type": "stream",
     "text": [
      "Train on 337 samples, validate on 60 samples\n",
      "Epoch 1/100\n",
      "337/337 - 2s - loss: 1.0185 - mae: 0.8756 - val_loss: 0.8292 - val_mae: 0.7376\n",
      "Epoch 2/100\n",
      "337/337 - 0s - loss: 0.9294 - mae: 0.8418 - val_loss: 0.6614 - val_mae: 0.6567\n",
      "Epoch 3/100\n",
      "337/337 - 0s - loss: 0.7506 - mae: 0.7549 - val_loss: 0.4249 - val_mae: 0.5247\n",
      "Epoch 4/100\n",
      "337/337 - 0s - loss: 0.5865 - mae: 0.6383 - val_loss: 0.3752 - val_mae: 0.4806\n",
      "Epoch 5/100\n",
      "337/337 - 0s - loss: 0.5441 - mae: 0.5876 - val_loss: 0.3401 - val_mae: 0.4543\n",
      "Epoch 6/100\n",
      "337/337 - 0s - loss: 0.5307 - mae: 0.5977 - val_loss: 0.4010 - val_mae: 0.5015\n",
      "Epoch 7/100\n",
      "337/337 - 0s - loss: 0.5027 - mae: 0.5801 - val_loss: 0.3584 - val_mae: 0.4635\n",
      "Epoch 8/100\n",
      "337/337 - 0s - loss: 0.5255 - mae: 0.5748 - val_loss: 0.3400 - val_mae: 0.4485\n",
      "Epoch 9/100\n",
      "337/337 - 0s - loss: 0.4881 - mae: 0.5622 - val_loss: 0.3221 - val_mae: 0.4422\n",
      "Epoch 10/100\n",
      "337/337 - 0s - loss: 0.4774 - mae: 0.5553 - val_loss: 0.3304 - val_mae: 0.4492\n",
      "Epoch 11/100\n",
      "337/337 - 0s - loss: 0.4515 - mae: 0.5409 - val_loss: 0.3222 - val_mae: 0.4292\n",
      "Epoch 12/100\n",
      "337/337 - 0s - loss: 0.4410 - mae: 0.5306 - val_loss: 0.3491 - val_mae: 0.4493\n",
      "Epoch 13/100\n",
      "337/337 - 0s - loss: 0.4611 - mae: 0.5383 - val_loss: 0.3639 - val_mae: 0.4580\n",
      "Epoch 14/100\n",
      "337/337 - 0s - loss: 0.4476 - mae: 0.5359 - val_loss: 0.3599 - val_mae: 0.4572\n",
      "Epoch 15/100\n",
      "337/337 - 0s - loss: 0.4231 - mae: 0.5243 - val_loss: 0.3385 - val_mae: 0.4400\n",
      "Epoch 16/100\n",
      "337/337 - 0s - loss: 0.4258 - mae: 0.5237 - val_loss: 0.3572 - val_mae: 0.4526\n",
      "Epoch 17/100\n",
      "337/337 - 0s - loss: 0.4146 - mae: 0.5147 - val_loss: 0.3579 - val_mae: 0.4489\n",
      "Epoch 18/100\n",
      "337/337 - 0s - loss: 0.4097 - mae: 0.5170 - val_loss: 0.3527 - val_mae: 0.4489\n",
      "Epoch 19/100\n",
      "337/337 - 0s - loss: 0.3974 - mae: 0.5025 - val_loss: 0.3518 - val_mae: 0.4433\n",
      "Epoch 20/100\n",
      "337/337 - 0s - loss: 0.4028 - mae: 0.4952 - val_loss: 0.4441 - val_mae: 0.5131\n",
      "Epoch 21/100\n",
      "337/337 - 0s - loss: 0.5171 - mae: 0.5859 - val_loss: 0.4283 - val_mae: 0.5141\n",
      "Epoch 22/100\n",
      "337/337 - 0s - loss: 0.4183 - mae: 0.5138 - val_loss: 0.3935 - val_mae: 0.4830\n",
      "Epoch 23/100\n",
      "337/337 - 0s - loss: 0.4013 - mae: 0.5135 - val_loss: 0.3901 - val_mae: 0.4857\n",
      "Epoch 24/100\n",
      "337/337 - 0s - loss: 0.3806 - mae: 0.4858 - val_loss: 0.4083 - val_mae: 0.4860\n",
      "Epoch 25/100\n",
      "337/337 - 0s - loss: 0.4147 - mae: 0.5078 - val_loss: 0.4317 - val_mae: 0.5159\n",
      "Epoch 26/100\n",
      "337/337 - 0s - loss: 0.4141 - mae: 0.5030 - val_loss: 0.3794 - val_mae: 0.4769\n",
      "Epoch 27/100\n",
      "337/337 - 0s - loss: 0.3621 - mae: 0.4801 - val_loss: 0.3593 - val_mae: 0.4492\n",
      "Epoch 28/100\n",
      "337/337 - 0s - loss: 0.3609 - mae: 0.4705 - val_loss: 0.3691 - val_mae: 0.4585\n",
      "Epoch 29/100\n",
      "337/337 - 0s - loss: 0.3527 - mae: 0.4608 - val_loss: 0.4238 - val_mae: 0.4990\n",
      "Epoch 30/100\n",
      "337/337 - 0s - loss: 0.3404 - mae: 0.4647 - val_loss: 0.3892 - val_mae: 0.4775\n",
      "Epoch 31/100\n",
      "337/337 - 0s - loss: 0.3229 - mae: 0.4400 - val_loss: 0.3888 - val_mae: 0.4747\n",
      "Epoch 32/100\n",
      "337/337 - 0s - loss: 0.3039 - mae: 0.4314 - val_loss: 0.4229 - val_mae: 0.5002\n",
      "Epoch 33/100\n",
      "337/337 - 0s - loss: 0.3007 - mae: 0.4371 - val_loss: 0.4160 - val_mae: 0.4917\n",
      "Epoch 34/100\n",
      "337/337 - 0s - loss: 0.3063 - mae: 0.4307 - val_loss: 0.4520 - val_mae: 0.5116\n",
      "Epoch 35/100\n",
      "337/337 - 0s - loss: 0.3003 - mae: 0.4215 - val_loss: 0.4495 - val_mae: 0.5144\n",
      "Epoch 36/100\n",
      "337/337 - 0s - loss: 0.2991 - mae: 0.4285 - val_loss: 0.4418 - val_mae: 0.5100\n",
      "Epoch 37/100\n",
      "337/337 - 0s - loss: 0.2879 - mae: 0.4131 - val_loss: 0.4339 - val_mae: 0.5172\n",
      "Epoch 38/100\n",
      "337/337 - 0s - loss: 0.2735 - mae: 0.4067 - val_loss: 0.4830 - val_mae: 0.5510\n",
      "Epoch 39/100\n",
      "337/337 - 0s - loss: 0.2546 - mae: 0.3926 - val_loss: 0.4664 - val_mae: 0.5291\n",
      "Epoch 40/100\n",
      "337/337 - 0s - loss: 0.2431 - mae: 0.3806 - val_loss: 0.4778 - val_mae: 0.5365\n",
      "Epoch 41/100\n",
      "337/337 - 0s - loss: 0.2298 - mae: 0.3654 - val_loss: 0.5481 - val_mae: 0.5646\n",
      "Epoch 42/100\n",
      "337/337 - 0s - loss: 0.2495 - mae: 0.3805 - val_loss: 0.5438 - val_mae: 0.5600\n",
      "Epoch 43/100\n",
      "337/337 - 0s - loss: 0.2319 - mae: 0.3763 - val_loss: 0.4960 - val_mae: 0.5443\n",
      "Epoch 44/100\n",
      "337/337 - 0s - loss: 0.2307 - mae: 0.3714 - val_loss: 0.5210 - val_mae: 0.5514\n",
      "Epoch 45/100\n",
      "337/337 - 0s - loss: 0.2298 - mae: 0.3768 - val_loss: 0.5481 - val_mae: 0.5641\n",
      "Epoch 46/100\n",
      "337/337 - 0s - loss: 0.2069 - mae: 0.3586 - val_loss: 0.5878 - val_mae: 0.5804\n",
      "Epoch 47/100\n",
      "337/337 - 0s - loss: 0.2522 - mae: 0.3800 - val_loss: 0.5828 - val_mae: 0.5761\n",
      "Epoch 48/100\n",
      "337/337 - 0s - loss: 0.2153 - mae: 0.3667 - val_loss: 0.6152 - val_mae: 0.5937\n",
      "Epoch 49/100\n",
      "337/337 - 0s - loss: 0.2097 - mae: 0.3608 - val_loss: 0.5456 - val_mae: 0.5522\n",
      "Epoch 50/100\n",
      "337/337 - 0s - loss: 0.2205 - mae: 0.3579 - val_loss: 0.5351 - val_mae: 0.5548\n",
      "Epoch 51/100\n",
      "337/337 - 0s - loss: 0.2087 - mae: 0.3588 - val_loss: 0.7903 - val_mae: 0.6820\n",
      "Epoch 52/100\n",
      "337/337 - 0s - loss: 0.2438 - mae: 0.3823 - val_loss: 0.4883 - val_mae: 0.5222\n",
      "Epoch 53/100\n",
      "337/337 - 0s - loss: 0.1830 - mae: 0.3384 - val_loss: 0.4980 - val_mae: 0.5349\n",
      "Epoch 54/100\n",
      "337/337 - 0s - loss: 0.1656 - mae: 0.3185 - val_loss: 0.5915 - val_mae: 0.5810\n",
      "Epoch 55/100\n",
      "337/337 - 0s - loss: 0.1789 - mae: 0.3344 - val_loss: 0.5953 - val_mae: 0.5747\n",
      "Epoch 56/100\n",
      "337/337 - 0s - loss: 0.1538 - mae: 0.3059 - val_loss: 0.6750 - val_mae: 0.6260\n",
      "Epoch 57/100\n",
      "337/337 - 0s - loss: 0.2007 - mae: 0.3598 - val_loss: 0.5816 - val_mae: 0.5735\n",
      "Epoch 58/100\n",
      "337/337 - 0s - loss: 0.1804 - mae: 0.3359 - val_loss: 0.7813 - val_mae: 0.6633\n",
      "Epoch 59/100\n",
      "337/337 - 0s - loss: 0.2013 - mae: 0.3571 - val_loss: 0.5246 - val_mae: 0.5501\n",
      "Epoch 60/100\n",
      "337/337 - 0s - loss: 0.1514 - mae: 0.3036 - val_loss: 0.5827 - val_mae: 0.5682\n",
      "Epoch 61/100\n",
      "337/337 - 0s - loss: 0.1716 - mae: 0.3165 - val_loss: 0.5728 - val_mae: 0.5574\n",
      "Epoch 62/100\n",
      "337/337 - 0s - loss: 0.1438 - mae: 0.2816 - val_loss: 0.6143 - val_mae: 0.5856\n",
      "Epoch 63/100\n",
      "337/337 - 0s - loss: 0.1203 - mae: 0.2644 - val_loss: 0.6335 - val_mae: 0.6135\n",
      "Epoch 64/100\n",
      "337/337 - 0s - loss: 0.1103 - mae: 0.2518 - val_loss: 0.8118 - val_mae: 0.6751\n",
      "Epoch 65/100\n",
      "337/337 - 0s - loss: 0.1424 - mae: 0.2846 - val_loss: 0.6971 - val_mae: 0.6219\n",
      "Epoch 66/100\n",
      "337/337 - 0s - loss: 0.1220 - mae: 0.2656 - val_loss: 0.6090 - val_mae: 0.5777\n",
      "Epoch 67/100\n",
      "337/337 - 0s - loss: 0.1028 - mae: 0.2441 - val_loss: 0.5730 - val_mae: 0.5525\n",
      "Epoch 68/100\n",
      "337/337 - 0s - loss: 0.1034 - mae: 0.2403 - val_loss: 0.6260 - val_mae: 0.5863\n",
      "Epoch 69/100\n",
      "337/337 - 0s - loss: 0.1290 - mae: 0.2798 - val_loss: 0.7485 - val_mae: 0.6478\n",
      "Epoch 70/100\n",
      "337/337 - 0s - loss: 0.1194 - mae: 0.2616 - val_loss: 0.7214 - val_mae: 0.6354\n",
      "Epoch 71/100\n",
      "337/337 - 0s - loss: 0.1207 - mae: 0.2722 - val_loss: 0.5870 - val_mae: 0.5606\n",
      "Epoch 72/100\n",
      "337/337 - 0s - loss: 0.1131 - mae: 0.2647 - val_loss: 0.7367 - val_mae: 0.6398\n",
      "Epoch 73/100\n",
      "337/337 - 0s - loss: 0.0991 - mae: 0.2369 - val_loss: 0.6110 - val_mae: 0.5823\n",
      "Epoch 74/100\n",
      "337/337 - 0s - loss: 0.0972 - mae: 0.2391 - val_loss: 0.6633 - val_mae: 0.6130\n",
      "Epoch 75/100\n",
      "337/337 - 0s - loss: 0.1149 - mae: 0.2667 - val_loss: 0.6832 - val_mae: 0.6169\n",
      "Epoch 76/100\n",
      "337/337 - 0s - loss: 0.0912 - mae: 0.2314 - val_loss: 0.6416 - val_mae: 0.6012\n",
      "Epoch 77/100\n",
      "337/337 - 0s - loss: 0.0912 - mae: 0.2338 - val_loss: 0.7434 - val_mae: 0.6435\n",
      "Epoch 78/100\n",
      "337/337 - 0s - loss: 0.0895 - mae: 0.2221 - val_loss: 0.7122 - val_mae: 0.6377\n",
      "Epoch 79/100\n",
      "337/337 - 0s - loss: 0.0759 - mae: 0.2053 - val_loss: 0.6648 - val_mae: 0.6138\n",
      "Epoch 80/100\n",
      "337/337 - 0s - loss: 0.0718 - mae: 0.1963 - val_loss: 0.6983 - val_mae: 0.6298\n",
      "Epoch 81/100\n",
      "337/337 - 0s - loss: 0.0632 - mae: 0.1841 - val_loss: 0.7135 - val_mae: 0.6255\n",
      "Epoch 82/100\n",
      "337/337 - 0s - loss: 0.0781 - mae: 0.2140 - val_loss: 0.8031 - val_mae: 0.6886\n",
      "Epoch 83/100\n",
      "337/337 - 0s - loss: 0.0757 - mae: 0.2163 - val_loss: 0.6898 - val_mae: 0.5993\n",
      "Epoch 84/100\n",
      "337/337 - 0s - loss: 0.0742 - mae: 0.2150 - val_loss: 0.7352 - val_mae: 0.6475\n",
      "Epoch 85/100\n",
      "337/337 - 0s - loss: 0.0657 - mae: 0.1945 - val_loss: 0.6867 - val_mae: 0.6167\n",
      "Epoch 86/100\n",
      "337/337 - 0s - loss: 0.0526 - mae: 0.1739 - val_loss: 0.7060 - val_mae: 0.6368\n",
      "Epoch 87/100\n",
      "337/337 - 0s - loss: 0.0549 - mae: 0.1762 - val_loss: 0.7234 - val_mae: 0.6240\n",
      "Epoch 88/100\n",
      "337/337 - 0s - loss: 0.0600 - mae: 0.1874 - val_loss: 0.8197 - val_mae: 0.6708\n",
      "Epoch 89/100\n",
      "337/337 - 0s - loss: 0.0531 - mae: 0.1752 - val_loss: 0.8084 - val_mae: 0.6967\n",
      "Epoch 90/100\n",
      "337/337 - 0s - loss: 0.0741 - mae: 0.2160 - val_loss: 0.7641 - val_mae: 0.6522\n",
      "Epoch 91/100\n",
      "337/337 - 0s - loss: 0.0484 - mae: 0.1715 - val_loss: 0.7209 - val_mae: 0.6155\n",
      "Epoch 92/100\n",
      "337/337 - 0s - loss: 0.0492 - mae: 0.1689 - val_loss: 0.7613 - val_mae: 0.6497\n",
      "Epoch 93/100\n",
      "337/337 - 0s - loss: 0.0503 - mae: 0.1695 - val_loss: 0.7512 - val_mae: 0.6381\n",
      "Epoch 94/100\n",
      "337/337 - 0s - loss: 0.0482 - mae: 0.1658 - val_loss: 0.7618 - val_mae: 0.6576\n",
      "Epoch 95/100\n",
      "337/337 - 0s - loss: 0.0371 - mae: 0.1441 - val_loss: 0.7328 - val_mae: 0.6360\n",
      "Epoch 96/100\n",
      "337/337 - 0s - loss: 0.0396 - mae: 0.1536 - val_loss: 0.7383 - val_mae: 0.6407\n",
      "Epoch 97/100\n",
      "337/337 - 0s - loss: 0.0414 - mae: 0.1588 - val_loss: 0.7815 - val_mae: 0.6623\n",
      "Epoch 98/100\n",
      "337/337 - 0s - loss: 0.0418 - mae: 0.1549 - val_loss: 0.7580 - val_mae: 0.6463\n",
      "Epoch 99/100\n",
      "337/337 - 0s - loss: 0.0381 - mae: 0.1478 - val_loss: 0.7423 - val_mae: 0.6370\n",
      "Epoch 100/100\n",
      "337/337 - 0s - loss: 0.0321 - mae: 0.1326 - val_loss: 0.7564 - val_mae: 0.6305\n"
     ]
    }
   ],
   "source": [
    "# Train the model, with some of the data reserved for validation\n",
    "\n",
    "history = model.fit(train_data, train_targets, epochs=100, validation_split=0.15, batch_size=64, verbose=2)"
   ]
  },
  {
   "cell_type": "code",
   "execution_count": 10,
   "metadata": {},
   "outputs": [
    {
     "name": "stdout",
     "output_type": "stream",
     "text": [
      "45/1 - 0s - loss: 0.9881 - mae: 0.7895\n"
     ]
    },
    {
     "data": {
      "text/plain": [
       "[1.1275496853722466, 0.7895249]"
      ]
     },
     "execution_count": 10,
     "metadata": {},
     "output_type": "execute_result"
    }
   ],
   "source": [
    "# Evaluate the model on the test set\n",
    "\n",
    "model.evaluate(test_data, test_targets, verbose=2)"
   ]
  },
  {
   "cell_type": "markdown",
   "metadata": {},
   "source": [
    "#### Plot the learning curves"
   ]
  },
  {
   "cell_type": "code",
   "execution_count": 11,
   "metadata": {},
   "outputs": [],
   "source": [
    "import matplotlib.pyplot as plt\n",
    "%matplotlib inline"
   ]
  },
  {
   "cell_type": "code",
   "execution_count": 12,
   "metadata": {},
   "outputs": [
    {
     "data": {
      "image/png": "[encoded data removed]",
      "text/plain": [
       "<Figure size 432x288 with 1 Axes>"
      ]
     },
     "metadata": {
      "needs_background": "light"
     },
     "output_type": "display_data"
    }
   ],
   "source": [
    "# Plot the training and validation loss\n",
    "\n",
    "plt.plot(history.history['loss'])\n",
    "plt.plot(history.history['val_loss'])\n",
    "plt.title('Loss vs. epochs')\n",
    "plt.ylabel('Loss')\n",
    "plt.xlabel('Epoch')\n",
    "plt.legend(['Training', 'Validation'], loc='upper right')\n",
    "plt.show()"
   ]
  },
  {
   "cell_type": "markdown",
   "metadata": {},
   "source": [
    "***\n",
    "<a id=\"coding_tutorial_2\"></a>\n",
    "## Model regularisation"
   ]
  },
  {
   "cell_type": "markdown",
   "metadata": {},
   "source": [
    "#### Adding regularisation with weight decay and dropout"
   ]
  },
  {
   "cell_type": "code",
   "execution_count": 13,
   "metadata": {},
   "outputs": [],
   "source": [
    "from tensorflow.keras.layers import Dropout\n",
    "from tensorflow.keras import regularizers"
   ]
  },
  {
   "cell_type": "code",
   "execution_count": 14,
   "metadata": {},
   "outputs": [],
   "source": [
    "def get_regularized_model(wd, rate):\n",
    "    model = Sequential([\n",
    "        Dense(128, kernel_regularizer=regularizers.l2(wd), activation='relu', input_shape=(train_data.shape[1],)),\n",
    "        Dropout(rate),\n",
    "        Dense(128, kernel_regularizer=regularizers.l2(wd), activation='relu'),\n",
    "        Dropout(rate),\n",
    "        Dense(128, kernel_regularizer=regularizers.l2(wd), activation='relu'),\n",
    "        Dropout(rate),\n",
    "        Dense(128, kernel_regularizer=regularizers.l2(wd), activation='relu'),\n",
    "        Dropout(rate),\n",
    "        Dense(128, kernel_regularizer=regularizers.l2(wd), activation='relu'),\n",
    "        Dropout(rate),\n",
    "        Dense(128, kernel_regularizer=regularizers.l2(wd), activation='relu'),\n",
    "        Dropout(rate),\n",
    "        Dense(1)\n",
    "    ])\n",
    "    \n",
    "    return model"
   ]
  },
  {
   "cell_type": "code",
   "execution_count": 15,
   "metadata": {},
   "outputs": [],
   "source": [
    "# Re-build the model with weight decay and dropout layers\n",
    "model = get_regularized_model(1e-5, 0.3)"
   ]
  },
  {
   "cell_type": "code",
   "execution_count": 16,
   "metadata": {},
   "outputs": [],
   "source": [
    "# Compile the model\n",
    "model.compile(optimizer='adam', loss='mse', metrics=['mae'])"
   ]
  },
  {
   "cell_type": "code",
   "execution_count": 17,
   "metadata": {
    "scrolled": true
   },
   "outputs": [
    {
     "name": "stdout",
     "output_type": "stream",
     "text": [
      "Train on 337 samples, validate on 60 samples\n",
      "Epoch 1/100\n",
      "337/337 - 2s - loss: 1.0366 - mae: 0.8780 - val_loss: 0.8745 - val_mae: 0.7527\n",
      "Epoch 2/100\n",
      "337/337 - 0s - loss: 1.0242 - mae: 0.8717 - val_loss: 0.8361 - val_mae: 0.7341\n",
      "Epoch 3/100\n",
      "337/337 - 0s - loss: 0.9808 - mae: 0.8510 - val_loss: 0.7319 - val_mae: 0.6823\n",
      "Epoch 4/100\n",
      "337/337 - 0s - loss: 0.8834 - mae: 0.7966 - val_loss: 0.5634 - val_mae: 0.5930\n",
      "Epoch 5/100\n",
      "337/337 - 0s - loss: 0.7255 - mae: 0.7098 - val_loss: 0.4563 - val_mae: 0.5459\n",
      "Epoch 6/100\n",
      "337/337 - 0s - loss: 0.7041 - mae: 0.6936 - val_loss: 0.4121 - val_mae: 0.5183\n",
      "Epoch 7/100\n",
      "337/337 - 0s - loss: 0.6258 - mae: 0.6561 - val_loss: 0.3788 - val_mae: 0.4973\n",
      "Epoch 8/100\n",
      "337/337 - 0s - loss: 0.6128 - mae: 0.6456 - val_loss: 0.3524 - val_mae: 0.4810\n",
      "Epoch 9/100\n",
      "337/337 - 0s - loss: 0.5707 - mae: 0.6080 - val_loss: 0.3319 - val_mae: 0.4621\n",
      "Epoch 10/100\n",
      "337/337 - 0s - loss: 0.5924 - mae: 0.6212 - val_loss: 0.3269 - val_mae: 0.4559\n",
      "Epoch 11/100\n",
      "337/337 - 0s - loss: 0.5790 - mae: 0.6113 - val_loss: 0.3428 - val_mae: 0.4671\n",
      "Epoch 12/100\n",
      "337/337 - 0s - loss: 0.5684 - mae: 0.6140 - val_loss: 0.3443 - val_mae: 0.4635\n",
      "Epoch 13/100\n",
      "337/337 - 0s - loss: 0.5918 - mae: 0.6301 - val_loss: 0.3431 - val_mae: 0.4690\n",
      "Epoch 14/100\n",
      "337/337 - 0s - loss: 0.5731 - mae: 0.6103 - val_loss: 0.3346 - val_mae: 0.4626\n",
      "Epoch 15/100\n",
      "337/337 - 0s - loss: 0.5255 - mae: 0.5866 - val_loss: 0.3330 - val_mae: 0.4595\n",
      "Epoch 16/100\n",
      "337/337 - 0s - loss: 0.5286 - mae: 0.6083 - val_loss: 0.3240 - val_mae: 0.4464\n",
      "Epoch 17/100\n",
      "337/337 - 0s - loss: 0.5567 - mae: 0.5942 - val_loss: 0.3206 - val_mae: 0.4448\n",
      "Epoch 18/100\n",
      "337/337 - 0s - loss: 0.5626 - mae: 0.6149 - val_loss: 0.3370 - val_mae: 0.4576\n",
      "Epoch 19/100\n",
      "337/337 - 0s - loss: 0.5318 - mae: 0.6080 - val_loss: 0.3423 - val_mae: 0.4624\n",
      "Epoch 20/100\n",
      "337/337 - 0s - loss: 0.5576 - mae: 0.6096 - val_loss: 0.3278 - val_mae: 0.4530\n",
      "Epoch 21/100\n",
      "337/337 - 0s - loss: 0.5406 - mae: 0.5767 - val_loss: 0.3260 - val_mae: 0.4494\n",
      "Epoch 22/100\n",
      "337/337 - 0s - loss: 0.5477 - mae: 0.6040 - val_loss: 0.3495 - val_mae: 0.4614\n",
      "Epoch 23/100\n",
      "337/337 - 0s - loss: 0.5466 - mae: 0.6103 - val_loss: 0.3392 - val_mae: 0.4634\n",
      "Epoch 24/100\n",
      "337/337 - 0s - loss: 0.5305 - mae: 0.5867 - val_loss: 0.3225 - val_mae: 0.4379\n",
      "Epoch 25/100\n",
      "337/337 - 0s - loss: 0.5072 - mae: 0.5699 - val_loss: 0.3224 - val_mae: 0.4472\n",
      "Epoch 26/100\n",
      "337/337 - 0s - loss: 0.5281 - mae: 0.5790 - val_loss: 0.3576 - val_mae: 0.4790\n",
      "Epoch 27/100\n",
      "337/337 - 0s - loss: 0.5253 - mae: 0.5933 - val_loss: 0.3207 - val_mae: 0.4436\n",
      "Epoch 28/100\n",
      "337/337 - 0s - loss: 0.5024 - mae: 0.5640 - val_loss: 0.3375 - val_mae: 0.4605\n",
      "Epoch 29/100\n",
      "337/337 - 0s - loss: 0.5181 - mae: 0.5783 - val_loss: 0.3231 - val_mae: 0.4453\n",
      "Epoch 30/100\n",
      "337/337 - 0s - loss: 0.5167 - mae: 0.5731 - val_loss: 0.3541 - val_mae: 0.4743\n",
      "Epoch 31/100\n",
      "337/337 - 0s - loss: 0.5041 - mae: 0.5799 - val_loss: 0.3375 - val_mae: 0.4508\n",
      "Epoch 32/100\n",
      "337/337 - 0s - loss: 0.5051 - mae: 0.5799 - val_loss: 0.3337 - val_mae: 0.4480\n",
      "Epoch 33/100\n",
      "337/337 - 0s - loss: 0.5158 - mae: 0.5817 - val_loss: 0.3368 - val_mae: 0.4548\n",
      "Epoch 34/100\n",
      "337/337 - 0s - loss: 0.4847 - mae: 0.5600 - val_loss: 0.3454 - val_mae: 0.4632\n",
      "Epoch 35/100\n",
      "337/337 - 0s - loss: 0.4829 - mae: 0.5594 - val_loss: 0.3367 - val_mae: 0.4485\n",
      "Epoch 36/100\n",
      "337/337 - 0s - loss: 0.4970 - mae: 0.5637 - val_loss: 0.3523 - val_mae: 0.4708\n",
      "Epoch 37/100\n",
      "337/337 - 0s - loss: 0.5157 - mae: 0.5663 - val_loss: 0.3545 - val_mae: 0.4802\n",
      "Epoch 38/100\n",
      "337/337 - 0s - loss: 0.5171 - mae: 0.5879 - val_loss: 0.3839 - val_mae: 0.4822\n",
      "Epoch 39/100\n",
      "337/337 - 0s - loss: 0.4576 - mae: 0.5473 - val_loss: 0.3817 - val_mae: 0.4918\n",
      "Epoch 40/100\n",
      "337/337 - 0s - loss: 0.5008 - mae: 0.5607 - val_loss: 0.3159 - val_mae: 0.4479\n",
      "Epoch 41/100\n",
      "337/337 - 0s - loss: 0.4819 - mae: 0.5657 - val_loss: 0.3498 - val_mae: 0.4837\n",
      "Epoch 42/100\n",
      "337/337 - 0s - loss: 0.4696 - mae: 0.5460 - val_loss: 0.3733 - val_mae: 0.4978\n",
      "Epoch 43/100\n",
      "337/337 - 0s - loss: 0.4682 - mae: 0.5509 - val_loss: 0.3677 - val_mae: 0.4596\n",
      "Epoch 44/100\n",
      "337/337 - 0s - loss: 0.4956 - mae: 0.5516 - val_loss: 0.3623 - val_mae: 0.4699\n",
      "Epoch 45/100\n",
      "337/337 - 0s - loss: 0.4539 - mae: 0.5420 - val_loss: 0.3571 - val_mae: 0.4727\n",
      "Epoch 46/100\n",
      "337/337 - 0s - loss: 0.4379 - mae: 0.5258 - val_loss: 0.3444 - val_mae: 0.4700\n",
      "Epoch 47/100\n",
      "337/337 - 0s - loss: 0.4484 - mae: 0.5363 - val_loss: 0.3552 - val_mae: 0.4700\n",
      "Epoch 48/100\n",
      "337/337 - 0s - loss: 0.4317 - mae: 0.5257 - val_loss: 0.3740 - val_mae: 0.4954\n",
      "Epoch 49/100\n",
      "337/337 - 0s - loss: 0.4385 - mae: 0.5256 - val_loss: 0.3562 - val_mae: 0.4703\n",
      "Epoch 50/100\n",
      "337/337 - 0s - loss: 0.4856 - mae: 0.5500 - val_loss: 0.3515 - val_mae: 0.4689\n",
      "Epoch 51/100\n",
      "337/337 - 0s - loss: 0.4426 - mae: 0.5349 - val_loss: 0.3746 - val_mae: 0.4945\n",
      "Epoch 52/100\n",
      "337/337 - 0s - loss: 0.4517 - mae: 0.5300 - val_loss: 0.3518 - val_mae: 0.4611\n",
      "Epoch 53/100\n",
      "337/337 - 0s - loss: 0.4712 - mae: 0.5620 - val_loss: 0.3692 - val_mae: 0.4898\n",
      "Epoch 54/100\n",
      "337/337 - 0s - loss: 0.4681 - mae: 0.5459 - val_loss: 0.3537 - val_mae: 0.4631\n",
      "Epoch 55/100\n",
      "337/337 - 0s - loss: 0.4322 - mae: 0.5373 - val_loss: 0.3596 - val_mae: 0.4673\n",
      "Epoch 56/100\n",
      "337/337 - 0s - loss: 0.4100 - mae: 0.5193 - val_loss: 0.3995 - val_mae: 0.4825\n",
      "Epoch 57/100\n",
      "337/337 - 0s - loss: 0.4425 - mae: 0.5300 - val_loss: 0.4131 - val_mae: 0.5065\n",
      "Epoch 58/100\n",
      "337/337 - 0s - loss: 0.4306 - mae: 0.5281 - val_loss: 0.3959 - val_mae: 0.5008\n",
      "Epoch 59/100\n",
      "337/337 - 0s - loss: 0.4336 - mae: 0.5309 - val_loss: 0.3625 - val_mae: 0.4784\n",
      "Epoch 60/100\n",
      "337/337 - 0s - loss: 0.4077 - mae: 0.5088 - val_loss: 0.3436 - val_mae: 0.4708\n",
      "Epoch 61/100\n",
      "337/337 - 0s - loss: 0.4363 - mae: 0.5266 - val_loss: 0.3594 - val_mae: 0.4851\n",
      "Epoch 62/100\n",
      "337/337 - 0s - loss: 0.4159 - mae: 0.5050 - val_loss: 0.3546 - val_mae: 0.4786\n",
      "Epoch 63/100\n",
      "337/337 - 0s - loss: 0.4305 - mae: 0.5296 - val_loss: 0.3705 - val_mae: 0.4712\n",
      "Epoch 64/100\n",
      "337/337 - 0s - loss: 0.4107 - mae: 0.4991 - val_loss: 0.3643 - val_mae: 0.4726\n",
      "Epoch 65/100\n",
      "337/337 - 0s - loss: 0.4115 - mae: 0.5112 - val_loss: 0.3564 - val_mae: 0.4650\n",
      "Epoch 66/100\n",
      "337/337 - 0s - loss: 0.4326 - mae: 0.5196 - val_loss: 0.3559 - val_mae: 0.4689\n",
      "Epoch 67/100\n",
      "337/337 - 0s - loss: 0.4461 - mae: 0.5454 - val_loss: 0.3438 - val_mae: 0.4574\n",
      "Epoch 68/100\n",
      "337/337 - 0s - loss: 0.3880 - mae: 0.4927 - val_loss: 0.3439 - val_mae: 0.4599\n",
      "Epoch 69/100\n",
      "337/337 - 0s - loss: 0.3962 - mae: 0.5006 - val_loss: 0.3369 - val_mae: 0.4603\n",
      "Epoch 70/100\n",
      "337/337 - 0s - loss: 0.3758 - mae: 0.4924 - val_loss: 0.3581 - val_mae: 0.4701\n",
      "Epoch 71/100\n",
      "337/337 - 0s - loss: 0.3855 - mae: 0.4947 - val_loss: 0.3385 - val_mae: 0.4535\n",
      "Epoch 72/100\n",
      "337/337 - 0s - loss: 0.4400 - mae: 0.5226 - val_loss: 0.3602 - val_mae: 0.4693\n",
      "Epoch 73/100\n",
      "337/337 - 0s - loss: 0.3905 - mae: 0.5037 - val_loss: 0.3996 - val_mae: 0.4956\n",
      "Epoch 74/100\n",
      "337/337 - 0s - loss: 0.3907 - mae: 0.4911 - val_loss: 0.3976 - val_mae: 0.4964\n",
      "Epoch 75/100\n",
      "337/337 - 0s - loss: 0.4128 - mae: 0.5073 - val_loss: 0.3788 - val_mae: 0.4826\n",
      "Epoch 76/100\n",
      "337/337 - 0s - loss: 0.4158 - mae: 0.5125 - val_loss: 0.3524 - val_mae: 0.4738\n",
      "Epoch 77/100\n",
      "337/337 - 0s - loss: 0.4166 - mae: 0.5186 - val_loss: 0.3471 - val_mae: 0.4685\n",
      "Epoch 78/100\n",
      "337/337 - 0s - loss: 0.4012 - mae: 0.5078 - val_loss: 0.3366 - val_mae: 0.4654\n",
      "Epoch 79/100\n",
      "337/337 - 0s - loss: 0.4120 - mae: 0.5051 - val_loss: 0.3623 - val_mae: 0.4775\n",
      "Epoch 80/100\n",
      "337/337 - 0s - loss: 0.3948 - mae: 0.4914 - val_loss: 0.3832 - val_mae: 0.4899\n",
      "Epoch 81/100\n",
      "337/337 - 0s - loss: 0.3895 - mae: 0.4886 - val_loss: 0.3417 - val_mae: 0.4606\n",
      "Epoch 82/100\n",
      "337/337 - 0s - loss: 0.4042 - mae: 0.5071 - val_loss: 0.3496 - val_mae: 0.4651\n",
      "Epoch 83/100\n",
      "337/337 - 0s - loss: 0.3683 - mae: 0.4839 - val_loss: 0.3371 - val_mae: 0.4577\n",
      "Epoch 84/100\n",
      "337/337 - 0s - loss: 0.3896 - mae: 0.4817 - val_loss: 0.3643 - val_mae: 0.4729\n",
      "Epoch 85/100\n",
      "337/337 - 0s - loss: 0.3767 - mae: 0.4735 - val_loss: 0.3904 - val_mae: 0.4889\n",
      "Epoch 86/100\n",
      "337/337 - 0s - loss: 0.3722 - mae: 0.4870 - val_loss: 0.3589 - val_mae: 0.4738\n",
      "Epoch 87/100\n",
      "337/337 - 0s - loss: 0.4137 - mae: 0.5083 - val_loss: 0.3998 - val_mae: 0.5098\n",
      "Epoch 88/100\n",
      "337/337 - 0s - loss: 0.3613 - mae: 0.4810 - val_loss: 0.3635 - val_mae: 0.4812\n",
      "Epoch 89/100\n",
      "337/337 - 0s - loss: 0.3809 - mae: 0.4808 - val_loss: 0.3485 - val_mae: 0.4642\n",
      "Epoch 90/100\n",
      "337/337 - 0s - loss: 0.3455 - mae: 0.4649 - val_loss: 0.3574 - val_mae: 0.4639\n",
      "Epoch 91/100\n",
      "337/337 - 0s - loss: 0.3365 - mae: 0.4666 - val_loss: 0.3905 - val_mae: 0.4804\n",
      "Epoch 92/100\n",
      "337/337 - 0s - loss: 0.3524 - mae: 0.4761 - val_loss: 0.4107 - val_mae: 0.4926\n",
      "Epoch 93/100\n",
      "337/337 - 0s - loss: 0.3718 - mae: 0.4717 - val_loss: 0.3642 - val_mae: 0.4731\n",
      "Epoch 94/100\n",
      "337/337 - 0s - loss: 0.3599 - mae: 0.4670 - val_loss: 0.3855 - val_mae: 0.4842\n",
      "Epoch 95/100\n",
      "337/337 - 0s - loss: 0.3708 - mae: 0.4717 - val_loss: 0.4036 - val_mae: 0.4933\n",
      "Epoch 96/100\n",
      "337/337 - 0s - loss: 0.3878 - mae: 0.4826 - val_loss: 0.4147 - val_mae: 0.4925\n",
      "Epoch 97/100\n",
      "337/337 - 0s - loss: 0.3658 - mae: 0.4797 - val_loss: 0.4841 - val_mae: 0.5284\n",
      "Epoch 98/100\n",
      "337/337 - 0s - loss: 0.3701 - mae: 0.4762 - val_loss: 0.3814 - val_mae: 0.4833\n",
      "Epoch 99/100\n",
      "337/337 - 0s - loss: 0.3894 - mae: 0.4864 - val_loss: 0.4024 - val_mae: 0.4882\n",
      "Epoch 100/100\n",
      "337/337 - 0s - loss: 0.3737 - mae: 0.4797 - val_loss: 0.3902 - val_mae: 0.4764\n"
     ]
    }
   ],
   "source": [
    "# Train the model, with some of the data reserved for validation\n",
    "history = model.fit(train_data, train_targets, epochs=100, validation_split=0.15, batch_size=64, verbose=2)"
   ]
  },
  {
   "cell_type": "code",
   "execution_count": 18,
   "metadata": {},
   "outputs": [
    {
     "name": "stdout",
     "output_type": "stream",
     "text": [
      "45/1 - 0s - loss: 0.5289 - mae: 0.6183\n"
     ]
    },
    {
     "data": {
      "text/plain": [
       "[0.5510452654626634, 0.6182886]"
      ]
     },
     "execution_count": 18,
     "metadata": {},
     "output_type": "execute_result"
    }
   ],
   "source": [
    "# Evaluate the model on the test set\n",
    "model.evaluate(test_data, test_targets, verbose=2)"
   ]
  },
  {
   "cell_type": "code",
   "execution_count": 19,
   "metadata": {
    "scrolled": true
   },
   "outputs": [
    {
     "data": {
      "image/png": "[encoded data removed]",
      "text/plain": [
       "<Figure size 432x288 with 1 Axes>"
      ]
     },
     "metadata": {
      "needs_background": "light"
     },
     "output_type": "display_data"
    }
   ],
   "source": [
    "# Plot the training and validation loss\n",
    "\n",
    "import matplotlib.pyplot as plt\n",
    "\n",
    "plt.plot(history.history['loss'])\n",
    "plt.plot(history.history['val_loss'])\n",
    "plt.title('Loss vs. epochs')\n",
    "plt.ylabel('Loss')\n",
    "plt.xlabel('Epoch')\n",
    "plt.legend(['Training', 'Validation'], loc='upper right')\n",
    "plt.show()"
   ]
  },
  {
   "cell_type": "markdown",
   "metadata": {},
   "source": [
    "***\n",
    "<a id=\"coding_tutorial_3\"></a>\n",
    "## Introduction to callbacks"
   ]
  },
  {
   "cell_type": "markdown",
   "metadata": {},
   "source": [
    "#### Example training callback"
   ]
  },
  {
   "cell_type": "code",
   "execution_count": 20,
   "metadata": {},
   "outputs": [],
   "source": [
    "# Write a Custom Callback\n",
    "\n",
    "from tensorflow.keras.callbacks import Callback\n",
    "\n",
    "class TrainingCallback(Callback):\n",
    "    def on_train_begin(self, logs=None):\n",
    "        print('Starting Training...')\n",
    "        \n",
    "    def on_epoch_begin(selg, epoch, logs=None):\n",
    "        print(f'Starting Epoch {epoch}')\n",
    "        \n",
    "    def on_train_batch_begin(self, batch, logs=None):\n",
    "        print(f'Training: Starting batch {batch}')\n",
    "        \n",
    "    def on_train_batch_end(self, batch, logs=None):\n",
    "        print(f'Training Finished batch {batch}')\n",
    "        \n",
    "    def on_epoch_end(self, epoch, logs=None):\n",
    "        print(f'Finished epoch {epoch}')\n",
    "        \n",
    "    def on_train_end(self, logs=None):\n",
    "        print('Training Finished...')\n",
    "        \n",
    "class TestingCallback(Callback):\n",
    "    def on_test_begin(self, logs=None):\n",
    "        print(\"Starting testing...\")\n",
    "        \n",
    "    def on_test_batch_begin(self, batch, logs=None):\n",
    "        print(f\"Testing Starting batch {batch}\")\n",
    "        \n",
    "    def on_test_batch_end(self, batch, logs=None):\n",
    "        print(f\"Testing Finished batch {batch}\")\n",
    "        \n",
    "    def on_test_end(self, logs=None):\n",
    "        print(\"Finished testing!\")\n",
    "        \n",
    "class PredictionCallback(Callback):\n",
    "    def on_predict_begin(self, logs=None):\n",
    "        print(\"Starting prediction...\")\n",
    "        \n",
    "    def on_predict_batch_begin(self, batch, logs=None):\n",
    "        print(f\"Prediction: Starting batch {batch}\")\n",
    "        \n",
    "    def on_predict_batch_end(self, batch, logs=None):\n",
    "        print(f\"Prediction: Finished batch {batch}\")\n",
    "        \n",
    "    def on_predict_end(self, logs=None):\n",
    "        print(\"Finished Prediction!\")        "
   ]
  },
  {
   "cell_type": "code",
   "execution_count": 21,
   "metadata": {},
   "outputs": [],
   "source": [
    "# Re-build the model\n",
    "\n",
    "model = get_regularized_model(1e-5, 0.3)"
   ]
  },
  {
   "cell_type": "code",
   "execution_count": 22,
   "metadata": {},
   "outputs": [],
   "source": [
    "# Compile the model\n",
    "\n",
    "model.compile(optimizer='adam', loss='mae')"
   ]
  },
  {
   "cell_type": "markdown",
   "metadata": {},
   "source": [
    "#### Train the model with the callback"
   ]
  },
  {
   "cell_type": "code",
   "execution_count": 23,
   "metadata": {},
   "outputs": [
    {
     "name": "stdout",
     "output_type": "stream",
     "text": [
      "Starting Training...\n",
      "Starting Epoch 0\n",
      "Training: Starting batch 0\n",
      "Training Finished batch 0\n",
      "Training: Starting batch 1\n",
      "Training Finished batch 1\n",
      "Training: Starting batch 2\n",
      "Training Finished batch 2\n",
      "Training: Starting batch 3\n",
      "Training Finished batch 3\n",
      "Finished epoch 0\n",
      "Starting Epoch 1\n",
      "Training: Starting batch 0\n",
      "Training Finished batch 0\n",
      "Training: Starting batch 1\n",
      "Training Finished batch 1\n",
      "Training: Starting batch 2\n",
      "Training Finished batch 2\n",
      "Training: Starting batch 3\n",
      "Training Finished batch 3\n",
      "Finished epoch 1\n",
      "Starting Epoch 2\n",
      "Training: Starting batch 0\n",
      "Training Finished batch 0\n",
      "Training: Starting batch 1\n",
      "Training Finished batch 1\n",
      "Training: Starting batch 2\n",
      "Training Finished batch 2\n",
      "Training: Starting batch 3\n",
      "Training Finished batch 3\n",
      "Finished epoch 2\n",
      "Training Finished...\n"
     ]
    },
    {
     "data": {
      "text/plain": [
       "<tensorflow.python.keras.callbacks.History at 0x7f0f7c08e588>"
      ]
     },
     "execution_count": 23,
     "metadata": {},
     "output_type": "execute_result"
    }
   ],
   "source": [
    "# Train the model, with some of the data reserved for validation\n",
    "\n",
    "model.fit(train_data, train_targets, epochs=3, batch_size=128, verbose=False, callbacks=[TrainingCallback()])"
   ]
  },
  {
   "cell_type": "code",
   "execution_count": 24,
   "metadata": {},
   "outputs": [
    {
     "name": "stdout",
     "output_type": "stream",
     "text": [
      "Starting testing...\n",
      "Testing Starting batch 0\n",
      "Testing Finished batch 0\n",
      "Testing Starting batch 1\n",
      "Testing Finished batch 1\n",
      "Finished testing!\n"
     ]
    },
    {
     "data": {
      "text/plain": [
       "0.7696803106202019"
      ]
     },
     "execution_count": 24,
     "metadata": {},
     "output_type": "execute_result"
    }
   ],
   "source": [
    "# Evaluate the model\n",
    "\n",
    "model.evaluate(test_data, test_targets, verbose=False, callbacks=[TestingCallback()])"
   ]
  },
  {
   "cell_type": "code",
   "execution_count": 25,
   "metadata": {
    "scrolled": true
   },
   "outputs": [
    {
     "name": "stdout",
     "output_type": "stream",
     "text": [
      "Starting prediction...\n",
      "Prediction: Starting batch 0\n",
      "Prediction: Finished batch 0\n",
      "Prediction: Starting batch 1\n",
      "Prediction: Finished batch 1\n",
      "Finished Prediction!\n"
     ]
    },
    {
     "data": {
      "text/plain": [
       "array([[-0.06450725],\n",
       "       [-0.05123276],\n",
       "       [-0.09562369],\n",
       "       [-0.15718457],\n",
       "       [-0.17136441],\n",
       "       [-0.05783238],\n",
       "       [-0.15341642],\n",
       "       [-0.14267875],\n",
       "       [-0.15918076],\n",
       "       [-0.05679109],\n",
       "       [-0.16929485],\n",
       "       [-0.14309056],\n",
       "       [-0.08453707],\n",
       "       [-0.16909805],\n",
       "       [-0.05564526],\n",
       "       [-0.07753359],\n",
       "       [-0.04062675],\n",
       "       [-0.10111498],\n",
       "       [-0.11156189],\n",
       "       [-0.1350661 ],\n",
       "       [-0.12283809],\n",
       "       [-0.08187717],\n",
       "       [-0.14138061],\n",
       "       [-0.0783622 ],\n",
       "       [-0.13554975],\n",
       "       [-0.10359172],\n",
       "       [-0.09950209],\n",
       "       [-0.1297769 ],\n",
       "       [-0.06711304],\n",
       "       [-0.07110291],\n",
       "       [-0.11219151],\n",
       "       [-0.07510324],\n",
       "       [-0.05826429],\n",
       "       [-0.1406178 ],\n",
       "       [-0.12921903],\n",
       "       [-0.06242756],\n",
       "       [-0.05403563],\n",
       "       [-0.0947939 ],\n",
       "       [-0.09649223],\n",
       "       [-0.18249325],\n",
       "       [-0.01737206],\n",
       "       [-0.12156259],\n",
       "       [-0.09853869],\n",
       "       [-0.0355663 ],\n",
       "       [-0.15055642]], dtype=float32)"
      ]
     },
     "execution_count": 25,
     "metadata": {},
     "output_type": "execute_result"
    }
   ],
   "source": [
    "# Make predictions with the model\n",
    "\n",
    "model.predict(test_data, verbose=False, callbacks=[PredictionCallback()])"
   ]
  },
  {
   "cell_type": "markdown",
   "metadata": {},
   "source": [
    "***\n",
    "<a id=\"coding_tutorial_4\"></a>\n",
    "## Early stopping / patience"
   ]
  },
  {
   "cell_type": "markdown",
   "metadata": {},
   "source": [
    "#### Re-train the models with early stopping"
   ]
  },
  {
   "cell_type": "code",
   "execution_count": 37,
   "metadata": {},
   "outputs": [],
   "source": [
    "# Re-train the unregularised model\n",
    "\n",
    "unregularised_model = get_model()\n",
    "unregularised_model.compile(optimizer='adam', loss='mse')\n",
    "unreg_history = unregularised_model.fit(train_data, train_targets, epochs=100, validation_split=0.15, batch_size=64, verbose=False, callbacks=[tf.keras.callbacks.EarlyStopping(patience=3)])"
   ]
  },
  {
   "cell_type": "code",
   "execution_count": 38,
   "metadata": {},
   "outputs": [
    {
     "name": "stdout",
     "output_type": "stream",
     "text": [
      "45/1 - 0s - loss: 0.4950\n"
     ]
    },
    {
     "data": {
      "text/plain": [
       "0.5309185220135583"
      ]
     },
     "execution_count": 38,
     "metadata": {},
     "output_type": "execute_result"
    }
   ],
   "source": [
    "# Evaluate the model on the test set\n",
    "\n",
    "unregularised_model.evaluate(test_data, test_targets, verbose=2)"
   ]
  },
  {
   "cell_type": "code",
   "execution_count": 39,
   "metadata": {},
   "outputs": [],
   "source": [
    "# Re-train the regularised model\n",
    "\n",
    "# Re-train the unregularised model\n",
    "\n",
    "regularised_model = get_regularized_model(1e-8, 0.2)\n",
    "regularised_model.compile(optimizer='adam', loss='mse')\n",
    "reg_history = regularised_model.fit(train_data, train_targets, epochs=100, validation_split=0.15, batch_size=64, verbose=False, callbacks=[tf.keras.callbacks.EarlyStopping(patience=3)])"
   ]
  },
  {
   "cell_type": "code",
   "execution_count": 40,
   "metadata": {},
   "outputs": [
    {
     "name": "stdout",
     "output_type": "stream",
     "text": [
      "45/1 - 0s - loss: 0.4020\n"
     ]
    },
    {
     "data": {
      "text/plain": [
       "0.493526726298862"
      ]
     },
     "execution_count": 40,
     "metadata": {},
     "output_type": "execute_result"
    }
   ],
   "source": [
    "# Evaluate the model on the test set\n",
    "\n",
    "regularised_model.evaluate(test_data, test_targets, verbose=2)"
   ]
  },
  {
   "cell_type": "markdown",
   "metadata": {},
   "source": [
    "#### Plot the learning curves"
   ]
  },
  {
   "cell_type": "code",
   "execution_count": 41,
   "metadata": {},
   "outputs": [
    {
     "data": {
      "image/png": "[encoded data removed]",
      "text/plain": [
       "<Figure size 864x360 with 2 Axes>"
      ]
     },
     "metadata": {
      "needs_background": "light"
     },
     "output_type": "display_data"
    }
   ],
   "source": [
    "# Plot the training and validation loss\n",
    "\n",
    "import matplotlib.pyplot as plt\n",
    "\n",
    "fig = plt.figure(figsize=(12, 5))\n",
    "\n",
    "fig.add_subplot(121)\n",
    "\n",
    "plt.plot(unreg_history.history['loss'])\n",
    "plt.plot(unreg_history.history['val_loss'])\n",
    "plt.title('Unregularised model: loss vs. epochs')\n",
    "plt.ylabel('Loss')\n",
    "plt.xlabel('Epoch')\n",
    "plt.legend(['Training', 'Validation'], loc='upper right')\n",
    "\n",
    "fig.add_subplot(122)\n",
    "\n",
    "plt.plot(reg_history.history['loss'])\n",
    "plt.plot(reg_history.history['val_loss'])\n",
    "plt.title('Regularised model: loss vs. epochs')\n",
    "plt.ylabel('Loss')\n",
    "plt.xlabel('Epoch')\n",
    "plt.legend(['Training', 'Validation'], loc='upper right')\n",
    "\n",
    "plt.show()"
   ]
  }
 ],
 "metadata": {
  "kernelspec": {
   "display_name": "Python 3",
   "language": "python",
   "name": "python3"
  },
  "language_info": {
   "codemirror_mode": {
    "name": "ipython",
    "version": 3
   },
   "file_extension": ".py",
   "mimetype": "text/x-python",
   "name": "python",
   "nbconvert_exporter": "python",
   "pygments_lexer": "ipython3",
   "version": "3.7.6"
  }
 },
 "nbformat": 4,
 "nbformat_minor": 2
}
