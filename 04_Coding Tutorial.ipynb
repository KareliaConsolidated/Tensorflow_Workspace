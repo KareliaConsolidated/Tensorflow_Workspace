{
 "cells": [
  {
   "cell_type": "markdown",
   "metadata": {},
   "source": [
    "# Introduction to TensorFlow"
   ]
  },
  {
   "cell_type": "markdown",
   "metadata": {},
   "source": [
    "---\n",
    "<a id='coding_tutorial_1'></a>\n",
    "## Hello TensorFlow!"
   ]
  },
  {
   "cell_type": "code",
   "execution_count": 1,
   "metadata": {
    "cell_style": "center",
    "scrolled": true
   },
   "outputs": [],
   "source": [
    "# Import TensorFlow\n",
    "\n",
    "import tensorflow as tf"
   ]
  },
  {
   "cell_type": "code",
   "execution_count": 2,
   "metadata": {
    "cell_style": "center"
   },
   "outputs": [
    {
     "data": {
      "text/plain": [
       "'2.2.0'"
      ]
     },
     "execution_count": 2,
     "metadata": {},
     "output_type": "execute_result"
    }
   ],
   "source": [
    "# Check its version\n",
    "\n",
    "tf.__version__"
   ]
  },
  {
   "cell_type": "code",
   "execution_count": 3,
   "metadata": {
    "cell_style": "center"
   },
   "outputs": [
    {
     "name": "stdout",
     "output_type": "stream",
     "text": [
      "Loading...\n",
      "\n",
      "Data has been loaded.\n",
      "\n",
      "Epoch 1/5\n",
      "1875/1875 [==============================] - 1s 739us/step - loss: 0.4343 - accuracy: 0.8797\n",
      "Epoch 2/5\n",
      "1875/1875 [==============================] - 1s 734us/step - loss: 0.2556 - accuracy: 0.9266\n",
      "Epoch 3/5\n",
      "1875/1875 [==============================] - 1s 744us/step - loss: 0.2183 - accuracy: 0.9364\n",
      "Epoch 4/5\n",
      "1875/1875 [==============================] - 1s 696us/step - loss: 0.1952 - accuracy: 0.9439\n",
      "Epoch 5/5\n",
      "1875/1875 [==============================] - 1s 741us/step - loss: 0.1785 - accuracy: 0.9480\n",
      "Model Training Completed\n",
      "\n"
     ]
    }
   ],
   "source": [
    "# Train a FeedForward Neural Network for Image Classification\n",
    "\n",
    "import numpy as np\n",
    "\n",
    "print('Loading...\\n')\n",
    "data = np.loadtxt('data/mnist.csv', delimiter=',')\n",
    "print('Data has been loaded.\\n')\n",
    "\n",
    "X_train = data[:,1:]\n",
    "Y_train = data[:,0]\n",
    "X_train = X_train / 255.\n",
    "\n",
    "model = tf.keras.models.Sequential([\n",
    "    tf.keras.layers.Dense(16, activation='relu'),\n",
    "    tf.keras.layers.Dense(10, activation='softmax')\n",
    "])\n",
    "\n",
    "model.compile(optimizer='adam', loss='sparse_categorical_crossentropy', metrics=['accuracy'])\n",
    "\n",
    "model.fit(X_train, Y_train, epochs=5, batch_size=32)\n",
    "\n",
    "print('Model Training Completed\\n')"
   ]
  }
 ],
 "metadata": {
  "kernelspec": {
   "display_name": "Python 3",
   "language": "python",
   "name": "python3"
  },
  "language_info": {
   "codemirror_mode": {
    "name": "ipython",
    "version": 3
   },
   "file_extension": ".py",
   "mimetype": "text/x-python",
   "name": "python",
   "nbconvert_exporter": "python",
   "pygments_lexer": "ipython3",
   "version": "3.7.6"
  }
 },
 "nbformat": 4,
 "nbformat_minor": 2
}
