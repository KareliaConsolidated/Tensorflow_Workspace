{
 "cells": [
  {
   "cell_type": "code",
   "execution_count": 1,
   "metadata": {
    "scrolled": true
   },
   "outputs": [
    {
     "name": "stdout",
     "output_type": "stream",
     "text": [
      "2.2.0\n"
     ]
    }
   ],
   "source": [
    "import tensorflow as tf\n",
    "print(tf.__version__)"
   ]
  },
  {
   "cell_type": "markdown",
   "metadata": {},
   "source": [
    "# Validation, regularisation and callbacks"
   ]
  },
  {
   "cell_type": "markdown",
   "metadata": {},
   "source": [
    " ## Coding tutorials\n",
    " #### [1. Validation sets](#coding_tutorial_1)\n",
    " #### [2. Model regularisation](#coding_tutorial_2)\n",
    " #### [3. Introduction to callbacks](#coding_tutorial_3)\n",
    " #### [4. Early stopping / patience](#coding_tutorial_4)"
   ]
  },
  {
   "cell_type": "markdown",
   "metadata": {},
   "source": [
    "***\n",
    "<a id=\"coding_tutorial_1\"></a>\n",
    "## Validation sets"
   ]
  },
  {
   "cell_type": "markdown",
   "metadata": {},
   "source": [
    "#### Load the data"
   ]
  },
  {
   "cell_type": "code",
   "execution_count": 2,
   "metadata": {},
   "outputs": [
    {
     "name": "stdout",
     "output_type": "stream",
     "text": [
      ".. _diabetes_dataset:\n",
      "\n",
      "Diabetes dataset\n",
      "----------------\n",
      "\n",
      "Ten baseline variables, age, sex, body mass index, average blood\n",
      "pressure, and six blood serum measurements were obtained for each of n =\n",
      "442 diabetes patients, as well as the response of interest, a\n",
      "quantitative measure of disease progression one year after baseline.\n",
      "\n",
      "**Data Set Characteristics:**\n",
      "\n",
      "  :Number of Instances: 442\n",
      "\n",
      "  :Number of Attributes: First 10 columns are numeric predictive values\n",
      "\n",
      "  :Target: Column 11 is a quantitative measure of disease progression one year after baseline\n",
      "\n",
      "  :Attribute Information:\n",
      "      - Age\n",
      "      - Sex\n",
      "      - Body mass index\n",
      "      - Average blood pressure\n",
      "      - S1\n",
      "      - S2\n",
      "      - S3\n",
      "      - S4\n",
      "      - S5\n",
      "      - S6\n",
      "\n",
      "Note: Each of these 10 feature variables have been mean centered and scaled by the standard deviation times `n_samples` (i.e. the sum of squares of each column totals 1).\n",
      "\n",
      "Source URL:\n",
      "https://www4.stat.ncsu.edu/~boos/var.select/diabetes.html\n",
      "\n",
      "For more information see:\n",
      "Bradley Efron, Trevor Hastie, Iain Johnstone and Robert Tibshirani (2004) \"Least Angle Regression,\" Annals of Statistics (with discussion), 407-499.\n",
      "(https://web.stanford.edu/~hastie/Papers/LARS/LeastAngle_2002.pdf)\n"
     ]
    }
   ],
   "source": [
    "# Load the diabetes dataset\n",
    "\n",
    "from sklearn.datasets import load_diabetes\n",
    "\n",
    "diabetes_dataset = load_diabetes()\n",
    "print(diabetes_dataset['DESCR'])"
   ]
  },
  {
   "cell_type": "code",
   "execution_count": 3,
   "metadata": {},
   "outputs": [],
   "source": [
    "# Save the input and target variables\n",
    "\n",
    "data = diabetes_dataset[\"data\"]\n",
    "targets = diabetes_dataset[\"target\"]"
   ]
  },
  {
   "cell_type": "code",
   "execution_count": 4,
   "metadata": {},
   "outputs": [
    {
     "data": {
      "text/plain": [
       "array([-1.47194752e-02, -1.00165882e+00, -1.44579915e-01,  6.99512942e-01,\n",
       "       -2.22496178e-01, -7.15965848e-01, -1.83538046e-01, -1.15749134e+00,\n",
       "       -5.47147277e-01,  2.05006151e+00, -6.64021672e-01, -1.07957508e+00,\n",
       "        3.48889755e-01,  4.26806019e-01, -4.43258925e-01,  2.45001404e-01,\n",
       "        1.80071184e-01, -1.05621783e-01, -7.15965848e-01,  2.06043272e-01,\n",
       "       -1.09256112e+00, -1.33929596e+00, -1.09256112e+00,  1.20596866e+00,\n",
       "        4.13819975e-01,  6.47568766e-01, -1.96524090e-01, -8.71798376e-01,\n",
       "       -2.74440354e-01,  1.69943833e+00, -3.00412442e-01, -1.20943552e+00,\n",
       "        2.45262887e+00, -8.45826288e-01, -1.13151925e+00, -6.51035629e-01,\n",
       "        1.46568953e+00,  1.60853602e+00,  1.29687096e+00, -8.06868156e-01,\n",
       "       -6.77007716e-01, -1.26137969e+00, -1.18346343e+00, -7.80896068e-01,\n",
       "        1.38777327e+00, -1.28735178e+00,  4.91736239e-01, -1.31593871e-01,\n",
       "       -1.00165882e+00, -1.31593871e-01,  3.72247006e-02,  9.46247777e-01,\n",
       "       -1.20943552e+00, -6.25063541e-01,  3.87847887e-01, -3.13398486e-01,\n",
       "       -1.30033783e+00, -1.49512849e+00,  2.32015360e-01,  2.32015360e-01,\n",
       "       -1.18346343e+00, -1.05621783e-01, -1.30033783e+00, -3.13398486e-01,\n",
       "       -1.05360299e+00,  1.41113052e-01, -2.77055191e-02, -7.15965848e-01,\n",
       "        1.02154920e-01,  3.35903711e-01, -1.35228200e+00,  1.53061975e+00,\n",
       "        6.47568766e-01, -5.34161233e-01, -8.71798376e-01, -1.43019827e+00,\n",
       "        2.32015360e-01,  6.21596678e-01,  1.29687096e+00, -5.08189145e-01,\n",
       "       -1.18607827e-01, -1.31332387e+00, -1.30033783e+00,  7.51457118e-01,\n",
       "       -1.13151925e+00, -1.44579915e-01, -1.26137969e+00, -2.35482222e-01,\n",
       "       -1.43019827e+00, -5.34161233e-01, -7.02979804e-01,  1.54099096e-01,\n",
       "       -1.35228200e+00, -7.28951892e-01, -8.06868156e-01,  1.28127008e-01,\n",
       "       -2.77055191e-02,  1.64749415e+00, -7.80896068e-01, -8.97770464e-01,\n",
       "       -3.13398486e-01, -6.51035629e-01,  1.94617316e+00,  5.95624590e-01,\n",
       "       -7.41937936e-01, -1.28735178e+00, -2.35482222e-01, -1.05621783e-01,\n",
       "        1.03715008e+00, -9.23742551e-01, -6.25063541e-01, -1.20943552e+00,\n",
       "        1.21895470e+00,  1.88124294e+00,  1.37478723e+00,  9.98191953e-01,\n",
       "        1.59554997e+00,  1.67346624e+00,  3.48889755e-01,  6.21596678e-01,\n",
       "        6.21596678e-01,  2.70973492e-01,  3.61875799e-01, -8.84784420e-01,\n",
       "       -4.04300794e-01,  1.15140964e-01, -6.89993760e-01, -5.60133321e-01,\n",
       "       -4.82217057e-01,  1.50464767e+00,  1.58256393e+00,  7.61828325e-02,\n",
       "       -5.86105409e-01, -8.97770464e-01, -6.38049585e-01,  1.55659184e+00,\n",
       "       -8.71798376e-01,  1.66048019e+00,  2.38769865e+00,  1.67346624e+00,\n",
       "       -4.43258925e-01,  2.14096382e+00,  1.07610822e+00, -1.19644947e+00,\n",
       "        2.83959536e-01,  1.38777327e+00,  3.35903711e-01, -3.13398486e-01,\n",
       "       -7.28951892e-01, -3.39370574e-01,  1.76436855e+00, -8.32840244e-01,\n",
       "        1.81631272e+00, -1.05360299e+00,  5.82638546e-01,  4.39792063e-01,\n",
       "       -1.65096101e+00, -8.84784420e-01, -7.28951892e-01,  5.56666458e-01,\n",
       "       -1.28735178e+00,  8.42359425e-01,  2.57987448e-01, -2.74440354e-01,\n",
       "        8.03401293e-01, -1.20943552e+00, -1.06658903e+00,  8.81317557e-01,\n",
       "        1.50464767e+00, -1.73343121e-03, -1.36526805e+00, -1.01464486e+00,\n",
       "        1.85527085e+00, -6.64021672e-01, -1.47194752e-02, -3.26384530e-01,\n",
       "        1.10208030e+00,  9.46247777e-01, -9.23742551e-01, -1.47194752e-02,\n",
       "       -5.86105409e-01, -1.14450530e+00, -1.83538046e-01,  4.26806019e-01,\n",
       "        1.46568953e+00, -6.64021672e-01, -1.96524090e-01, -1.18607827e-01,\n",
       "       -1.44579915e-01, -9.49714639e-01,  1.81631272e+00,  3.35903711e-01,\n",
       "       -7.93882112e-01, -4.69231013e-01, -8.58812332e-01, -3.91314750e-01,\n",
       "       -1.04061695e+00, -3.00412442e-01, -1.31593871e-01, -8.06868156e-01,\n",
       "        7.61828325e-02, -1.46915640e+00,  5.69652502e-01,  9.07289645e-01,\n",
       "        1.62152206e+00, -6.89993760e-01,  5.69652502e-01,  6.47568766e-01,\n",
       "        3.72247006e-02, -9.75686727e-01,  5.04722283e-01, -1.06658903e+00,\n",
       "       -1.02763090e+00, -1.33929596e+00, -1.13151925e+00,  1.43971745e+00,\n",
       "        1.24492679e+00,  1.86825690e+00,  8.03401293e-01,  4.26806019e-01,\n",
       "       -9.62700683e-01, -7.67910024e-01,  1.29687096e+00, -2.77055191e-02,\n",
       "       -9.75686727e-01,  7.25485030e-01, -9.75686727e-01, -5.73119365e-01,\n",
       "        1.02154920e-01, -1.28735178e+00,  8.81317557e-01,  2.42386567e-02,\n",
       "        1.38777327e+00, -8.06868156e-01,  1.21895470e+00, -3.65342662e-01,\n",
       "       -1.10554717e+00, -1.04061695e+00,  1.36180118e+00,  1.42673140e+00,\n",
       "        1.59554997e+00,  3.22917667e-01, -1.05360299e+00, -1.36526805e+00,\n",
       "        4.52778107e-01, -3.52356618e-01, -9.62700683e-01, -1.31332387e+00,\n",
       "        1.37478723e+00,  8.16387337e-01,  1.95915920e+00,  1.17999657e+00,\n",
       "       -7.93882112e-01, -2.77055191e-02,  2.05006151e+00,  1.12526127e-02,\n",
       "        2.51755909e+00, -1.15749134e+00, -8.19854200e-01, -1.32630991e+00,\n",
       "       -1.46915640e+00, -6.38049585e-01,  2.02408942e+00, -4.69231013e-01,\n",
       "       -9.26357388e-02, -1.01464486e+00, -1.39124013e+00, -4.82217057e-01,\n",
       "        1.45270349e+00, -8.45826288e-01,  6.47568766e-01, -3.26384530e-01,\n",
       "        3.87847887e-01,  1.15402448e+00, -1.11853321e+00, -7.54923980e-01,\n",
       "        1.69943833e+00, -1.14450530e+00, -6.51035629e-01,  6.21596678e-01,\n",
       "        1.46568953e+00, -7.54923980e-01,  1.01117800e+00,  3.74861843e-01,\n",
       "        5.02107446e-02,  1.05013613e+00, -1.19644947e+00,  8.68331513e-01,\n",
       "       -9.36728595e-01, -1.09256112e+00,  2.33575448e+00,  1.24492679e+00,\n",
       "       -8.84784420e-01,  6.21596678e-01, -1.26137969e+00, -8.71798376e-01,\n",
       "       -8.19854200e-01, -1.57304475e+00, -3.00412442e-01, -8.97770464e-01,\n",
       "        1.59554997e+00, -1.13151925e+00,  5.95624590e-01,  1.08909426e+00,\n",
       "        1.30985701e+00, -3.65342662e-01, -1.40422618e+00,  2.57987448e-01,\n",
       "       -4.95203101e-01, -1.31593871e-01, -5.60133321e-01,  3.61875799e-01,\n",
       "       -1.05621783e-01,  1.41113052e-01, -6.66636509e-02, -7.15965848e-01,\n",
       "        8.81317557e-01,  4.91736239e-01, -5.60133321e-01,  5.04722283e-01,\n",
       "       -3.91314750e-01,  1.01117800e+00,  1.16701052e+00,  1.24492679e+00,\n",
       "        1.25791283e+00,  5.17708327e-01, -2.74440354e-01,  1.10208030e+00,\n",
       "       -9.62700683e-01, -2.22496178e-01,  1.19298261e+00,  6.08610634e-01,\n",
       "        1.53061975e+00,  1.54099096e-01, -1.04061695e+00, -7.28951892e-01,\n",
       "        1.99811734e+00, -7.93882112e-01,  8.03401293e-01, -7.41937936e-01,\n",
       "        8.29373381e-01,  1.43971745e+00,  3.35903711e-01, -5.08189145e-01,\n",
       "        6.21596678e-01, -1.70552003e-01, -1.70552003e-01, -8.32840244e-01,\n",
       "       -5.36776070e-02, -8.32840244e-01,  1.17999657e+00, -1.05360299e+00,\n",
       "       -9.75686727e-01, -5.60133321e-01,  1.55659184e+00, -1.19644947e+00,\n",
       "       -1.27436574e+00,  8.94303601e-01, -8.06868156e-01,  2.06304756e+00,\n",
       "        1.67346624e+00,  3.87847887e-01,  2.19290800e+00, -1.22242156e+00,\n",
       "        1.42673140e+00,  6.99512942e-01,  1.05013613e+00,  1.16701052e+00,\n",
       "       -3.78328706e-01,  1.93057228e-01, -1.15749134e+00,  5.82638546e-01,\n",
       "       -1.05360299e+00,  2.06043272e-01, -1.57565959e-01,  8.42359425e-01,\n",
       "       -4.04300794e-01,  1.07610822e+00,  1.20596866e+00, -1.45617035e+00,\n",
       "       -1.30033783e+00, -6.25063541e-01, -2.61454310e-01, -8.32840244e-01,\n",
       "       -1.07957508e+00,  8.68331513e-01, -1.04061695e+00,  6.34582722e-01,\n",
       "       -5.47147277e-01, -1.31332387e+00,  1.62152206e+00, -1.15749134e+00,\n",
       "       -4.43258925e-01, -1.07957508e+00,  1.56957789e+00,  1.37478723e+00,\n",
       "       -1.41721222e+00,  5.95624590e-01,  1.16701052e+00,  1.03715008e+00,\n",
       "        2.96945580e-01, -7.67910024e-01,  2.06043272e-01,  1.59554997e+00,\n",
       "        1.82929877e+00,  1.67346624e+00, -1.04061695e+00, -1.57565959e-01,\n",
       "        4.78750195e-01,  3.74861843e-01,  7.38471074e-01, -2.09510134e-01,\n",
       "        1.41374536e+00, -5.08189145e-01, -2.74440354e-01,  2.83959536e-01,\n",
       "        1.36180118e+00, -1.26137969e+00, -8.84784420e-01, -1.43019827e+00,\n",
       "       -7.96496949e-02,  7.77429206e-01,  1.05013613e+00, -7.93882112e-01,\n",
       "       -5.34161233e-01, -1.73343121e-03, -4.17286837e-01, -1.10554717e+00,\n",
       "        2.05006151e+00, -7.54923980e-01,  4.00833931e-01, -1.11853321e+00,\n",
       "        2.70973492e-01, -1.04061695e+00, -1.33929596e+00, -1.14450530e+00,\n",
       "       -1.35228200e+00,  3.35903711e-01, -6.25063541e-01, -2.61454310e-01,\n",
       "        8.81317557e-01, -1.23540761e+00])"
      ]
     },
     "execution_count": 4,
     "metadata": {},
     "output_type": "execute_result"
    }
   ],
   "source": [
    "# Normalise the target data (this will make clearer training curves)\n",
    "\n",
    "targets = (targets - targets.mean(axis=0)) / targets.std()\n",
    "targets"
   ]
  },
  {
   "cell_type": "code",
   "execution_count": 5,
   "metadata": {},
   "outputs": [
    {
     "name": "stdout",
     "output_type": "stream",
     "text": [
      "(397, 10)\n",
      "(45, 10)\n",
      "(397,)\n",
      "(45,)\n"
     ]
    }
   ],
   "source": [
    "# Split the data into train and test sets\n",
    "\n",
    "from sklearn.model_selection import train_test_split\n",
    "\n",
    "train_data, test_data, train_targets, test_targets = train_test_split(data, targets, test_size=0.1)\n",
    "\n",
    "print(train_data.shape)\n",
    "print(test_data.shape)\n",
    "print(train_targets.shape)\n",
    "print(test_targets.shape)"
   ]
  },
  {
   "cell_type": "markdown",
   "metadata": {},
   "source": [
    "#### Train a feedforward neural network model"
   ]
  },
  {
   "cell_type": "code",
   "execution_count": 6,
   "metadata": {},
   "outputs": [],
   "source": [
    "# Build the model\n",
    "\n",
    "from tensorflow.keras.models import Sequential\n",
    "from tensorflow.keras.layers import Dense\n",
    "\n",
    "def get_model():\n",
    "    model = Sequential([\n",
    "        Dense(128, activation='relu', input_shape=(train_data.shape[1],)),\n",
    "        Dense(128, activation='relu'),\n",
    "        Dense(128, activation='relu'),\n",
    "        Dense(128, activation='relu'),\n",
    "        Dense(128, activation='relu'),\n",
    "        Dense(128, activation='relu'),\n",
    "        Dense(1)\n",
    "    ])\n",
    "    \n",
    "    return model\n",
    "\n",
    "model = get_model()"
   ]
  },
  {
   "cell_type": "code",
   "execution_count": 7,
   "metadata": {},
   "outputs": [
    {
     "name": "stdout",
     "output_type": "stream",
     "text": [
      "Model: \"sequential\"\n",
      "_________________________________________________________________\n",
      "Layer (type)                 Output Shape              Param #   \n",
      "=================================================================\n",
      "dense (Dense)                (None, 128)               1408      \n",
      "_________________________________________________________________\n",
      "dense_1 (Dense)              (None, 128)               16512     \n",
      "_________________________________________________________________\n",
      "dense_2 (Dense)              (None, 128)               16512     \n",
      "_________________________________________________________________\n",
      "dense_3 (Dense)              (None, 128)               16512     \n",
      "_________________________________________________________________\n",
      "dense_4 (Dense)              (None, 128)               16512     \n",
      "_________________________________________________________________\n",
      "dense_5 (Dense)              (None, 128)               16512     \n",
      "_________________________________________________________________\n",
      "dense_6 (Dense)              (None, 1)                 129       \n",
      "=================================================================\n",
      "Total params: 84,097\n",
      "Trainable params: 84,097\n",
      "Non-trainable params: 0\n",
      "_________________________________________________________________\n"
     ]
    }
   ],
   "source": [
    "# Print the model summary\n",
    "\n",
    "model.summary()"
   ]
  },
  {
   "cell_type": "code",
   "execution_count": 8,
   "metadata": {},
   "outputs": [],
   "source": [
    "# Compile the model\n",
    "\n",
    "model.compile(optimizer='adam', loss='mse', metrics=['mae'])"
   ]
  },
  {
   "cell_type": "code",
   "execution_count": 9,
   "metadata": {},
   "outputs": [
    {
     "name": "stdout",
     "output_type": "stream",
     "text": [
      "Epoch 1/100\n",
      "6/6 - 0s - loss: 0.9719 - mae: 0.8428 - val_loss: 0.9703 - val_mae: 0.8505\n",
      "Epoch 2/100\n",
      "6/6 - 0s - loss: 0.8999 - mae: 0.8117 - val_loss: 0.8186 - val_mae: 0.7856\n",
      "Epoch 3/100\n",
      "6/6 - 0s - loss: 0.7118 - mae: 0.7173 - val_loss: 0.5816 - val_mae: 0.6533\n",
      "Epoch 4/100\n",
      "6/6 - 0s - loss: 0.5690 - mae: 0.6285 - val_loss: 0.6112 - val_mae: 0.6422\n",
      "Epoch 5/100\n",
      "6/6 - 0s - loss: 0.5598 - mae: 0.5865 - val_loss: 0.6329 - val_mae: 0.6234\n",
      "Epoch 6/100\n",
      "6/6 - 0s - loss: 0.5116 - mae: 0.5931 - val_loss: 0.5645 - val_mae: 0.6459\n",
      "Epoch 7/100\n",
      "6/6 - 0s - loss: 0.4835 - mae: 0.5699 - val_loss: 0.5745 - val_mae: 0.6039\n",
      "Epoch 8/100\n",
      "6/6 - 0s - loss: 0.4624 - mae: 0.5594 - val_loss: 0.5484 - val_mae: 0.5941\n",
      "Epoch 9/100\n",
      "6/6 - 0s - loss: 0.4454 - mae: 0.5432 - val_loss: 0.5370 - val_mae: 0.5786\n",
      "Epoch 10/100\n",
      "6/6 - 0s - loss: 0.4310 - mae: 0.5331 - val_loss: 0.5200 - val_mae: 0.5809\n",
      "Epoch 11/100\n",
      "6/6 - 0s - loss: 0.4328 - mae: 0.5317 - val_loss: 0.5223 - val_mae: 0.5741\n",
      "Epoch 12/100\n",
      "6/6 - 0s - loss: 0.4467 - mae: 0.5260 - val_loss: 0.5794 - val_mae: 0.5785\n",
      "Epoch 13/100\n",
      "6/6 - 0s - loss: 0.4485 - mae: 0.5480 - val_loss: 0.5223 - val_mae: 0.5859\n",
      "Epoch 14/100\n",
      "6/6 - 0s - loss: 0.4230 - mae: 0.5202 - val_loss: 0.5354 - val_mae: 0.5701\n",
      "Epoch 15/100\n",
      "6/6 - 0s - loss: 0.4091 - mae: 0.5167 - val_loss: 0.5205 - val_mae: 0.5672\n",
      "Epoch 16/100\n",
      "6/6 - 0s - loss: 0.4045 - mae: 0.5141 - val_loss: 0.5254 - val_mae: 0.5722\n",
      "Epoch 17/100\n",
      "6/6 - 0s - loss: 0.4046 - mae: 0.5065 - val_loss: 0.5341 - val_mae: 0.5800\n",
      "Epoch 18/100\n",
      "6/6 - 0s - loss: 0.3893 - mae: 0.5034 - val_loss: 0.5700 - val_mae: 0.5756\n",
      "Epoch 19/100\n",
      "6/6 - 0s - loss: 0.3845 - mae: 0.5009 - val_loss: 0.5369 - val_mae: 0.5811\n",
      "Epoch 20/100\n",
      "6/6 - 0s - loss: 0.3760 - mae: 0.4845 - val_loss: 0.5376 - val_mae: 0.5774\n",
      "Epoch 21/100\n",
      "6/6 - 0s - loss: 0.3713 - mae: 0.4847 - val_loss: 0.5731 - val_mae: 0.5790\n",
      "Epoch 22/100\n",
      "6/6 - 0s - loss: 0.3860 - mae: 0.5092 - val_loss: 0.5247 - val_mae: 0.5817\n",
      "Epoch 23/100\n",
      "6/6 - 0s - loss: 0.3724 - mae: 0.4794 - val_loss: 0.5983 - val_mae: 0.5831\n",
      "Epoch 24/100\n",
      "6/6 - 0s - loss: 0.3749 - mae: 0.4881 - val_loss: 0.5346 - val_mae: 0.5847\n",
      "Epoch 25/100\n",
      "6/6 - 0s - loss: 0.3545 - mae: 0.4778 - val_loss: 0.5588 - val_mae: 0.5737\n",
      "Epoch 26/100\n",
      "6/6 - 0s - loss: 0.3546 - mae: 0.4722 - val_loss: 0.5635 - val_mae: 0.5911\n",
      "Epoch 27/100\n",
      "6/6 - 0s - loss: 0.3266 - mae: 0.4510 - val_loss: 0.6174 - val_mae: 0.5847\n",
      "Epoch 28/100\n",
      "6/6 - 0s - loss: 0.3403 - mae: 0.4724 - val_loss: 0.5447 - val_mae: 0.5924\n",
      "Epoch 29/100\n",
      "6/6 - 0s - loss: 0.3289 - mae: 0.4593 - val_loss: 0.5774 - val_mae: 0.5785\n",
      "Epoch 30/100\n",
      "6/6 - 0s - loss: 0.3221 - mae: 0.4535 - val_loss: 0.5343 - val_mae: 0.5894\n",
      "Epoch 31/100\n",
      "6/6 - 0s - loss: 0.3185 - mae: 0.4495 - val_loss: 0.5574 - val_mae: 0.5811\n",
      "Epoch 32/100\n",
      "6/6 - 0s - loss: 0.3048 - mae: 0.4321 - val_loss: 0.6087 - val_mae: 0.5865\n",
      "Epoch 33/100\n",
      "6/6 - 0s - loss: 0.3153 - mae: 0.4400 - val_loss: 0.5670 - val_mae: 0.5874\n",
      "Epoch 34/100\n",
      "6/6 - 0s - loss: 0.2960 - mae: 0.4286 - val_loss: 0.5554 - val_mae: 0.5867\n",
      "Epoch 35/100\n",
      "6/6 - 0s - loss: 0.2903 - mae: 0.4197 - val_loss: 0.6146 - val_mae: 0.5888\n",
      "Epoch 36/100\n",
      "6/6 - 0s - loss: 0.2961 - mae: 0.4200 - val_loss: 0.6140 - val_mae: 0.5924\n",
      "Epoch 37/100\n",
      "6/6 - 0s - loss: 0.2863 - mae: 0.4286 - val_loss: 0.5737 - val_mae: 0.6178\n",
      "Epoch 38/100\n",
      "6/6 - 0s - loss: 0.3152 - mae: 0.4431 - val_loss: 0.5757 - val_mae: 0.6148\n",
      "Epoch 39/100\n",
      "6/6 - 0s - loss: 0.3105 - mae: 0.4438 - val_loss: 0.6031 - val_mae: 0.5911\n",
      "Epoch 40/100\n",
      "6/6 - 0s - loss: 0.2692 - mae: 0.3987 - val_loss: 0.6779 - val_mae: 0.6011\n",
      "Epoch 41/100\n",
      "6/6 - 0s - loss: 0.2734 - mae: 0.4209 - val_loss: 0.5899 - val_mae: 0.6256\n",
      "Epoch 42/100\n",
      "6/6 - 0s - loss: 0.2609 - mae: 0.4048 - val_loss: 0.6046 - val_mae: 0.5961\n",
      "Epoch 43/100\n",
      "6/6 - 0s - loss: 0.2310 - mae: 0.3711 - val_loss: 0.6398 - val_mae: 0.6029\n",
      "Epoch 44/100\n",
      "6/6 - 0s - loss: 0.2324 - mae: 0.3641 - val_loss: 0.6013 - val_mae: 0.6158\n",
      "Epoch 45/100\n",
      "6/6 - 0s - loss: 0.2218 - mae: 0.3656 - val_loss: 0.6058 - val_mae: 0.6239\n",
      "Epoch 46/100\n",
      "6/6 - 0s - loss: 0.2333 - mae: 0.3684 - val_loss: 0.6177 - val_mae: 0.6300\n",
      "Epoch 47/100\n",
      "6/6 - 0s - loss: 0.2289 - mae: 0.3656 - val_loss: 0.6576 - val_mae: 0.6033\n",
      "Epoch 48/100\n",
      "6/6 - 0s - loss: 0.1959 - mae: 0.3391 - val_loss: 0.6656 - val_mae: 0.6197\n",
      "Epoch 49/100\n",
      "6/6 - 0s - loss: 0.1923 - mae: 0.3278 - val_loss: 0.6458 - val_mae: 0.6358\n",
      "Epoch 50/100\n",
      "6/6 - 0s - loss: 0.1827 - mae: 0.3253 - val_loss: 0.6941 - val_mae: 0.6594\n",
      "Epoch 51/100\n",
      "6/6 - 0s - loss: 0.1653 - mae: 0.3109 - val_loss: 0.6918 - val_mae: 0.6532\n",
      "Epoch 52/100\n",
      "6/6 - 0s - loss: 0.1643 - mae: 0.3105 - val_loss: 0.7076 - val_mae: 0.6481\n",
      "Epoch 53/100\n",
      "6/6 - 0s - loss: 0.1516 - mae: 0.2982 - val_loss: 0.7057 - val_mae: 0.6145\n",
      "Epoch 54/100\n",
      "6/6 - 0s - loss: 0.1511 - mae: 0.2899 - val_loss: 0.6934 - val_mae: 0.6601\n",
      "Epoch 55/100\n",
      "6/6 - 0s - loss: 0.1506 - mae: 0.2993 - val_loss: 0.7578 - val_mae: 0.6895\n",
      "Epoch 56/100\n",
      "6/6 - 0s - loss: 0.1762 - mae: 0.3289 - val_loss: 0.7713 - val_mae: 0.6962\n",
      "Epoch 57/100\n",
      "6/6 - 0s - loss: 0.1589 - mae: 0.3071 - val_loss: 0.7636 - val_mae: 0.6906\n",
      "Epoch 58/100\n",
      "6/6 - 0s - loss: 0.1704 - mae: 0.3249 - val_loss: 0.7668 - val_mae: 0.6876\n",
      "Epoch 59/100\n",
      "6/6 - 0s - loss: 0.1616 - mae: 0.3150 - val_loss: 0.7089 - val_mae: 0.6732\n",
      "Epoch 60/100\n",
      "6/6 - 0s - loss: 0.1591 - mae: 0.3082 - val_loss: 0.7807 - val_mae: 0.6957\n",
      "Epoch 61/100\n",
      "6/6 - 0s - loss: 0.1940 - mae: 0.3492 - val_loss: 0.7476 - val_mae: 0.6881\n",
      "Epoch 62/100\n",
      "6/6 - 0s - loss: 0.2096 - mae: 0.3587 - val_loss: 0.7249 - val_mae: 0.6503\n",
      "Epoch 63/100\n",
      "6/6 - 0s - loss: 0.1455 - mae: 0.3066 - val_loss: 0.7274 - val_mae: 0.6388\n",
      "Epoch 64/100\n",
      "6/6 - 0s - loss: 0.1330 - mae: 0.2836 - val_loss: 0.7904 - val_mae: 0.6786\n",
      "Epoch 65/100\n",
      "6/6 - 0s - loss: 0.1127 - mae: 0.2517 - val_loss: 0.8004 - val_mae: 0.6784\n",
      "Epoch 66/100\n",
      "6/6 - 0s - loss: 0.1063 - mae: 0.2487 - val_loss: 0.7304 - val_mae: 0.6808\n",
      "Epoch 67/100\n",
      "6/6 - 0s - loss: 0.1099 - mae: 0.2525 - val_loss: 0.8153 - val_mae: 0.7073\n",
      "Epoch 68/100\n",
      "6/6 - 0s - loss: 0.1163 - mae: 0.2596 - val_loss: 0.7954 - val_mae: 0.6885\n",
      "Epoch 69/100\n",
      "6/6 - 0s - loss: 0.1035 - mae: 0.2490 - val_loss: 0.7675 - val_mae: 0.7013\n",
      "Epoch 70/100\n",
      "6/6 - 0s - loss: 0.1084 - mae: 0.2527 - val_loss: 0.7903 - val_mae: 0.7029\n",
      "Epoch 71/100\n",
      "6/6 - 0s - loss: 0.1028 - mae: 0.2431 - val_loss: 0.7918 - val_mae: 0.6982\n",
      "Epoch 72/100\n",
      "6/6 - 0s - loss: 0.0844 - mae: 0.2262 - val_loss: 0.7280 - val_mae: 0.6569\n",
      "Epoch 73/100\n",
      "6/6 - 0s - loss: 0.0815 - mae: 0.2111 - val_loss: 0.7898 - val_mae: 0.6862\n",
      "Epoch 74/100\n",
      "6/6 - 0s - loss: 0.0773 - mae: 0.2094 - val_loss: 0.7237 - val_mae: 0.6626\n",
      "Epoch 75/100\n",
      "6/6 - 0s - loss: 0.0666 - mae: 0.1920 - val_loss: 0.8102 - val_mae: 0.7058\n",
      "Epoch 76/100\n",
      "6/6 - 0s - loss: 0.0704 - mae: 0.2009 - val_loss: 0.7449 - val_mae: 0.6716\n",
      "Epoch 77/100\n",
      "6/6 - 0s - loss: 0.0623 - mae: 0.1773 - val_loss: 0.8034 - val_mae: 0.6938\n",
      "Epoch 78/100\n",
      "6/6 - 0s - loss: 0.0657 - mae: 0.1877 - val_loss: 0.8264 - val_mae: 0.6770\n",
      "Epoch 79/100\n",
      "6/6 - 0s - loss: 0.0684 - mae: 0.2028 - val_loss: 0.8339 - val_mae: 0.6960\n",
      "Epoch 80/100\n",
      "6/6 - 0s - loss: 0.0716 - mae: 0.2080 - val_loss: 0.8018 - val_mae: 0.7056\n",
      "Epoch 81/100\n",
      "6/6 - 0s - loss: 0.0814 - mae: 0.2152 - val_loss: 0.7642 - val_mae: 0.6785\n",
      "Epoch 82/100\n",
      "6/6 - 0s - loss: 0.0775 - mae: 0.2111 - val_loss: 0.7591 - val_mae: 0.6861\n",
      "Epoch 83/100\n",
      "6/6 - 0s - loss: 0.0776 - mae: 0.2163 - val_loss: 0.7469 - val_mae: 0.6486\n",
      "Epoch 84/100\n",
      "6/6 - 0s - loss: 0.0772 - mae: 0.2086 - val_loss: 0.8333 - val_mae: 0.7079\n",
      "Epoch 85/100\n",
      "6/6 - 0s - loss: 0.0676 - mae: 0.1951 - val_loss: 0.8128 - val_mae: 0.6699\n",
      "Epoch 86/100\n",
      "6/6 - 0s - loss: 0.0683 - mae: 0.2007 - val_loss: 0.7541 - val_mae: 0.6657\n",
      "Epoch 87/100\n",
      "6/6 - 0s - loss: 0.0544 - mae: 0.1780 - val_loss: 0.7797 - val_mae: 0.6767\n",
      "Epoch 88/100\n",
      "6/6 - 0s - loss: 0.0458 - mae: 0.1569 - val_loss: 0.7944 - val_mae: 0.6886\n",
      "Epoch 89/100\n",
      "6/6 - 0s - loss: 0.0427 - mae: 0.1550 - val_loss: 0.7705 - val_mae: 0.6909\n",
      "Epoch 90/100\n",
      "6/6 - 0s - loss: 0.0407 - mae: 0.1522 - val_loss: 0.8403 - val_mae: 0.6966\n",
      "Epoch 91/100\n",
      "6/6 - 0s - loss: 0.0374 - mae: 0.1377 - val_loss: 0.8370 - val_mae: 0.7110\n",
      "Epoch 92/100\n",
      "6/6 - 0s - loss: 0.0425 - mae: 0.1575 - val_loss: 0.7854 - val_mae: 0.6864\n",
      "Epoch 93/100\n",
      "6/6 - 0s - loss: 0.0355 - mae: 0.1408 - val_loss: 0.7605 - val_mae: 0.6555\n",
      "Epoch 94/100\n",
      "6/6 - 0s - loss: 0.0375 - mae: 0.1449 - val_loss: 0.8416 - val_mae: 0.6906\n"
     ]
    },
    {
     "name": "stdout",
     "output_type": "stream",
     "text": [
      "Epoch 95/100\n",
      "6/6 - 0s - loss: 0.0380 - mae: 0.1473 - val_loss: 0.7946 - val_mae: 0.6857\n",
      "Epoch 96/100\n",
      "6/6 - 0s - loss: 0.0515 - mae: 0.1724 - val_loss: 0.8581 - val_mae: 0.7247\n",
      "Epoch 97/100\n",
      "6/6 - 0s - loss: 0.0381 - mae: 0.1447 - val_loss: 0.8000 - val_mae: 0.6914\n",
      "Epoch 98/100\n",
      "6/6 - 0s - loss: 0.0434 - mae: 0.1604 - val_loss: 0.8174 - val_mae: 0.6810\n",
      "Epoch 99/100\n",
      "6/6 - 0s - loss: 0.0516 - mae: 0.1789 - val_loss: 0.8274 - val_mae: 0.6813\n",
      "Epoch 100/100\n",
      "6/6 - 0s - loss: 0.0582 - mae: 0.1921 - val_loss: 0.9365 - val_mae: 0.7089\n"
     ]
    }
   ],
   "source": [
    "# Train the model, with some of the data reserved for validation\n",
    "\n",
    "history = model.fit(train_data, train_targets, epochs=100, validation_split=0.15, batch_size=64, verbose=2)"
   ]
  },
  {
   "cell_type": "code",
   "execution_count": 10,
   "metadata": {},
   "outputs": [
    {
     "name": "stdout",
     "output_type": "stream",
     "text": [
      "2/2 - 0s - loss: 0.8501 - mae: 0.7248\n"
     ]
    },
    {
     "data": {
      "text/plain": [
       "[0.8500961065292358, 0.7248304486274719]"
      ]
     },
     "execution_count": 10,
     "metadata": {},
     "output_type": "execute_result"
    }
   ],
   "source": [
    "# Evaluate the model on the test set\n",
    "\n",
    "model.evaluate(test_data, test_targets, verbose=2)"
   ]
  },
  {
   "cell_type": "markdown",
   "metadata": {},
   "source": [
    "#### Plot the learning curves"
   ]
  },
  {
   "cell_type": "code",
   "execution_count": 11,
   "metadata": {},
   "outputs": [],
   "source": [
    "import matplotlib.pyplot as plt\n",
    "%matplotlib inline"
   ]
  },
  {
   "cell_type": "code",
   "execution_count": 12,
   "metadata": {},
   "outputs": [
    {
     "data": {
      "image/png": "[encoded data removed]",
      "text/plain": [
       "<Figure size 432x288 with 1 Axes>"
      ]
     },
     "metadata": {
      "needs_background": "light"
     },
     "output_type": "display_data"
    }
   ],
   "source": [
    "# Plot the training and validation loss\n",
    "\n",
    "plt.plot(history.history['loss'])\n",
    "plt.plot(history.history['val_loss'])\n",
    "plt.title('Loss vs. epochs')\n",
    "plt.ylabel('Loss')\n",
    "plt.xlabel('Epoch')\n",
    "plt.legend(['Training', 'Validation'], loc='upper right')\n",
    "plt.show()"
   ]
  },
  {
   "cell_type": "markdown",
   "metadata": {},
   "source": [
    "***\n",
    "<a id=\"coding_tutorial_2\"></a>\n",
    "## Model regularisation"
   ]
  },
  {
   "cell_type": "markdown",
   "metadata": {},
   "source": [
    "#### Adding regularisation with weight decay and dropout"
   ]
  },
  {
   "cell_type": "code",
   "execution_count": 13,
   "metadata": {},
   "outputs": [],
   "source": [
    "from tensorflow.keras.layers import Dropout\n",
    "from tensorflow.keras import regularizers"
   ]
  },
  {
   "cell_type": "code",
   "execution_count": 14,
   "metadata": {},
   "outputs": [],
   "source": [
    "def get_regularized_model(wd, rate):\n",
    "    model = Sequential([\n",
    "        Dense(128, kernel_regularizer=regularizers.l2(wd), activation='relu', input_shape=(train_data.shape[1],)),\n",
    "        Dropout(rate),\n",
    "        Dense(128, kernel_regularizer=regularizers.l2(wd), activation='relu'),\n",
    "        Dropout(rate),\n",
    "        Dense(128, kernel_regularizer=regularizers.l2(wd), activation='relu'),\n",
    "        Dropout(rate),\n",
    "        Dense(128, kernel_regularizer=regularizers.l2(wd), activation='relu'),\n",
    "        Dropout(rate),\n",
    "        Dense(128, kernel_regularizer=regularizers.l2(wd), activation='relu'),\n",
    "        Dropout(rate),\n",
    "        Dense(128, kernel_regularizer=regularizers.l2(wd), activation='relu'),\n",
    "        Dropout(rate),\n",
    "        Dense(1)\n",
    "    ])\n",
    "    \n",
    "    return model"
   ]
  },
  {
   "cell_type": "code",
   "execution_count": 15,
   "metadata": {},
   "outputs": [],
   "source": [
    "# Re-build the model with weight decay and dropout layers\n",
    "model = get_regularized_model(1e-5, 0.3)"
   ]
  },
  {
   "cell_type": "code",
   "execution_count": 16,
   "metadata": {},
   "outputs": [],
   "source": [
    "# Compile the model\n",
    "model.compile(optimizer='adam', loss='mse', metrics=['mae'])"
   ]
  },
  {
   "cell_type": "code",
   "execution_count": 17,
   "metadata": {},
   "outputs": [
    {
     "name": "stdout",
     "output_type": "stream",
     "text": [
      "Epoch 1/100\n",
      "6/6 - 0s - loss: 0.9856 - mae: 0.8427 - val_loss: 1.0093 - val_mae: 0.8641\n",
      "Epoch 2/100\n",
      "6/6 - 0s - loss: 0.9715 - mae: 0.8371 - val_loss: 0.9600 - val_mae: 0.8430\n",
      "Epoch 3/100\n",
      "6/6 - 0s - loss: 0.9173 - mae: 0.8153 - val_loss: 0.8414 - val_mae: 0.7948\n",
      "Epoch 4/100\n",
      "6/6 - 0s - loss: 0.7836 - mae: 0.7422 - val_loss: 0.6651 - val_mae: 0.7107\n",
      "Epoch 5/100\n",
      "6/6 - 0s - loss: 0.6448 - mae: 0.6653 - val_loss: 0.5684 - val_mae: 0.6112\n",
      "Epoch 6/100\n",
      "6/6 - 0s - loss: 0.6447 - mae: 0.6442 - val_loss: 0.5805 - val_mae: 0.5982\n",
      "Epoch 7/100\n",
      "6/6 - 0s - loss: 0.5650 - mae: 0.6042 - val_loss: 0.6031 - val_mae: 0.6661\n",
      "Epoch 8/100\n",
      "6/6 - 0s - loss: 0.5547 - mae: 0.6055 - val_loss: 0.6122 - val_mae: 0.6710\n",
      "Epoch 9/100\n",
      "6/6 - 0s - loss: 0.5713 - mae: 0.6299 - val_loss: 0.6188 - val_mae: 0.6487\n",
      "Epoch 10/100\n",
      "6/6 - 0s - loss: 0.5622 - mae: 0.6174 - val_loss: 0.6149 - val_mae: 0.6488\n",
      "Epoch 11/100\n",
      "6/6 - 0s - loss: 0.5410 - mae: 0.5981 - val_loss: 0.6070 - val_mae: 0.6321\n",
      "Epoch 12/100\n",
      "6/6 - 0s - loss: 0.5443 - mae: 0.6067 - val_loss: 0.5911 - val_mae: 0.6285\n",
      "Epoch 13/100\n",
      "6/6 - 0s - loss: 0.5608 - mae: 0.6079 - val_loss: 0.5984 - val_mae: 0.6534\n",
      "Epoch 14/100\n",
      "6/6 - 0s - loss: 0.5234 - mae: 0.5914 - val_loss: 0.5714 - val_mae: 0.6115\n",
      "Epoch 15/100\n",
      "6/6 - 0s - loss: 0.4970 - mae: 0.5834 - val_loss: 0.5895 - val_mae: 0.6392\n",
      "Epoch 16/100\n",
      "6/6 - 0s - loss: 0.5267 - mae: 0.5853 - val_loss: 0.5725 - val_mae: 0.6187\n",
      "Epoch 17/100\n",
      "6/6 - 0s - loss: 0.4903 - mae: 0.5727 - val_loss: 0.5677 - val_mae: 0.6045\n",
      "Epoch 18/100\n",
      "6/6 - 0s - loss: 0.5041 - mae: 0.5723 - val_loss: 0.5580 - val_mae: 0.6131\n",
      "Epoch 19/100\n",
      "6/6 - 0s - loss: 0.5065 - mae: 0.5844 - val_loss: 0.5492 - val_mae: 0.6139\n",
      "Epoch 20/100\n",
      "6/6 - 0s - loss: 0.5160 - mae: 0.5947 - val_loss: 0.5514 - val_mae: 0.6030\n",
      "Epoch 21/100\n",
      "6/6 - 0s - loss: 0.5106 - mae: 0.5875 - val_loss: 0.5509 - val_mae: 0.5946\n",
      "Epoch 22/100\n",
      "6/6 - 0s - loss: 0.5074 - mae: 0.5903 - val_loss: 0.5496 - val_mae: 0.5891\n",
      "Epoch 23/100\n",
      "6/6 - 0s - loss: 0.4798 - mae: 0.5655 - val_loss: 0.5467 - val_mae: 0.6146\n",
      "Epoch 24/100\n",
      "6/6 - 0s - loss: 0.4774 - mae: 0.5521 - val_loss: 0.5419 - val_mae: 0.6036\n",
      "Epoch 25/100\n",
      "6/6 - 0s - loss: 0.4885 - mae: 0.5723 - val_loss: 0.5480 - val_mae: 0.5850\n",
      "Epoch 26/100\n",
      "6/6 - 0s - loss: 0.4819 - mae: 0.5606 - val_loss: 0.5568 - val_mae: 0.6062\n",
      "Epoch 27/100\n",
      "6/6 - 0s - loss: 0.4465 - mae: 0.5534 - val_loss: 0.5661 - val_mae: 0.5936\n",
      "Epoch 28/100\n",
      "6/6 - 0s - loss: 0.4732 - mae: 0.5630 - val_loss: 0.5553 - val_mae: 0.6183\n",
      "Epoch 29/100\n",
      "6/6 - 0s - loss: 0.4863 - mae: 0.5600 - val_loss: 0.5468 - val_mae: 0.5913\n",
      "Epoch 30/100\n",
      "6/6 - 0s - loss: 0.4666 - mae: 0.5598 - val_loss: 0.5375 - val_mae: 0.5737\n",
      "Epoch 31/100\n",
      "6/6 - 0s - loss: 0.4619 - mae: 0.5589 - val_loss: 0.5134 - val_mae: 0.5652\n",
      "Epoch 32/100\n",
      "6/6 - 0s - loss: 0.4917 - mae: 0.5686 - val_loss: 0.5334 - val_mae: 0.6138\n",
      "Epoch 33/100\n",
      "6/6 - 0s - loss: 0.4589 - mae: 0.5417 - val_loss: 0.5351 - val_mae: 0.5956\n",
      "Epoch 34/100\n",
      "6/6 - 0s - loss: 0.4601 - mae: 0.5451 - val_loss: 0.5642 - val_mae: 0.5841\n",
      "Epoch 35/100\n",
      "6/6 - 0s - loss: 0.4599 - mae: 0.5510 - val_loss: 0.5567 - val_mae: 0.6032\n",
      "Epoch 36/100\n",
      "6/6 - 0s - loss: 0.4301 - mae: 0.5366 - val_loss: 0.5573 - val_mae: 0.6055\n",
      "Epoch 37/100\n",
      "6/6 - 0s - loss: 0.4546 - mae: 0.5454 - val_loss: 0.5619 - val_mae: 0.6106\n",
      "Epoch 38/100\n",
      "6/6 - 0s - loss: 0.4539 - mae: 0.5457 - val_loss: 0.5743 - val_mae: 0.5933\n",
      "Epoch 39/100\n",
      "6/6 - 0s - loss: 0.4517 - mae: 0.5440 - val_loss: 0.5679 - val_mae: 0.6182\n",
      "Epoch 40/100\n",
      "6/6 - 0s - loss: 0.4438 - mae: 0.5303 - val_loss: 0.5624 - val_mae: 0.6039\n",
      "Epoch 41/100\n",
      "6/6 - 0s - loss: 0.4532 - mae: 0.5559 - val_loss: 0.5582 - val_mae: 0.5857\n",
      "Epoch 42/100\n",
      "6/6 - 0s - loss: 0.4528 - mae: 0.5364 - val_loss: 0.5539 - val_mae: 0.5900\n",
      "Epoch 43/100\n",
      "6/6 - 0s - loss: 0.4542 - mae: 0.5440 - val_loss: 0.5636 - val_mae: 0.5997\n",
      "Epoch 44/100\n",
      "6/6 - 0s - loss: 0.4250 - mae: 0.5306 - val_loss: 0.5832 - val_mae: 0.6027\n",
      "Epoch 45/100\n",
      "6/6 - 0s - loss: 0.4218 - mae: 0.5321 - val_loss: 0.5664 - val_mae: 0.6188\n",
      "Epoch 46/100\n",
      "6/6 - 0s - loss: 0.4252 - mae: 0.5235 - val_loss: 0.5565 - val_mae: 0.5907\n",
      "Epoch 47/100\n",
      "6/6 - 0s - loss: 0.4214 - mae: 0.5269 - val_loss: 0.5469 - val_mae: 0.5849\n",
      "Epoch 48/100\n",
      "6/6 - 0s - loss: 0.4357 - mae: 0.5325 - val_loss: 0.5536 - val_mae: 0.6008\n",
      "Epoch 49/100\n",
      "6/6 - 0s - loss: 0.4265 - mae: 0.5235 - val_loss: 0.5692 - val_mae: 0.6002\n",
      "Epoch 50/100\n",
      "6/6 - 0s - loss: 0.4143 - mae: 0.5154 - val_loss: 0.5782 - val_mae: 0.5937\n",
      "Epoch 51/100\n",
      "6/6 - 0s - loss: 0.4405 - mae: 0.5389 - val_loss: 0.5518 - val_mae: 0.5873\n",
      "Epoch 52/100\n",
      "6/6 - 0s - loss: 0.4098 - mae: 0.5208 - val_loss: 0.5630 - val_mae: 0.5900\n",
      "Epoch 53/100\n",
      "6/6 - 0s - loss: 0.4264 - mae: 0.5238 - val_loss: 0.5915 - val_mae: 0.5835\n",
      "Epoch 54/100\n",
      "6/6 - 0s - loss: 0.4266 - mae: 0.5249 - val_loss: 0.5502 - val_mae: 0.6049\n",
      "Epoch 55/100\n",
      "6/6 - 0s - loss: 0.4511 - mae: 0.5367 - val_loss: 0.5561 - val_mae: 0.6044\n",
      "Epoch 56/100\n",
      "6/6 - 0s - loss: 0.4168 - mae: 0.5265 - val_loss: 0.5651 - val_mae: 0.5953\n",
      "Epoch 57/100\n",
      "6/6 - 0s - loss: 0.4358 - mae: 0.5229 - val_loss: 0.5665 - val_mae: 0.5890\n",
      "Epoch 58/100\n",
      "6/6 - 0s - loss: 0.4375 - mae: 0.5366 - val_loss: 0.5695 - val_mae: 0.5941\n",
      "Epoch 59/100\n",
      "6/6 - 0s - loss: 0.4174 - mae: 0.5242 - val_loss: 0.5716 - val_mae: 0.6094\n",
      "Epoch 60/100\n",
      "6/6 - 0s - loss: 0.4266 - mae: 0.5240 - val_loss: 0.5793 - val_mae: 0.6120\n",
      "Epoch 61/100\n",
      "6/6 - 0s - loss: 0.4373 - mae: 0.5247 - val_loss: 0.5916 - val_mae: 0.6010\n",
      "Epoch 62/100\n",
      "6/6 - 0s - loss: 0.4074 - mae: 0.5061 - val_loss: 0.5757 - val_mae: 0.6156\n",
      "Epoch 63/100\n",
      "6/6 - 0s - loss: 0.4483 - mae: 0.5256 - val_loss: 0.5824 - val_mae: 0.6210\n",
      "Epoch 64/100\n",
      "6/6 - 0s - loss: 0.4372 - mae: 0.5450 - val_loss: 0.5803 - val_mae: 0.5945\n",
      "Epoch 65/100\n",
      "6/6 - 0s - loss: 0.4020 - mae: 0.5055 - val_loss: 0.5714 - val_mae: 0.6019\n",
      "Epoch 66/100\n",
      "6/6 - 0s - loss: 0.4344 - mae: 0.5215 - val_loss: 0.5961 - val_mae: 0.5937\n",
      "Epoch 67/100\n",
      "6/6 - 0s - loss: 0.4343 - mae: 0.5327 - val_loss: 0.5723 - val_mae: 0.6175\n",
      "Epoch 68/100\n",
      "6/6 - 0s - loss: 0.3970 - mae: 0.5028 - val_loss: 0.5960 - val_mae: 0.5923\n",
      "Epoch 69/100\n",
      "6/6 - 0s - loss: 0.4040 - mae: 0.4985 - val_loss: 0.5982 - val_mae: 0.6096\n",
      "Epoch 70/100\n",
      "6/6 - 0s - loss: 0.4162 - mae: 0.5151 - val_loss: 0.6059 - val_mae: 0.6276\n",
      "Epoch 71/100\n",
      "6/6 - 0s - loss: 0.4150 - mae: 0.5235 - val_loss: 0.6229 - val_mae: 0.6061\n",
      "Epoch 72/100\n",
      "6/6 - 0s - loss: 0.3828 - mae: 0.5061 - val_loss: 0.6049 - val_mae: 0.6162\n",
      "Epoch 73/100\n",
      "6/6 - 0s - loss: 0.4018 - mae: 0.5040 - val_loss: 0.6346 - val_mae: 0.6188\n",
      "Epoch 74/100\n",
      "6/6 - 0s - loss: 0.3843 - mae: 0.5018 - val_loss: 0.5869 - val_mae: 0.6227\n",
      "Epoch 75/100\n",
      "6/6 - 0s - loss: 0.4021 - mae: 0.5066 - val_loss: 0.6076 - val_mae: 0.6112\n",
      "Epoch 76/100\n",
      "6/6 - 0s - loss: 0.3926 - mae: 0.4994 - val_loss: 0.5977 - val_mae: 0.6075\n",
      "Epoch 77/100\n",
      "6/6 - 0s - loss: 0.3940 - mae: 0.4986 - val_loss: 0.6021 - val_mae: 0.6137\n",
      "Epoch 78/100\n",
      "6/6 - 0s - loss: 0.4404 - mae: 0.5395 - val_loss: 0.5920 - val_mae: 0.6182\n",
      "Epoch 79/100\n",
      "6/6 - 0s - loss: 0.4065 - mae: 0.5052 - val_loss: 0.5856 - val_mae: 0.6138\n",
      "Epoch 80/100\n",
      "6/6 - 0s - loss: 0.3828 - mae: 0.4970 - val_loss: 0.6163 - val_mae: 0.6034\n",
      "Epoch 81/100\n",
      "6/6 - 0s - loss: 0.4047 - mae: 0.5084 - val_loss: 0.6093 - val_mae: 0.6149\n",
      "Epoch 82/100\n",
      "6/6 - 0s - loss: 0.3943 - mae: 0.5103 - val_loss: 0.6259 - val_mae: 0.6055\n",
      "Epoch 83/100\n",
      "6/6 - 0s - loss: 0.3877 - mae: 0.5108 - val_loss: 0.5945 - val_mae: 0.6165\n",
      "Epoch 84/100\n",
      "6/6 - 0s - loss: 0.3935 - mae: 0.5000 - val_loss: 0.5800 - val_mae: 0.6002\n",
      "Epoch 85/100\n",
      "6/6 - 0s - loss: 0.3972 - mae: 0.5163 - val_loss: 0.5794 - val_mae: 0.5858\n",
      "Epoch 86/100\n",
      "6/6 - 0s - loss: 0.3766 - mae: 0.4805 - val_loss: 0.6127 - val_mae: 0.5966\n",
      "Epoch 87/100\n",
      "6/6 - 0s - loss: 0.3962 - mae: 0.4977 - val_loss: 0.6086 - val_mae: 0.6004\n",
      "Epoch 88/100\n",
      "6/6 - 0s - loss: 0.3711 - mae: 0.4868 - val_loss: 0.5735 - val_mae: 0.6031\n",
      "Epoch 89/100\n",
      "6/6 - 0s - loss: 0.4388 - mae: 0.5280 - val_loss: 0.5927 - val_mae: 0.5946\n",
      "Epoch 90/100\n",
      "6/6 - 0s - loss: 0.4020 - mae: 0.5063 - val_loss: 0.5786 - val_mae: 0.5922\n",
      "Epoch 91/100\n",
      "6/6 - 0s - loss: 0.4153 - mae: 0.5060 - val_loss: 0.5808 - val_mae: 0.6082\n",
      "Epoch 92/100\n",
      "6/6 - 0s - loss: 0.3894 - mae: 0.4942 - val_loss: 0.5851 - val_mae: 0.5733\n",
      "Epoch 93/100\n",
      "6/6 - 0s - loss: 0.3651 - mae: 0.4788 - val_loss: 0.5963 - val_mae: 0.6091\n",
      "Epoch 94/100\n",
      "6/6 - 0s - loss: 0.3820 - mae: 0.4929 - val_loss: 0.6073 - val_mae: 0.6078\n"
     ]
    },
    {
     "name": "stdout",
     "output_type": "stream",
     "text": [
      "Epoch 95/100\n",
      "6/6 - 0s - loss: 0.3889 - mae: 0.5119 - val_loss: 0.6253 - val_mae: 0.6131\n",
      "Epoch 96/100\n",
      "6/6 - 0s - loss: 0.3869 - mae: 0.5105 - val_loss: 0.6295 - val_mae: 0.6082\n",
      "Epoch 97/100\n",
      "6/6 - 0s - loss: 0.3730 - mae: 0.4808 - val_loss: 0.6013 - val_mae: 0.6051\n",
      "Epoch 98/100\n",
      "6/6 - 0s - loss: 0.3677 - mae: 0.4894 - val_loss: 0.5889 - val_mae: 0.5886\n",
      "Epoch 99/100\n",
      "6/6 - 0s - loss: 0.3816 - mae: 0.5005 - val_loss: 0.5877 - val_mae: 0.5840\n",
      "Epoch 100/100\n",
      "6/6 - 0s - loss: 0.3592 - mae: 0.4802 - val_loss: 0.5886 - val_mae: 0.5859\n"
     ]
    }
   ],
   "source": [
    "# Train the model, with some of the data reserved for validation\n",
    "history = model.fit(train_data, train_targets, epochs=100, validation_split=0.15, batch_size=64, verbose=2)"
   ]
  },
  {
   "cell_type": "code",
   "execution_count": 18,
   "metadata": {},
   "outputs": [
    {
     "name": "stdout",
     "output_type": "stream",
     "text": [
      "2/2 - 0s - loss: 0.5931 - mae: 0.5525\n"
     ]
    },
    {
     "data": {
      "text/plain": [
       "[0.5930768251419067, 0.5525125861167908]"
      ]
     },
     "execution_count": 18,
     "metadata": {},
     "output_type": "execute_result"
    }
   ],
   "source": [
    "# Evaluate the model on the test set\n",
    "model.evaluate(test_data, test_targets, verbose=2)"
   ]
  },
  {
   "cell_type": "markdown",
   "metadata": {},
   "source": [
    "#### Plot the learning curves"
   ]
  },
  {
   "cell_type": "code",
   "execution_count": 19,
   "metadata": {},
   "outputs": [
    {
     "data": {
      "image/png": "[encoded data removed]",
      "text/plain": [
       "<Figure size 432x288 with 1 Axes>"
      ]
     },
     "metadata": {
      "needs_background": "light"
     },
     "output_type": "display_data"
    }
   ],
   "source": [
    "# Plot the training and validation loss\n",
    "\n",
    "import matplotlib.pyplot as plt\n",
    "\n",
    "plt.plot(history.history['loss'])\n",
    "plt.plot(history.history['val_loss'])\n",
    "plt.title('Loss vs. epochs')\n",
    "plt.ylabel('Loss')\n",
    "plt.xlabel('Epoch')\n",
    "plt.legend(['Training', 'Validation'], loc='upper right')\n",
    "plt.show()"
   ]
  },
  {
   "cell_type": "markdown",
   "metadata": {},
   "source": [
    "***\n",
    "<a id=\"coding_tutorial_3\"></a>\n",
    "## Introduction to callbacks"
   ]
  },
  {
   "cell_type": "markdown",
   "metadata": {},
   "source": [
    "#### Example training callback"
   ]
  },
  {
   "cell_type": "code",
   "execution_count": 20,
   "metadata": {},
   "outputs": [],
   "source": [
    "# Write a custom callback\n",
    "\n",
    "from tensorflow.keras.callbacks import Callback\n",
    "\n",
    "class TrainingCallback(Callback):\n",
    "    \n",
    "    def on_train_begin(self, logs=None):\n",
    "        print('Starting Training...')\n",
    "        \n",
    "    def on_epoch_begin(selg, epoch, logs=None):\n",
    "        print(f'Starting Epoch {epoch}')\n",
    "        \n",
    "    def on_train_batch_begin(self, batch, logs=None):\n",
    "        print(f'Training: Starting batch {batch}')\n",
    "        \n",
    "    def on_train_batch_end(self, batch, logs=None):\n",
    "        print(f'Training Finished batch {batch}')\n",
    "        \n",
    "    def on_epoch_end(self, epoch, logs=None):\n",
    "        print(f'Finished epoch {epoch}')\n",
    "        \n",
    "    def on_train_end(self, logs=None):\n",
    "        print('Training Finished...')"
   ]
  },
  {
   "cell_type": "code",
   "execution_count": 21,
   "metadata": {},
   "outputs": [],
   "source": [
    "# Re-build the model\n",
    "\n",
    "model = get_regularized_model(1e-5, 0.3)"
   ]
  },
  {
   "cell_type": "code",
   "execution_count": 22,
   "metadata": {},
   "outputs": [],
   "source": [
    "# Compile the model\n",
    "\n",
    "model.compile(optimizer='adam', loss='mae')"
   ]
  },
  {
   "cell_type": "markdown",
   "metadata": {},
   "source": [
    "#### Train the model with the callback"
   ]
  },
  {
   "cell_type": "code",
   "execution_count": 24,
   "metadata": {},
   "outputs": [
    {
     "name": "stdout",
     "output_type": "stream",
     "text": [
      "Starting Training...\n",
      "Starting Epoch 0\n",
      "Training: Starting batch 0\n",
      "Training Finished batch 0\n",
      "Training: Starting batch 1\n",
      "Training Finished batch 1\n",
      "Training: Starting batch 2\n",
      "Training Finished batch 2\n",
      "Training: Starting batch 3\n",
      "Training Finished batch 3\n",
      "Finished epoch 0\n",
      "Starting Epoch 1\n",
      "Training: Starting batch 0\n",
      "Training Finished batch 0\n",
      "Training: Starting batch 1\n",
      "Training Finished batch 1\n",
      "Training: Starting batch 2\n",
      "Training Finished batch 2\n",
      "Training: Starting batch 3\n",
      "Training Finished batch 3\n",
      "Finished epoch 1\n",
      "Starting Epoch 2\n",
      "Training: Starting batch 0\n",
      "Training Finished batch 0\n",
      "Training: Starting batch 1\n",
      "Training Finished batch 1\n",
      "Training: Starting batch 2\n",
      "Training Finished batch 2\n",
      "Training: Starting batch 3\n",
      "Training Finished batch 3\n",
      "Finished epoch 2\n",
      "Training Finished...\n"
     ]
    },
    {
     "data": {
      "text/plain": [
       "<tensorflow.python.keras.callbacks.History at 0x1dda63c37c8>"
      ]
     },
     "execution_count": 24,
     "metadata": {},
     "output_type": "execute_result"
    }
   ],
   "source": [
    "# Train the model, with some of the data reserved for validation\n",
    "\n",
    "model.fit(train_data, train_targets, epochs=3, batch_size=128, verbose=False, callbacks=[TrainingCallback()])"
   ]
  },
  {
   "cell_type": "code",
   "execution_count": 25,
   "metadata": {},
   "outputs": [
    {
     "name": "stdout",
     "output_type": "stream",
     "text": [
      "2/2 [==============================] - 0s 0s/step - loss: 0.8852\n"
     ]
    },
    {
     "data": {
      "text/plain": [
       "0.8852219581604004"
      ]
     },
     "execution_count": 25,
     "metadata": {},
     "output_type": "execute_result"
    }
   ],
   "source": [
    "# Evaluate the model\n",
    "\n",
    "model.evaluate(test_data, test_targets)"
   ]
  },
  {
   "cell_type": "code",
   "execution_count": 26,
   "metadata": {},
   "outputs": [
    {
     "data": {
      "text/plain": [
       "array([[-0.14475821],\n",
       "       [-0.1162711 ],\n",
       "       [-0.15827723],\n",
       "       [-0.10954391],\n",
       "       [-0.17448135],\n",
       "       [-0.1610864 ],\n",
       "       [-0.19931594],\n",
       "       [-0.13903499],\n",
       "       [-0.15777865],\n",
       "       [-0.11235895],\n",
       "       [-0.09535206],\n",
       "       [-0.13575129],\n",
       "       [-0.16292837],\n",
       "       [-0.12524027],\n",
       "       [-0.11459959],\n",
       "       [-0.14101005],\n",
       "       [-0.1405041 ],\n",
       "       [-0.14869945],\n",
       "       [-0.12858817],\n",
       "       [-0.18416364],\n",
       "       [-0.13896872],\n",
       "       [-0.1756018 ],\n",
       "       [-0.11468788],\n",
       "       [-0.1846023 ],\n",
       "       [-0.1414244 ],\n",
       "       [-0.1661603 ],\n",
       "       [-0.12001605],\n",
       "       [-0.12365804],\n",
       "       [-0.19669345],\n",
       "       [-0.1180684 ],\n",
       "       [-0.1624778 ],\n",
       "       [-0.09990608],\n",
       "       [-0.14401878],\n",
       "       [-0.10882281],\n",
       "       [-0.18780993],\n",
       "       [-0.14383982],\n",
       "       [-0.11803835],\n",
       "       [-0.15442915],\n",
       "       [-0.18958764],\n",
       "       [-0.0950246 ],\n",
       "       [-0.13196531],\n",
       "       [-0.1929922 ],\n",
       "       [-0.14820193],\n",
       "       [-0.12005615],\n",
       "       [-0.16148363]], dtype=float32)"
      ]
     },
     "execution_count": 26,
     "metadata": {},
     "output_type": "execute_result"
    }
   ],
   "source": [
    "# Make predictions with the model\n",
    "\n",
    "model.predict(test_data, verbose=False)"
   ]
  },
  {
   "cell_type": "markdown",
   "metadata": {},
   "source": [
    "***\n",
    "<a id=\"coding_tutorial_4\"></a>\n",
    "## Early stopping / patience"
   ]
  },
  {
   "cell_type": "markdown",
   "metadata": {},
   "source": [
    "#### Re-train the models with early stopping"
   ]
  },
  {
   "cell_type": "code",
   "execution_count": null,
   "metadata": {},
   "outputs": [],
   "source": [
    "# Re-train the unregularised model\n",
    "\n"
   ]
  },
  {
   "cell_type": "code",
   "execution_count": null,
   "metadata": {},
   "outputs": [],
   "source": [
    "# Evaluate the model on the test set\n",
    "\n"
   ]
  },
  {
   "cell_type": "code",
   "execution_count": null,
   "metadata": {},
   "outputs": [],
   "source": [
    "# Re-train the regularised model\n",
    "\n"
   ]
  },
  {
   "cell_type": "code",
   "execution_count": null,
   "metadata": {},
   "outputs": [],
   "source": [
    "# Evaluate the model on the test set\n",
    "\n"
   ]
  },
  {
   "cell_type": "markdown",
   "metadata": {},
   "source": [
    "#### Plot the learning curves"
   ]
  },
  {
   "cell_type": "code",
   "execution_count": null,
   "metadata": {},
   "outputs": [],
   "source": [
    "# Plot the training and validation loss\n",
    "\n",
    "import matplotlib.pyplot as plt\n",
    "\n",
    "fig = plt.figure(figsize=(12, 5))\n",
    "\n",
    "fig.add_subplot(121)\n",
    "\n",
    "plt.plot(unreg_history.history['loss'])\n",
    "plt.plot(unreg_history.history['val_loss'])\n",
    "plt.title('Unregularised model: loss vs. epochs')\n",
    "plt.ylabel('Loss')\n",
    "plt.xlabel('Epoch')\n",
    "plt.legend(['Training', 'Validation'], loc='upper right')\n",
    "\n",
    "fig.add_subplot(122)\n",
    "\n",
    "plt.plot(reg_history.history['loss'])\n",
    "plt.plot(reg_history.history['val_loss'])\n",
    "plt.title('Regularised model: loss vs. epochs')\n",
    "plt.ylabel('Loss')\n",
    "plt.xlabel('Epoch')\n",
    "plt.legend(['Training', 'Validation'], loc='upper right')\n",
    "\n",
    "plt.show()"
   ]
  }
 ],
 "metadata": {
  "kernelspec": {
   "display_name": "Python 3",
   "language": "python",
   "name": "python3"
  },
  "language_info": {
   "codemirror_mode": {
    "name": "ipython",
    "version": 3
   },
   "file_extension": ".py",
   "mimetype": "text/x-python",
   "name": "python",
   "nbconvert_exporter": "python",
   "pygments_lexer": "ipython3",
   "version": "3.7.6"
  }
 },
 "nbformat": 4,
 "nbformat_minor": 2
}
