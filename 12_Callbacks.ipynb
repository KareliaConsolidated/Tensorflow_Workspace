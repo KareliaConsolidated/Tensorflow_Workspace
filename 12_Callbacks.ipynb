{
 "cells": [
  {
   "cell_type": "code",
   "execution_count": 1,
   "metadata": {
    "scrolled": true
   },
   "outputs": [
    {
     "name": "stdout",
     "output_type": "stream",
     "text": [
      "2.2.0\n"
     ]
    }
   ],
   "source": [
    "import tensorflow as tf\n",
    "print(tf.__version__)"
   ]
  },
  {
   "cell_type": "markdown",
   "metadata": {},
   "source": [
    "# Validation, regularisation and callbacks"
   ]
  },
  {
   "cell_type": "markdown",
   "metadata": {},
   "source": [
    " ## Coding tutorials\n",
    " #### [1. Validation sets](#coding_tutorial_1)\n",
    " #### [2. Model regularisation](#coding_tutorial_2)\n",
    " #### [3. Introduction to callbacks](#coding_tutorial_3)\n",
    " #### [4. Early stopping / patience](#coding_tutorial_4)"
   ]
  },
  {
   "cell_type": "markdown",
   "metadata": {},
   "source": [
    "***\n",
    "<a id=\"coding_tutorial_1\"></a>\n",
    "## Validation sets"
   ]
  },
  {
   "cell_type": "markdown",
   "metadata": {},
   "source": [
    "#### Load the data"
   ]
  },
  {
   "cell_type": "code",
   "execution_count": 2,
   "metadata": {
    "scrolled": false
   },
   "outputs": [
    {
     "data": {
      "text/plain": [
       "'0.23.1'"
      ]
     },
     "execution_count": 2,
     "metadata": {},
     "output_type": "execute_result"
    }
   ],
   "source": [
    "import sklearn\n",
    "sklearn.__version__"
   ]
  },
  {
   "cell_type": "code",
   "execution_count": 3,
   "metadata": {},
   "outputs": [
    {
     "name": "stdout",
     "output_type": "stream",
     "text": [
      ".. _diabetes_dataset:\n",
      "\n",
      "Diabetes dataset\n",
      "----------------\n",
      "\n",
      "Ten baseline variables, age, sex, body mass index, average blood\n",
      "pressure, and six blood serum measurements were obtained for each of n =\n",
      "442 diabetes patients, as well as the response of interest, a\n",
      "quantitative measure of disease progression one year after baseline.\n",
      "\n",
      "**Data Set Characteristics:**\n",
      "\n",
      "  :Number of Instances: 442\n",
      "\n",
      "  :Number of Attributes: First 10 columns are numeric predictive values\n",
      "\n",
      "  :Target: Column 11 is a quantitative measure of disease progression one year after baseline\n",
      "\n",
      "  :Attribute Information:\n",
      "      - age     age in years\n",
      "      - sex\n",
      "      - bmi     body mass index\n",
      "      - bp      average blood pressure\n",
      "      - s1      tc, T-Cells (a type of white blood cells)\n",
      "      - s2      ldl, low-density lipoproteins\n",
      "      - s3      hdl, high-density lipoproteins\n",
      "      - s4      tch, thyroid stimulating hormone\n",
      "      - s5      ltg, lamotrigine\n",
      "      - s6      glu, blood sugar level\n",
      "\n",
      "Note: Each of these 10 feature variables have been mean centered and scaled by the standard deviation times `n_samples` (i.e. the sum of squares of each column totals 1).\n",
      "\n",
      "Source URL:\n",
      "https://www4.stat.ncsu.edu/~boos/var.select/diabetes.html\n",
      "\n",
      "For more information see:\n",
      "Bradley Efron, Trevor Hastie, Iain Johnstone and Robert Tibshirani (2004) \"Least Angle Regression,\" Annals of Statistics (with discussion), 407-499.\n",
      "(https://web.stanford.edu/~hastie/Papers/LARS/LeastAngle_2002.pdf)\n"
     ]
    }
   ],
   "source": [
    "# Load the diabetes dataset\n",
    "\n",
    "from sklearn.datasets import load_diabetes\n",
    "\n",
    "diabetes_dataset = load_diabetes()\n",
    "print(diabetes_dataset['DESCR'])"
   ]
  },
  {
   "cell_type": "code",
   "execution_count": 4,
   "metadata": {},
   "outputs": [],
   "source": [
    "# Save the input and target variables\n",
    "\n",
    "data = diabetes_dataset[\"data\"]\n",
    "targets = diabetes_dataset[\"target\"]"
   ]
  },
  {
   "cell_type": "code",
   "execution_count": 5,
   "metadata": {},
   "outputs": [
    {
     "data": {
      "text/plain": [
       "array([-1.47194752e-02, -1.00165882e+00, -1.44579915e-01,  6.99512942e-01,\n",
       "       -2.22496178e-01, -7.15965848e-01, -1.83538046e-01, -1.15749134e+00,\n",
       "       -5.47147277e-01,  2.05006151e+00, -6.64021672e-01, -1.07957508e+00,\n",
       "        3.48889755e-01,  4.26806019e-01, -4.43258925e-01,  2.45001404e-01,\n",
       "        1.80071184e-01, -1.05621783e-01, -7.15965848e-01,  2.06043272e-01,\n",
       "       -1.09256112e+00, -1.33929596e+00, -1.09256112e+00,  1.20596866e+00,\n",
       "        4.13819975e-01,  6.47568766e-01, -1.96524090e-01, -8.71798376e-01,\n",
       "       -2.74440354e-01,  1.69943833e+00, -3.00412442e-01, -1.20943552e+00,\n",
       "        2.45262887e+00, -8.45826288e-01, -1.13151925e+00, -6.51035629e-01,\n",
       "        1.46568953e+00,  1.60853602e+00,  1.29687096e+00, -8.06868156e-01,\n",
       "       -6.77007716e-01, -1.26137969e+00, -1.18346343e+00, -7.80896068e-01,\n",
       "        1.38777327e+00, -1.28735178e+00,  4.91736239e-01, -1.31593871e-01,\n",
       "       -1.00165882e+00, -1.31593871e-01,  3.72247006e-02,  9.46247777e-01,\n",
       "       -1.20943552e+00, -6.25063541e-01,  3.87847887e-01, -3.13398486e-01,\n",
       "       -1.30033783e+00, -1.49512849e+00,  2.32015360e-01,  2.32015360e-01,\n",
       "       -1.18346343e+00, -1.05621783e-01, -1.30033783e+00, -3.13398486e-01,\n",
       "       -1.05360299e+00,  1.41113052e-01, -2.77055191e-02, -7.15965848e-01,\n",
       "        1.02154920e-01,  3.35903711e-01, -1.35228200e+00,  1.53061975e+00,\n",
       "        6.47568766e-01, -5.34161233e-01, -8.71798376e-01, -1.43019827e+00,\n",
       "        2.32015360e-01,  6.21596678e-01,  1.29687096e+00, -5.08189145e-01,\n",
       "       -1.18607827e-01, -1.31332387e+00, -1.30033783e+00,  7.51457118e-01,\n",
       "       -1.13151925e+00, -1.44579915e-01, -1.26137969e+00, -2.35482222e-01,\n",
       "       -1.43019827e+00, -5.34161233e-01, -7.02979804e-01,  1.54099096e-01,\n",
       "       -1.35228200e+00, -7.28951892e-01, -8.06868156e-01,  1.28127008e-01,\n",
       "       -2.77055191e-02,  1.64749415e+00, -7.80896068e-01, -8.97770464e-01,\n",
       "       -3.13398486e-01, -6.51035629e-01,  1.94617316e+00,  5.95624590e-01,\n",
       "       -7.41937936e-01, -1.28735178e+00, -2.35482222e-01, -1.05621783e-01,\n",
       "        1.03715008e+00, -9.23742551e-01, -6.25063541e-01, -1.20943552e+00,\n",
       "        1.21895470e+00,  1.88124294e+00,  1.37478723e+00,  9.98191953e-01,\n",
       "        1.59554997e+00,  1.67346624e+00,  3.48889755e-01,  6.21596678e-01,\n",
       "        6.21596678e-01,  2.70973492e-01,  3.61875799e-01, -8.84784420e-01,\n",
       "       -4.04300794e-01,  1.15140964e-01, -6.89993760e-01, -5.60133321e-01,\n",
       "       -4.82217057e-01,  1.50464767e+00,  1.58256393e+00,  7.61828325e-02,\n",
       "       -5.86105409e-01, -8.97770464e-01, -6.38049585e-01,  1.55659184e+00,\n",
       "       -8.71798376e-01,  1.66048019e+00,  2.38769865e+00,  1.67346624e+00,\n",
       "       -4.43258925e-01,  2.14096382e+00,  1.07610822e+00, -1.19644947e+00,\n",
       "        2.83959536e-01,  1.38777327e+00,  3.35903711e-01, -3.13398486e-01,\n",
       "       -7.28951892e-01, -3.39370574e-01,  1.76436855e+00, -8.32840244e-01,\n",
       "        1.81631272e+00, -1.05360299e+00,  5.82638546e-01,  4.39792063e-01,\n",
       "       -1.65096101e+00, -8.84784420e-01, -7.28951892e-01,  5.56666458e-01,\n",
       "       -1.28735178e+00,  8.42359425e-01,  2.57987448e-01, -2.74440354e-01,\n",
       "        8.03401293e-01, -1.20943552e+00, -1.06658903e+00,  8.81317557e-01,\n",
       "        1.50464767e+00, -1.73343121e-03, -1.36526805e+00, -1.01464486e+00,\n",
       "        1.85527085e+00, -6.64021672e-01, -1.47194752e-02, -3.26384530e-01,\n",
       "        1.10208030e+00,  9.46247777e-01, -9.23742551e-01, -1.47194752e-02,\n",
       "       -5.86105409e-01, -1.14450530e+00, -1.83538046e-01,  4.26806019e-01,\n",
       "        1.46568953e+00, -6.64021672e-01, -1.96524090e-01, -1.18607827e-01,\n",
       "       -1.44579915e-01, -9.49714639e-01,  1.81631272e+00,  3.35903711e-01,\n",
       "       -7.93882112e-01, -4.69231013e-01, -8.58812332e-01, -3.91314750e-01,\n",
       "       -1.04061695e+00, -3.00412442e-01, -1.31593871e-01, -8.06868156e-01,\n",
       "        7.61828325e-02, -1.46915640e+00,  5.69652502e-01,  9.07289645e-01,\n",
       "        1.62152206e+00, -6.89993760e-01,  5.69652502e-01,  6.47568766e-01,\n",
       "        3.72247006e-02, -9.75686727e-01,  5.04722283e-01, -1.06658903e+00,\n",
       "       -1.02763090e+00, -1.33929596e+00, -1.13151925e+00,  1.43971745e+00,\n",
       "        1.24492679e+00,  1.86825690e+00,  8.03401293e-01,  4.26806019e-01,\n",
       "       -9.62700683e-01, -7.67910024e-01,  1.29687096e+00, -2.77055191e-02,\n",
       "       -9.75686727e-01,  7.25485030e-01, -9.75686727e-01, -5.73119365e-01,\n",
       "        1.02154920e-01, -1.28735178e+00,  8.81317557e-01,  2.42386567e-02,\n",
       "        1.38777327e+00, -8.06868156e-01,  1.21895470e+00, -3.65342662e-01,\n",
       "       -1.10554717e+00, -1.04061695e+00,  1.36180118e+00,  1.42673140e+00,\n",
       "        1.59554997e+00,  3.22917667e-01, -1.05360299e+00, -1.36526805e+00,\n",
       "        4.52778107e-01, -3.52356618e-01, -9.62700683e-01, -1.31332387e+00,\n",
       "        1.37478723e+00,  8.16387337e-01,  1.95915920e+00,  1.17999657e+00,\n",
       "       -7.93882112e-01, -2.77055191e-02,  2.05006151e+00,  1.12526127e-02,\n",
       "        2.51755909e+00, -1.15749134e+00, -8.19854200e-01, -1.32630991e+00,\n",
       "       -1.46915640e+00, -6.38049585e-01,  2.02408942e+00, -4.69231013e-01,\n",
       "       -9.26357388e-02, -1.01464486e+00, -1.39124013e+00, -4.82217057e-01,\n",
       "        1.45270349e+00, -8.45826288e-01,  6.47568766e-01, -3.26384530e-01,\n",
       "        3.87847887e-01,  1.15402448e+00, -1.11853321e+00, -7.54923980e-01,\n",
       "        1.69943833e+00, -1.14450530e+00, -6.51035629e-01,  6.21596678e-01,\n",
       "        1.46568953e+00, -7.54923980e-01,  1.01117800e+00,  3.74861843e-01,\n",
       "        5.02107446e-02,  1.05013613e+00, -1.19644947e+00,  8.68331513e-01,\n",
       "       -9.36728595e-01, -1.09256112e+00,  2.33575448e+00,  1.24492679e+00,\n",
       "       -8.84784420e-01,  6.21596678e-01, -1.26137969e+00, -8.71798376e-01,\n",
       "       -8.19854200e-01, -1.57304475e+00, -3.00412442e-01, -8.97770464e-01,\n",
       "        1.59554997e+00, -1.13151925e+00,  5.95624590e-01,  1.08909426e+00,\n",
       "        1.30985701e+00, -3.65342662e-01, -1.40422618e+00,  2.57987448e-01,\n",
       "       -4.95203101e-01, -1.31593871e-01, -5.60133321e-01,  3.61875799e-01,\n",
       "       -1.05621783e-01,  1.41113052e-01, -6.66636509e-02, -7.15965848e-01,\n",
       "        8.81317557e-01,  4.91736239e-01, -5.60133321e-01,  5.04722283e-01,\n",
       "       -3.91314750e-01,  1.01117800e+00,  1.16701052e+00,  1.24492679e+00,\n",
       "        1.25791283e+00,  5.17708327e-01, -2.74440354e-01,  1.10208030e+00,\n",
       "       -9.62700683e-01, -2.22496178e-01,  1.19298261e+00,  6.08610634e-01,\n",
       "        1.53061975e+00,  1.54099096e-01, -1.04061695e+00, -7.28951892e-01,\n",
       "        1.99811734e+00, -7.93882112e-01,  8.03401293e-01, -7.41937936e-01,\n",
       "        8.29373381e-01,  1.43971745e+00,  3.35903711e-01, -5.08189145e-01,\n",
       "        6.21596678e-01, -1.70552003e-01, -1.70552003e-01, -8.32840244e-01,\n",
       "       -5.36776070e-02, -8.32840244e-01,  1.17999657e+00, -1.05360299e+00,\n",
       "       -9.75686727e-01, -5.60133321e-01,  1.55659184e+00, -1.19644947e+00,\n",
       "       -1.27436574e+00,  8.94303601e-01, -8.06868156e-01,  2.06304756e+00,\n",
       "        1.67346624e+00,  3.87847887e-01,  2.19290800e+00, -1.22242156e+00,\n",
       "        1.42673140e+00,  6.99512942e-01,  1.05013613e+00,  1.16701052e+00,\n",
       "       -3.78328706e-01,  1.93057228e-01, -1.15749134e+00,  5.82638546e-01,\n",
       "       -1.05360299e+00,  2.06043272e-01, -1.57565959e-01,  8.42359425e-01,\n",
       "       -4.04300794e-01,  1.07610822e+00,  1.20596866e+00, -1.45617035e+00,\n",
       "       -1.30033783e+00, -6.25063541e-01, -2.61454310e-01, -8.32840244e-01,\n",
       "       -1.07957508e+00,  8.68331513e-01, -1.04061695e+00,  6.34582722e-01,\n",
       "       -5.47147277e-01, -1.31332387e+00,  1.62152206e+00, -1.15749134e+00,\n",
       "       -4.43258925e-01, -1.07957508e+00,  1.56957789e+00,  1.37478723e+00,\n",
       "       -1.41721222e+00,  5.95624590e-01,  1.16701052e+00,  1.03715008e+00,\n",
       "        2.96945580e-01, -7.67910024e-01,  2.06043272e-01,  1.59554997e+00,\n",
       "        1.82929877e+00,  1.67346624e+00, -1.04061695e+00, -1.57565959e-01,\n",
       "        4.78750195e-01,  3.74861843e-01,  7.38471074e-01, -2.09510134e-01,\n",
       "        1.41374536e+00, -5.08189145e-01, -2.74440354e-01,  2.83959536e-01,\n",
       "        1.36180118e+00, -1.26137969e+00, -8.84784420e-01, -1.43019827e+00,\n",
       "       -7.96496949e-02,  7.77429206e-01,  1.05013613e+00, -7.93882112e-01,\n",
       "       -5.34161233e-01, -1.73343121e-03, -4.17286837e-01, -1.10554717e+00,\n",
       "        2.05006151e+00, -7.54923980e-01,  4.00833931e-01, -1.11853321e+00,\n",
       "        2.70973492e-01, -1.04061695e+00, -1.33929596e+00, -1.14450530e+00,\n",
       "       -1.35228200e+00,  3.35903711e-01, -6.25063541e-01, -2.61454310e-01,\n",
       "        8.81317557e-01, -1.23540761e+00])"
      ]
     },
     "execution_count": 5,
     "metadata": {},
     "output_type": "execute_result"
    }
   ],
   "source": [
    "# Normalise the target data (this will make clearer training curves)\n",
    "\n",
    "targets = (targets - targets.mean(axis=0)) / targets.std()\n",
    "targets"
   ]
  },
  {
   "cell_type": "code",
   "execution_count": 6,
   "metadata": {},
   "outputs": [
    {
     "name": "stdout",
     "output_type": "stream",
     "text": [
      "(397, 10)\n",
      "(45, 10)\n",
      "(397,)\n",
      "(45,)\n"
     ]
    }
   ],
   "source": [
    "# Split the data into train and test sets\n",
    "\n",
    "from sklearn.model_selection import train_test_split\n",
    "\n",
    "train_data, test_data, train_targets, test_targets = train_test_split(data, targets, test_size=0.1)\n",
    "\n",
    "print(train_data.shape)\n",
    "print(test_data.shape)\n",
    "print(train_targets.shape)\n",
    "print(test_targets.shape)"
   ]
  },
  {
   "cell_type": "markdown",
   "metadata": {},
   "source": [
    "#### Train a feedforward neural network model"
   ]
  },
  {
   "cell_type": "code",
   "execution_count": 7,
   "metadata": {},
   "outputs": [],
   "source": [
    "# Build the model\n",
    "\n",
    "from tensorflow.keras.models import Sequential\n",
    "from tensorflow.keras.layers import Dense\n",
    "\n",
    "def get_model():\n",
    "    model = Sequential([\n",
    "        Dense(128, activation='relu', input_shape=(train_data.shape[1],)),\n",
    "        Dense(128, activation='relu'),\n",
    "        Dense(128, activation='relu'),\n",
    "        Dense(128, activation='relu'),\n",
    "        Dense(128, activation='relu'),\n",
    "        Dense(128, activation='relu'),\n",
    "        Dense(1)\n",
    "    ])\n",
    "    \n",
    "    return model\n",
    "\n",
    "model = get_model()"
   ]
  },
  {
   "cell_type": "code",
   "execution_count": 8,
   "metadata": {},
   "outputs": [
    {
     "name": "stdout",
     "output_type": "stream",
     "text": [
      "Model: \"sequential\"\n",
      "_________________________________________________________________\n",
      "Layer (type)                 Output Shape              Param #   \n",
      "=================================================================\n",
      "dense (Dense)                (None, 128)               1408      \n",
      "_________________________________________________________________\n",
      "dense_1 (Dense)              (None, 128)               16512     \n",
      "_________________________________________________________________\n",
      "dense_2 (Dense)              (None, 128)               16512     \n",
      "_________________________________________________________________\n",
      "dense_3 (Dense)              (None, 128)               16512     \n",
      "_________________________________________________________________\n",
      "dense_4 (Dense)              (None, 128)               16512     \n",
      "_________________________________________________________________\n",
      "dense_5 (Dense)              (None, 128)               16512     \n",
      "_________________________________________________________________\n",
      "dense_6 (Dense)              (None, 1)                 129       \n",
      "=================================================================\n",
      "Total params: 84,097\n",
      "Trainable params: 84,097\n",
      "Non-trainable params: 0\n",
      "_________________________________________________________________\n"
     ]
    }
   ],
   "source": [
    "# Print the model summary\n",
    "\n",
    "model.summary()"
   ]
  },
  {
   "cell_type": "code",
   "execution_count": 9,
   "metadata": {},
   "outputs": [],
   "source": [
    "# Compile the model\n",
    "\n",
    "model.compile(optimizer='adam', loss='mse', metrics=['mae'])"
   ]
  },
  {
   "cell_type": "code",
   "execution_count": 10,
   "metadata": {},
   "outputs": [
    {
     "name": "stdout",
     "output_type": "stream",
     "text": [
      "Epoch 1/100\n",
      "6/6 - 0s - loss: 0.9560 - mae: 0.8351 - val_loss: 1.0973 - val_mae: 0.9026\n",
      "Epoch 2/100\n",
      "6/6 - 0s - loss: 0.8570 - mae: 0.7970 - val_loss: 0.8970 - val_mae: 0.8154\n",
      "Epoch 3/100\n",
      "6/6 - 0s - loss: 0.6574 - mae: 0.6931 - val_loss: 0.6209 - val_mae: 0.6663\n",
      "Epoch 4/100\n",
      "6/6 - 0s - loss: 0.5278 - mae: 0.5884 - val_loss: 0.5673 - val_mae: 0.6084\n",
      "Epoch 5/100\n",
      "6/6 - 0s - loss: 0.4796 - mae: 0.5449 - val_loss: 0.7260 - val_mae: 0.6943\n",
      "Epoch 6/100\n",
      "6/6 - 0s - loss: 0.4953 - mae: 0.5752 - val_loss: 0.6835 - val_mae: 0.6562\n",
      "Epoch 7/100\n",
      "6/6 - 0s - loss: 0.4940 - mae: 0.5693 - val_loss: 0.6103 - val_mae: 0.6292\n",
      "Epoch 8/100\n",
      "6/6 - 0s - loss: 0.4441 - mae: 0.5419 - val_loss: 0.5887 - val_mae: 0.6090\n",
      "Epoch 9/100\n",
      "6/6 - 0s - loss: 0.4298 - mae: 0.5224 - val_loss: 0.6066 - val_mae: 0.6257\n",
      "Epoch 10/100\n",
      "6/6 - 0s - loss: 0.4323 - mae: 0.5333 - val_loss: 0.5835 - val_mae: 0.5968\n",
      "Epoch 11/100\n",
      "6/6 - 0s - loss: 0.4165 - mae: 0.5088 - val_loss: 0.5735 - val_mae: 0.5839\n",
      "Epoch 12/100\n",
      "6/6 - 0s - loss: 0.4059 - mae: 0.5018 - val_loss: 0.5739 - val_mae: 0.5876\n",
      "Epoch 13/100\n",
      "6/6 - 0s - loss: 0.4045 - mae: 0.5096 - val_loss: 0.5951 - val_mae: 0.5942\n",
      "Epoch 14/100\n",
      "6/6 - 0s - loss: 0.4523 - mae: 0.5263 - val_loss: 0.5858 - val_mae: 0.6103\n",
      "Epoch 15/100\n",
      "6/6 - 0s - loss: 0.4172 - mae: 0.5241 - val_loss: 0.5932 - val_mae: 0.6034\n",
      "Epoch 16/100\n",
      "6/6 - 0s - loss: 0.4141 - mae: 0.5021 - val_loss: 0.6055 - val_mae: 0.6171\n",
      "Epoch 17/100\n",
      "6/6 - 0s - loss: 0.4174 - mae: 0.5239 - val_loss: 0.6121 - val_mae: 0.6063\n",
      "Epoch 18/100\n",
      "6/6 - 0s - loss: 0.4440 - mae: 0.5172 - val_loss: 0.6025 - val_mae: 0.6215\n",
      "Epoch 19/100\n",
      "6/6 - 0s - loss: 0.3990 - mae: 0.5126 - val_loss: 0.5853 - val_mae: 0.5908\n",
      "Epoch 20/100\n",
      "6/6 - 0s - loss: 0.4067 - mae: 0.4989 - val_loss: 0.5814 - val_mae: 0.5828\n",
      "Epoch 21/100\n",
      "6/6 - 0s - loss: 0.3627 - mae: 0.4807 - val_loss: 0.5883 - val_mae: 0.5881\n",
      "Epoch 22/100\n",
      "6/6 - 0s - loss: 0.3475 - mae: 0.4652 - val_loss: 0.5960 - val_mae: 0.5774\n",
      "Epoch 23/100\n",
      "6/6 - 0s - loss: 0.3390 - mae: 0.4526 - val_loss: 0.6002 - val_mae: 0.5813\n",
      "Epoch 24/100\n",
      "6/6 - 0s - loss: 0.3449 - mae: 0.4564 - val_loss: 0.6150 - val_mae: 0.6105\n",
      "Epoch 25/100\n",
      "6/6 - 0s - loss: 0.3459 - mae: 0.4676 - val_loss: 0.6092 - val_mae: 0.5854\n",
      "Epoch 26/100\n",
      "6/6 - 0s - loss: 0.3269 - mae: 0.4488 - val_loss: 0.6056 - val_mae: 0.5952\n",
      "Epoch 27/100\n",
      "6/6 - 0s - loss: 0.3164 - mae: 0.4405 - val_loss: 0.6128 - val_mae: 0.5959\n",
      "Epoch 28/100\n",
      "6/6 - 0s - loss: 0.3155 - mae: 0.4429 - val_loss: 0.6325 - val_mae: 0.5862\n",
      "Epoch 29/100\n",
      "6/6 - 0s - loss: 0.3271 - mae: 0.4477 - val_loss: 0.6269 - val_mae: 0.6199\n",
      "Epoch 30/100\n",
      "6/6 - 0s - loss: 0.2935 - mae: 0.4298 - val_loss: 0.6248 - val_mae: 0.5898\n",
      "Epoch 31/100\n",
      "6/6 - 0s - loss: 0.2951 - mae: 0.4193 - val_loss: 0.6229 - val_mae: 0.5923\n",
      "Epoch 32/100\n",
      "6/6 - 0s - loss: 0.2870 - mae: 0.4217 - val_loss: 0.6781 - val_mae: 0.6178\n",
      "Epoch 33/100\n",
      "6/6 - 0s - loss: 0.3322 - mae: 0.4489 - val_loss: 0.7157 - val_mae: 0.6911\n",
      "Epoch 34/100\n",
      "6/6 - 0s - loss: 0.3224 - mae: 0.4552 - val_loss: 0.6470 - val_mae: 0.6056\n",
      "Epoch 35/100\n",
      "6/6 - 0s - loss: 0.2778 - mae: 0.4184 - val_loss: 0.6418 - val_mae: 0.5939\n",
      "Epoch 36/100\n",
      "6/6 - 0s - loss: 0.2669 - mae: 0.3995 - val_loss: 0.6864 - val_mae: 0.6421\n",
      "Epoch 37/100\n",
      "6/6 - 0s - loss: 0.2717 - mae: 0.4159 - val_loss: 0.6617 - val_mae: 0.6171\n",
      "Epoch 38/100\n",
      "6/6 - 0s - loss: 0.2413 - mae: 0.3917 - val_loss: 0.6820 - val_mae: 0.6121\n",
      "Epoch 39/100\n",
      "6/6 - 0s - loss: 0.2404 - mae: 0.3750 - val_loss: 0.7021 - val_mae: 0.6485\n",
      "Epoch 40/100\n",
      "6/6 - 0s - loss: 0.2317 - mae: 0.3706 - val_loss: 0.7456 - val_mae: 0.6951\n",
      "Epoch 41/100\n",
      "6/6 - 0s - loss: 0.2501 - mae: 0.3976 - val_loss: 0.7036 - val_mae: 0.6345\n",
      "Epoch 42/100\n",
      "6/6 - 0s - loss: 0.2108 - mae: 0.3571 - val_loss: 0.7196 - val_mae: 0.6512\n",
      "Epoch 43/100\n",
      "6/6 - 0s - loss: 0.2009 - mae: 0.3460 - val_loss: 0.7715 - val_mae: 0.6852\n",
      "Epoch 44/100\n",
      "6/6 - 0s - loss: 0.2011 - mae: 0.3488 - val_loss: 0.7537 - val_mae: 0.6713\n",
      "Epoch 45/100\n",
      "6/6 - 0s - loss: 0.2202 - mae: 0.3639 - val_loss: 0.7756 - val_mae: 0.6617\n",
      "Epoch 46/100\n",
      "6/6 - 0s - loss: 0.2254 - mae: 0.3741 - val_loss: 0.7828 - val_mae: 0.6685\n",
      "Epoch 47/100\n",
      "6/6 - 0s - loss: 0.2042 - mae: 0.3564 - val_loss: 0.7405 - val_mae: 0.6500\n",
      "Epoch 48/100\n",
      "6/6 - 0s - loss: 0.1967 - mae: 0.3412 - val_loss: 0.8059 - val_mae: 0.7069\n",
      "Epoch 49/100\n",
      "6/6 - 0s - loss: 0.1942 - mae: 0.3460 - val_loss: 0.7597 - val_mae: 0.6820\n",
      "Epoch 50/100\n",
      "6/6 - 0s - loss: 0.1947 - mae: 0.3458 - val_loss: 0.7611 - val_mae: 0.6532\n",
      "Epoch 51/100\n",
      "6/6 - 0s - loss: 0.1888 - mae: 0.3321 - val_loss: 0.7537 - val_mae: 0.6567\n",
      "Epoch 52/100\n",
      "6/6 - 0s - loss: 0.1649 - mae: 0.3135 - val_loss: 0.8137 - val_mae: 0.7014\n",
      "Epoch 53/100\n",
      "6/6 - 0s - loss: 0.1642 - mae: 0.3153 - val_loss: 0.7752 - val_mae: 0.6774\n",
      "Epoch 54/100\n",
      "6/6 - 0s - loss: 0.1628 - mae: 0.3107 - val_loss: 0.8042 - val_mae: 0.6952\n",
      "Epoch 55/100\n",
      "6/6 - 0s - loss: 0.1596 - mae: 0.3107 - val_loss: 0.8272 - val_mae: 0.6827\n",
      "Epoch 56/100\n",
      "6/6 - 0s - loss: 0.1564 - mae: 0.3045 - val_loss: 0.7868 - val_mae: 0.6711\n",
      "Epoch 57/100\n",
      "6/6 - 0s - loss: 0.1563 - mae: 0.3095 - val_loss: 0.8313 - val_mae: 0.7243\n",
      "Epoch 58/100\n",
      "6/6 - 0s - loss: 0.1305 - mae: 0.2785 - val_loss: 0.8251 - val_mae: 0.6889\n",
      "Epoch 59/100\n",
      "6/6 - 0s - loss: 0.1154 - mae: 0.2539 - val_loss: 0.8158 - val_mae: 0.6989\n",
      "Epoch 60/100\n",
      "6/6 - 0s - loss: 0.1081 - mae: 0.2475 - val_loss: 0.8510 - val_mae: 0.7282\n",
      "Epoch 61/100\n",
      "6/6 - 0s - loss: 0.0965 - mae: 0.2264 - val_loss: 0.8797 - val_mae: 0.7227\n",
      "Epoch 62/100\n",
      "6/6 - 0s - loss: 0.0998 - mae: 0.2351 - val_loss: 0.8578 - val_mae: 0.6994\n",
      "Epoch 63/100\n",
      "6/6 - 0s - loss: 0.1236 - mae: 0.2751 - val_loss: 0.8633 - val_mae: 0.6952\n",
      "Epoch 64/100\n",
      "6/6 - 0s - loss: 0.1262 - mae: 0.2769 - val_loss: 0.8619 - val_mae: 0.6733\n",
      "Epoch 65/100\n",
      "6/6 - 0s - loss: 0.1611 - mae: 0.3150 - val_loss: 0.8068 - val_mae: 0.6869\n",
      "Epoch 66/100\n",
      "6/6 - 0s - loss: 0.1077 - mae: 0.2534 - val_loss: 0.8383 - val_mae: 0.7124\n",
      "Epoch 67/100\n",
      "6/6 - 0s - loss: 0.0896 - mae: 0.2259 - val_loss: 0.9176 - val_mae: 0.7405\n",
      "Epoch 68/100\n",
      "6/6 - 0s - loss: 0.0996 - mae: 0.2464 - val_loss: 0.8601 - val_mae: 0.7044\n",
      "Epoch 69/100\n",
      "6/6 - 0s - loss: 0.1036 - mae: 0.2494 - val_loss: 0.8550 - val_mae: 0.6946\n",
      "Epoch 70/100\n",
      "6/6 - 0s - loss: 0.0859 - mae: 0.2182 - val_loss: 0.8662 - val_mae: 0.7140\n",
      "Epoch 71/100\n",
      "6/6 - 0s - loss: 0.0805 - mae: 0.2177 - val_loss: 0.8701 - val_mae: 0.7120\n",
      "Epoch 72/100\n",
      "6/6 - 0s - loss: 0.0712 - mae: 0.1949 - val_loss: 0.8996 - val_mae: 0.7194\n",
      "Epoch 73/100\n",
      "6/6 - 0s - loss: 0.0745 - mae: 0.2017 - val_loss: 0.8810 - val_mae: 0.7190\n",
      "Epoch 74/100\n",
      "6/6 - 0s - loss: 0.0770 - mae: 0.2041 - val_loss: 0.9069 - val_mae: 0.7161\n",
      "Epoch 75/100\n",
      "6/6 - 0s - loss: 0.0694 - mae: 0.1951 - val_loss: 0.8987 - val_mae: 0.7271\n",
      "Epoch 76/100\n",
      "6/6 - 0s - loss: 0.0744 - mae: 0.2075 - val_loss: 0.8779 - val_mae: 0.7148\n",
      "Epoch 77/100\n",
      "6/6 - 0s - loss: 0.0652 - mae: 0.1922 - val_loss: 0.8605 - val_mae: 0.6961\n",
      "Epoch 78/100\n",
      "6/6 - 0s - loss: 0.0585 - mae: 0.1719 - val_loss: 0.8731 - val_mae: 0.7106\n",
      "Epoch 79/100\n",
      "6/6 - 0s - loss: 0.0556 - mae: 0.1715 - val_loss: 0.8381 - val_mae: 0.7080\n",
      "Epoch 80/100\n",
      "6/6 - 0s - loss: 0.0557 - mae: 0.1728 - val_loss: 0.8782 - val_mae: 0.7071\n",
      "Epoch 81/100\n",
      "6/6 - 0s - loss: 0.0586 - mae: 0.1771 - val_loss: 0.9062 - val_mae: 0.7153\n",
      "Epoch 82/100\n",
      "6/6 - 0s - loss: 0.0615 - mae: 0.1839 - val_loss: 0.8706 - val_mae: 0.6966\n",
      "Epoch 83/100\n",
      "6/6 - 0s - loss: 0.0573 - mae: 0.1782 - val_loss: 0.8929 - val_mae: 0.7119\n",
      "Epoch 84/100\n",
      "6/6 - 0s - loss: 0.0497 - mae: 0.1622 - val_loss: 0.8784 - val_mae: 0.7072\n",
      "Epoch 85/100\n",
      "6/6 - 0s - loss: 0.0549 - mae: 0.1736 - val_loss: 0.9484 - val_mae: 0.7434\n",
      "Epoch 86/100\n",
      "6/6 - 0s - loss: 0.0538 - mae: 0.1711 - val_loss: 0.8961 - val_mae: 0.7103\n",
      "Epoch 87/100\n",
      "6/6 - 0s - loss: 0.0500 - mae: 0.1627 - val_loss: 0.8335 - val_mae: 0.7011\n",
      "Epoch 88/100\n",
      "6/6 - 0s - loss: 0.0463 - mae: 0.1517 - val_loss: 0.8828 - val_mae: 0.6982\n",
      "Epoch 89/100\n",
      "6/6 - 0s - loss: 0.0449 - mae: 0.1499 - val_loss: 0.8496 - val_mae: 0.6827\n",
      "Epoch 90/100\n",
      "6/6 - 0s - loss: 0.0456 - mae: 0.1552 - val_loss: 0.8697 - val_mae: 0.7069\n",
      "Epoch 91/100\n",
      "6/6 - 0s - loss: 0.0462 - mae: 0.1545 - val_loss: 0.8849 - val_mae: 0.6931\n",
      "Epoch 92/100\n",
      "6/6 - 0s - loss: 0.0437 - mae: 0.1480 - val_loss: 0.9205 - val_mae: 0.7221\n",
      "Epoch 93/100\n",
      "6/6 - 0s - loss: 0.0474 - mae: 0.1587 - val_loss: 0.8753 - val_mae: 0.7057\n",
      "Epoch 94/100\n",
      "6/6 - 0s - loss: 0.0489 - mae: 0.1647 - val_loss: 0.9341 - val_mae: 0.7283\n"
     ]
    },
    {
     "name": "stdout",
     "output_type": "stream",
     "text": [
      "Epoch 95/100\n",
      "6/6 - 0s - loss: 0.0380 - mae: 0.1361 - val_loss: 0.9310 - val_mae: 0.7134\n",
      "Epoch 96/100\n",
      "6/6 - 0s - loss: 0.0412 - mae: 0.1472 - val_loss: 0.8998 - val_mae: 0.7077\n",
      "Epoch 97/100\n",
      "6/6 - 0s - loss: 0.0342 - mae: 0.1287 - val_loss: 0.8640 - val_mae: 0.6927\n",
      "Epoch 98/100\n",
      "6/6 - 0s - loss: 0.0318 - mae: 0.1202 - val_loss: 0.9102 - val_mae: 0.7035\n",
      "Epoch 99/100\n",
      "6/6 - 0s - loss: 0.0305 - mae: 0.1187 - val_loss: 0.9265 - val_mae: 0.7188\n",
      "Epoch 100/100\n",
      "6/6 - 0s - loss: 0.0296 - mae: 0.1167 - val_loss: 0.9313 - val_mae: 0.7175\n"
     ]
    }
   ],
   "source": [
    "# Train the model, with some of the data reserved for validation\n",
    "\n",
    "history = model.fit(train_data, train_targets, epochs=100, validation_split=0.15, batch_size=64, verbose=2)"
   ]
  },
  {
   "cell_type": "code",
   "execution_count": 11,
   "metadata": {},
   "outputs": [
    {
     "name": "stdout",
     "output_type": "stream",
     "text": [
      "2/2 - 0s - loss: 0.8558 - mae: 0.6682\n"
     ]
    },
    {
     "data": {
      "text/plain": [
       "[0.8557729721069336, 0.6682450175285339]"
      ]
     },
     "execution_count": 11,
     "metadata": {},
     "output_type": "execute_result"
    }
   ],
   "source": [
    "# Evaluate the model on the test set\n",
    "\n",
    "model.evaluate(test_data, test_targets, verbose=2)"
   ]
  },
  {
   "cell_type": "markdown",
   "metadata": {},
   "source": [
    "#### Plot the learning curves"
   ]
  },
  {
   "cell_type": "code",
   "execution_count": 12,
   "metadata": {},
   "outputs": [],
   "source": [
    "import matplotlib.pyplot as plt\n",
    "%matplotlib inline"
   ]
  },
  {
   "cell_type": "code",
   "execution_count": 13,
   "metadata": {},
   "outputs": [
    {
     "data": {
      "image/png": "[encoded data removed]",
      "text/plain": [
       "<Figure size 432x288 with 1 Axes>"
      ]
     },
     "metadata": {
      "needs_background": "light"
     },
     "output_type": "display_data"
    }
   ],
   "source": [
    "# Plot the training and validation loss\n",
    "\n",
    "plt.plot(history.history['loss'])\n",
    "plt.plot(history.history['val_loss'])\n",
    "plt.title('Loss vs. epochs')\n",
    "plt.ylabel('Loss')\n",
    "plt.xlabel('Epoch')\n",
    "plt.legend(['Training', 'Validation'], loc='upper right')\n",
    "plt.show()"
   ]
  },
  {
   "cell_type": "markdown",
   "metadata": {},
   "source": [
    "***\n",
    "<a id=\"coding_tutorial_2\"></a>\n",
    "## Model regularisation"
   ]
  },
  {
   "cell_type": "markdown",
   "metadata": {},
   "source": [
    "#### Adding regularisation with weight decay and dropout"
   ]
  },
  {
   "cell_type": "code",
   "execution_count": 14,
   "metadata": {},
   "outputs": [],
   "source": [
    "from tensorflow.keras.layers import Dropout\n",
    "from tensorflow.keras import regularizers"
   ]
  },
  {
   "cell_type": "code",
   "execution_count": 15,
   "metadata": {},
   "outputs": [],
   "source": [
    "def get_regularized_model(wd, rate):\n",
    "    model = Sequential([\n",
    "        Dense(128, kernel_regularizer=regularizers.l2(wd), activation='relu', input_shape=(train_data.shape[1],)),\n",
    "        Dropout(rate),\n",
    "        Dense(128, kernel_regularizer=regularizers.l2(wd), activation='relu'),\n",
    "        Dropout(rate),\n",
    "        Dense(128, kernel_regularizer=regularizers.l2(wd), activation='relu'),\n",
    "        Dropout(rate),\n",
    "        Dense(128, kernel_regularizer=regularizers.l2(wd), activation='relu'),\n",
    "        Dropout(rate),\n",
    "        Dense(128, kernel_regularizer=regularizers.l2(wd), activation='relu'),\n",
    "        Dropout(rate),\n",
    "        Dense(128, kernel_regularizer=regularizers.l2(wd), activation='relu'),\n",
    "        Dropout(rate),\n",
    "        Dense(1)\n",
    "    ])\n",
    "    \n",
    "    return model"
   ]
  },
  {
   "cell_type": "code",
   "execution_count": 16,
   "metadata": {},
   "outputs": [],
   "source": [
    "# Re-build the model with weight decay and dropout layers\n",
    "model = get_regularized_model(1e-5, 0.3)"
   ]
  },
  {
   "cell_type": "code",
   "execution_count": 17,
   "metadata": {},
   "outputs": [],
   "source": [
    "# Compile the model\n",
    "model.compile(optimizer='adam', loss='mse', metrics=['mae'])"
   ]
  },
  {
   "cell_type": "code",
   "execution_count": 18,
   "metadata": {},
   "outputs": [
    {
     "name": "stdout",
     "output_type": "stream",
     "text": [
      "Epoch 1/100\n",
      "6/6 - 0s - loss: 0.9797 - mae: 0.8420 - val_loss: 1.1651 - val_mae: 0.9227\n",
      "Epoch 2/100\n",
      "6/6 - 0s - loss: 0.9730 - mae: 0.8428 - val_loss: 1.1434 - val_mae: 0.9195\n",
      "Epoch 3/100\n",
      "6/6 - 0s - loss: 0.9394 - mae: 0.8310 - val_loss: 1.0721 - val_mae: 0.8956\n",
      "Epoch 4/100\n",
      "6/6 - 0s - loss: 0.8584 - mae: 0.8006 - val_loss: 0.9213 - val_mae: 0.8387\n",
      "Epoch 5/100\n",
      "6/6 - 0s - loss: 0.7301 - mae: 0.7334 - val_loss: 0.7540 - val_mae: 0.7607\n",
      "Epoch 6/100\n",
      "6/6 - 0s - loss: 0.6687 - mae: 0.6753 - val_loss: 0.6314 - val_mae: 0.6816\n",
      "Epoch 7/100\n",
      "6/6 - 0s - loss: 0.5805 - mae: 0.6096 - val_loss: 0.6448 - val_mae: 0.6699\n",
      "Epoch 8/100\n",
      "6/6 - 0s - loss: 0.5668 - mae: 0.6186 - val_loss: 0.6646 - val_mae: 0.6708\n",
      "Epoch 9/100\n",
      "6/6 - 0s - loss: 0.5656 - mae: 0.6263 - val_loss: 0.6837 - val_mae: 0.6788\n",
      "Epoch 10/100\n",
      "6/6 - 0s - loss: 0.5350 - mae: 0.5949 - val_loss: 0.6412 - val_mae: 0.6544\n",
      "Epoch 11/100\n",
      "6/6 - 0s - loss: 0.5227 - mae: 0.5772 - val_loss: 0.6476 - val_mae: 0.6528\n",
      "Epoch 12/100\n",
      "6/6 - 0s - loss: 0.5605 - mae: 0.5926 - val_loss: 0.6329 - val_mae: 0.6398\n",
      "Epoch 13/100\n",
      "6/6 - 0s - loss: 0.5177 - mae: 0.5815 - val_loss: 0.6381 - val_mae: 0.6467\n",
      "Epoch 14/100\n",
      "6/6 - 0s - loss: 0.5697 - mae: 0.6113 - val_loss: 0.6363 - val_mae: 0.6472\n",
      "Epoch 15/100\n",
      "6/6 - 0s - loss: 0.5255 - mae: 0.5976 - val_loss: 0.6381 - val_mae: 0.6525\n",
      "Epoch 16/100\n",
      "6/6 - 0s - loss: 0.5233 - mae: 0.5882 - val_loss: 0.6212 - val_mae: 0.6373\n",
      "Epoch 17/100\n",
      "6/6 - 0s - loss: 0.4948 - mae: 0.5697 - val_loss: 0.6376 - val_mae: 0.6462\n",
      "Epoch 18/100\n",
      "6/6 - 0s - loss: 0.5657 - mae: 0.6063 - val_loss: 0.6494 - val_mae: 0.6531\n",
      "Epoch 19/100\n",
      "6/6 - 0s - loss: 0.5321 - mae: 0.5910 - val_loss: 0.6300 - val_mae: 0.6423\n",
      "Epoch 20/100\n",
      "6/6 - 0s - loss: 0.4861 - mae: 0.5605 - val_loss: 0.6163 - val_mae: 0.6367\n",
      "Epoch 21/100\n",
      "6/6 - 0s - loss: 0.5378 - mae: 0.5809 - val_loss: 0.6168 - val_mae: 0.6389\n",
      "Epoch 22/100\n",
      "6/6 - 0s - loss: 0.4995 - mae: 0.5782 - val_loss: 0.6176 - val_mae: 0.6399\n",
      "Epoch 23/100\n",
      "6/6 - 0s - loss: 0.5156 - mae: 0.5875 - val_loss: 0.6265 - val_mae: 0.6373\n",
      "Epoch 24/100\n",
      "6/6 - 0s - loss: 0.5251 - mae: 0.5790 - val_loss: 0.6286 - val_mae: 0.6467\n",
      "Epoch 25/100\n",
      "6/6 - 0s - loss: 0.5109 - mae: 0.5804 - val_loss: 0.6075 - val_mae: 0.6158\n",
      "Epoch 26/100\n",
      "6/6 - 0s - loss: 0.4825 - mae: 0.5608 - val_loss: 0.6078 - val_mae: 0.6269\n",
      "Epoch 27/100\n",
      "6/6 - 0s - loss: 0.4607 - mae: 0.5584 - val_loss: 0.6314 - val_mae: 0.6440\n",
      "Epoch 28/100\n",
      "6/6 - 0s - loss: 0.4811 - mae: 0.5671 - val_loss: 0.6330 - val_mae: 0.6436\n",
      "Epoch 29/100\n",
      "6/6 - 0s - loss: 0.4696 - mae: 0.5541 - val_loss: 0.6216 - val_mae: 0.6351\n",
      "Epoch 30/100\n",
      "6/6 - 0s - loss: 0.4855 - mae: 0.5615 - val_loss: 0.6255 - val_mae: 0.6363\n",
      "Epoch 31/100\n",
      "6/6 - 0s - loss: 0.4821 - mae: 0.5602 - val_loss: 0.6180 - val_mae: 0.6254\n",
      "Epoch 32/100\n",
      "6/6 - 0s - loss: 0.4367 - mae: 0.5372 - val_loss: 0.6192 - val_mae: 0.6297\n",
      "Epoch 33/100\n",
      "6/6 - 0s - loss: 0.4706 - mae: 0.5459 - val_loss: 0.6208 - val_mae: 0.6386\n",
      "Epoch 34/100\n",
      "6/6 - 0s - loss: 0.4498 - mae: 0.5383 - val_loss: 0.6174 - val_mae: 0.6312\n",
      "Epoch 35/100\n",
      "6/6 - 0s - loss: 0.4790 - mae: 0.5611 - val_loss: 0.6335 - val_mae: 0.6394\n",
      "Epoch 36/100\n",
      "6/6 - 0s - loss: 0.4435 - mae: 0.5369 - val_loss: 0.6354 - val_mae: 0.6247\n",
      "Epoch 37/100\n",
      "6/6 - 0s - loss: 0.4559 - mae: 0.5417 - val_loss: 0.6405 - val_mae: 0.6382\n",
      "Epoch 38/100\n",
      "6/6 - 0s - loss: 0.4308 - mae: 0.5269 - val_loss: 0.6356 - val_mae: 0.6333\n",
      "Epoch 39/100\n",
      "6/6 - 0s - loss: 0.4738 - mae: 0.5539 - val_loss: 0.6215 - val_mae: 0.6208\n",
      "Epoch 40/100\n",
      "6/6 - 0s - loss: 0.4636 - mae: 0.5481 - val_loss: 0.6253 - val_mae: 0.6337\n",
      "Epoch 41/100\n",
      "6/6 - 0s - loss: 0.4598 - mae: 0.5542 - val_loss: 0.6322 - val_mae: 0.6394\n",
      "Epoch 42/100\n",
      "6/6 - 0s - loss: 0.4907 - mae: 0.5575 - val_loss: 0.6285 - val_mae: 0.6377\n",
      "Epoch 43/100\n",
      "6/6 - 0s - loss: 0.4433 - mae: 0.5415 - val_loss: 0.6190 - val_mae: 0.6158\n",
      "Epoch 44/100\n",
      "6/6 - 0s - loss: 0.4658 - mae: 0.5407 - val_loss: 0.6297 - val_mae: 0.6302\n",
      "Epoch 45/100\n",
      "6/6 - 0s - loss: 0.4445 - mae: 0.5362 - val_loss: 0.6324 - val_mae: 0.6283\n",
      "Epoch 46/100\n",
      "6/6 - 0s - loss: 0.4461 - mae: 0.5329 - val_loss: 0.6401 - val_mae: 0.6323\n",
      "Epoch 47/100\n",
      "6/6 - 0s - loss: 0.4622 - mae: 0.5539 - val_loss: 0.6335 - val_mae: 0.6325\n",
      "Epoch 48/100\n",
      "6/6 - 0s - loss: 0.4088 - mae: 0.5193 - val_loss: 0.6149 - val_mae: 0.6013\n",
      "Epoch 49/100\n",
      "6/6 - 0s - loss: 0.4695 - mae: 0.5415 - val_loss: 0.6148 - val_mae: 0.6100\n",
      "Epoch 50/100\n",
      "6/6 - 0s - loss: 0.4067 - mae: 0.5137 - val_loss: 0.6245 - val_mae: 0.6214\n",
      "Epoch 51/100\n",
      "6/6 - 0s - loss: 0.4666 - mae: 0.5519 - val_loss: 0.6147 - val_mae: 0.6185\n",
      "Epoch 52/100\n",
      "6/6 - 0s - loss: 0.4446 - mae: 0.5179 - val_loss: 0.5942 - val_mae: 0.5899\n",
      "Epoch 53/100\n",
      "6/6 - 0s - loss: 0.4320 - mae: 0.5239 - val_loss: 0.6169 - val_mae: 0.6063\n",
      "Epoch 54/100\n",
      "6/6 - 0s - loss: 0.4020 - mae: 0.5071 - val_loss: 0.6434 - val_mae: 0.6376\n",
      "Epoch 55/100\n",
      "6/6 - 0s - loss: 0.4100 - mae: 0.5103 - val_loss: 0.6315 - val_mae: 0.6187\n",
      "Epoch 56/100\n",
      "6/6 - 0s - loss: 0.4043 - mae: 0.4962 - val_loss: 0.6329 - val_mae: 0.6328\n",
      "Epoch 57/100\n",
      "6/6 - 0s - loss: 0.4412 - mae: 0.5381 - val_loss: 0.6138 - val_mae: 0.6108\n",
      "Epoch 58/100\n",
      "6/6 - 0s - loss: 0.4427 - mae: 0.5259 - val_loss: 0.6178 - val_mae: 0.6098\n",
      "Epoch 59/100\n",
      "6/6 - 0s - loss: 0.4143 - mae: 0.5173 - val_loss: 0.6279 - val_mae: 0.6324\n",
      "Epoch 60/100\n",
      "6/6 - 0s - loss: 0.4318 - mae: 0.5164 - val_loss: 0.6155 - val_mae: 0.6177\n",
      "Epoch 61/100\n",
      "6/6 - 0s - loss: 0.4198 - mae: 0.5149 - val_loss: 0.6437 - val_mae: 0.6404\n",
      "Epoch 62/100\n",
      "6/6 - 0s - loss: 0.4065 - mae: 0.5070 - val_loss: 0.6290 - val_mae: 0.6212\n",
      "Epoch 63/100\n",
      "6/6 - 0s - loss: 0.4039 - mae: 0.4992 - val_loss: 0.6273 - val_mae: 0.6140\n",
      "Epoch 64/100\n",
      "6/6 - 0s - loss: 0.3883 - mae: 0.4969 - val_loss: 0.6158 - val_mae: 0.5959\n",
      "Epoch 65/100\n",
      "6/6 - 0s - loss: 0.4330 - mae: 0.5216 - val_loss: 0.6028 - val_mae: 0.5889\n",
      "Epoch 66/100\n",
      "6/6 - 0s - loss: 0.4032 - mae: 0.5067 - val_loss: 0.6114 - val_mae: 0.6053\n",
      "Epoch 67/100\n",
      "6/6 - 0s - loss: 0.4404 - mae: 0.5251 - val_loss: 0.6097 - val_mae: 0.6045\n",
      "Epoch 68/100\n",
      "6/6 - 0s - loss: 0.4253 - mae: 0.5165 - val_loss: 0.6264 - val_mae: 0.6205\n",
      "Epoch 69/100\n",
      "6/6 - 0s - loss: 0.3988 - mae: 0.5065 - val_loss: 0.6219 - val_mae: 0.6089\n",
      "Epoch 70/100\n",
      "6/6 - 0s - loss: 0.4139 - mae: 0.5061 - val_loss: 0.6248 - val_mae: 0.6067\n",
      "Epoch 71/100\n",
      "6/6 - 0s - loss: 0.4323 - mae: 0.5253 - val_loss: 0.6122 - val_mae: 0.6097\n",
      "Epoch 72/100\n",
      "6/6 - 0s - loss: 0.4304 - mae: 0.5263 - val_loss: 0.6196 - val_mae: 0.6121\n",
      "Epoch 73/100\n",
      "6/6 - 0s - loss: 0.4145 - mae: 0.5146 - val_loss: 0.6350 - val_mae: 0.6158\n",
      "Epoch 74/100\n",
      "6/6 - 0s - loss: 0.3770 - mae: 0.4841 - val_loss: 0.6392 - val_mae: 0.6112\n",
      "Epoch 75/100\n",
      "6/6 - 0s - loss: 0.4060 - mae: 0.4937 - val_loss: 0.6372 - val_mae: 0.6112\n",
      "Epoch 76/100\n",
      "6/6 - 0s - loss: 0.4010 - mae: 0.4986 - val_loss: 0.6319 - val_mae: 0.6213\n",
      "Epoch 77/100\n",
      "6/6 - 0s - loss: 0.3703 - mae: 0.4831 - val_loss: 0.6331 - val_mae: 0.6202\n",
      "Epoch 78/100\n",
      "6/6 - 0s - loss: 0.4084 - mae: 0.5224 - val_loss: 0.6252 - val_mae: 0.6105\n",
      "Epoch 79/100\n",
      "6/6 - 0s - loss: 0.3696 - mae: 0.4717 - val_loss: 0.6385 - val_mae: 0.6132\n",
      "Epoch 80/100\n",
      "6/6 - 0s - loss: 0.3861 - mae: 0.4914 - val_loss: 0.6425 - val_mae: 0.6195\n",
      "Epoch 81/100\n",
      "6/6 - 0s - loss: 0.3668 - mae: 0.4773 - val_loss: 0.6524 - val_mae: 0.6299\n",
      "Epoch 82/100\n",
      "6/6 - 0s - loss: 0.3542 - mae: 0.4704 - val_loss: 0.6248 - val_mae: 0.5977\n",
      "Epoch 83/100\n",
      "6/6 - 0s - loss: 0.3632 - mae: 0.4722 - val_loss: 0.6538 - val_mae: 0.6352\n",
      "Epoch 84/100\n",
      "6/6 - 0s - loss: 0.4126 - mae: 0.5100 - val_loss: 0.6317 - val_mae: 0.6302\n",
      "Epoch 85/100\n",
      "6/6 - 0s - loss: 0.3966 - mae: 0.4964 - val_loss: 0.6363 - val_mae: 0.6253\n",
      "Epoch 86/100\n",
      "6/6 - 0s - loss: 0.3733 - mae: 0.4893 - val_loss: 0.6399 - val_mae: 0.6171\n",
      "Epoch 87/100\n",
      "6/6 - 0s - loss: 0.3732 - mae: 0.4727 - val_loss: 0.6547 - val_mae: 0.6271\n",
      "Epoch 88/100\n",
      "6/6 - 0s - loss: 0.3583 - mae: 0.4663 - val_loss: 0.6474 - val_mae: 0.6259\n",
      "Epoch 89/100\n",
      "6/6 - 0s - loss: 0.3725 - mae: 0.4927 - val_loss: 0.6405 - val_mae: 0.6272\n",
      "Epoch 90/100\n",
      "6/6 - 0s - loss: 0.3935 - mae: 0.4908 - val_loss: 0.6511 - val_mae: 0.6263\n",
      "Epoch 91/100\n",
      "6/6 - 0s - loss: 0.3784 - mae: 0.4888 - val_loss: 0.6610 - val_mae: 0.6314\n",
      "Epoch 92/100\n",
      "6/6 - 0s - loss: 0.3644 - mae: 0.4718 - val_loss: 0.6594 - val_mae: 0.6350\n",
      "Epoch 93/100\n",
      "6/6 - 0s - loss: 0.3934 - mae: 0.4945 - val_loss: 0.6396 - val_mae: 0.6116\n",
      "Epoch 94/100\n",
      "6/6 - 0s - loss: 0.3713 - mae: 0.4844 - val_loss: 0.6273 - val_mae: 0.6120\n"
     ]
    },
    {
     "name": "stdout",
     "output_type": "stream",
     "text": [
      "Epoch 95/100\n",
      "6/6 - 0s - loss: 0.3723 - mae: 0.4783 - val_loss: 0.6148 - val_mae: 0.6159\n",
      "Epoch 96/100\n",
      "6/6 - 0s - loss: 0.3640 - mae: 0.4721 - val_loss: 0.6192 - val_mae: 0.6131\n",
      "Epoch 97/100\n",
      "6/6 - 0s - loss: 0.3545 - mae: 0.4717 - val_loss: 0.6238 - val_mae: 0.6085\n",
      "Epoch 98/100\n",
      "6/6 - 0s - loss: 0.3500 - mae: 0.4665 - val_loss: 0.6356 - val_mae: 0.6020\n",
      "Epoch 99/100\n",
      "6/6 - 0s - loss: 0.3586 - mae: 0.4635 - val_loss: 0.6314 - val_mae: 0.6277\n",
      "Epoch 100/100\n",
      "6/6 - 0s - loss: 0.3635 - mae: 0.4805 - val_loss: 0.6770 - val_mae: 0.6586\n"
     ]
    }
   ],
   "source": [
    "# Train the model, with some of the data reserved for validation\n",
    "history = model.fit(train_data, train_targets, epochs=100, validation_split=0.15, batch_size=64, verbose=2)"
   ]
  },
  {
   "cell_type": "code",
   "execution_count": 19,
   "metadata": {},
   "outputs": [
    {
     "name": "stdout",
     "output_type": "stream",
     "text": [
      "2/2 - 0s - loss: 0.7008 - mae: 0.6586\n"
     ]
    },
    {
     "data": {
      "text/plain": [
       "[0.7007976770401001, 0.6586042046546936]"
      ]
     },
     "execution_count": 19,
     "metadata": {},
     "output_type": "execute_result"
    }
   ],
   "source": [
    "# Evaluate the model on the test set\n",
    "model.evaluate(test_data, test_targets, verbose=2)"
   ]
  },
  {
   "cell_type": "markdown",
   "metadata": {},
   "source": [
    "#### Plot the learning curves"
   ]
  },
  {
   "cell_type": "code",
   "execution_count": 20,
   "metadata": {},
   "outputs": [
    {
     "data": {
      "image/png": "[encoded data removed]",
      "text/plain": [
       "<Figure size 432x288 with 1 Axes>"
      ]
     },
     "metadata": {
      "needs_background": "light"
     },
     "output_type": "display_data"
    }
   ],
   "source": [
    "# Plot the training and validation loss\n",
    "\n",
    "import matplotlib.pyplot as plt\n",
    "\n",
    "plt.plot(history.history['loss'])\n",
    "plt.plot(history.history['val_loss'])\n",
    "plt.title('Loss vs. epochs')\n",
    "plt.ylabel('Loss')\n",
    "plt.xlabel('Epoch')\n",
    "plt.legend(['Training', 'Validation'], loc='upper right')\n",
    "plt.show()"
   ]
  },
  {
   "cell_type": "markdown",
   "metadata": {},
   "source": [
    "***\n",
    "<a id=\"coding_tutorial_3\"></a>\n",
    "## Introduction to callbacks"
   ]
  },
  {
   "cell_type": "markdown",
   "metadata": {},
   "source": [
    "#### Example training callback"
   ]
  },
  {
   "cell_type": "code",
   "execution_count": 21,
   "metadata": {},
   "outputs": [],
   "source": [
    "# Write a Custom Callback\n",
    "\n",
    "from tensorflow.keras.callbacks import Callback\n",
    "\n",
    "class TrainingCallback(Callback):\n",
    "    def on_train_begin(self, logs=None):\n",
    "        print('Starting Training...')\n",
    "        \n",
    "    def on_epoch_begin(selg, epoch, logs=None):\n",
    "        print(f'Starting Epoch {epoch}')\n",
    "        \n",
    "    def on_train_batch_begin(self, batch, logs=None):\n",
    "        print(f'Training: Starting batch {batch}')\n",
    "        \n",
    "    def on_train_batch_end(self, batch, logs=None):\n",
    "        print(f'Training Finished batch {batch}')\n",
    "        \n",
    "    def on_epoch_end(self, epoch, logs=None):\n",
    "        print(f'Finished epoch {epoch}')\n",
    "        \n",
    "    def on_train_end(self, logs=None):\n",
    "        print('Training Finished...')\n",
    "        \n",
    "class TestingCallback(Callback):\n",
    "    def on_test_begin(self, logs=None):\n",
    "        print(\"Starting testing...\")\n",
    "        \n",
    "    def on_test_batch_begin(self, batch, logs=None):\n",
    "        print(f\"Testing Starting batch {batch}\")\n",
    "        \n",
    "    def on_test_batch_end(self, batch, logs=None):\n",
    "        print(f\"Testing Finished batch {batch}\")\n",
    "        \n",
    "    def on_test_end(self, logs=None):\n",
    "        print(\"Finished testing!\")\n",
    "        \n",
    "class PredictionCallback(Callback):\n",
    "    def on_predict_begin(self, logs=None):\n",
    "        print(\"Starting prediction...\")\n",
    "        \n",
    "    def on_predict_batch_begin(self, batch, logs=None):\n",
    "        print(f\"Prediction: Starting batch {batch}\")\n",
    "        \n",
    "    def on_predict_batch_end(self, batch, logs=None):\n",
    "        print(f\"Prediction: Finished batch {batch}\")\n",
    "        \n",
    "    def on_predict_end(self, logs=None):\n",
    "        print(\"Finished Prediction!\")        "
   ]
  },
  {
   "cell_type": "code",
   "execution_count": 22,
   "metadata": {},
   "outputs": [],
   "source": [
    "# Re-build the model\n",
    "\n",
    "model = get_regularized_model(1e-5, 0.3)"
   ]
  },
  {
   "cell_type": "code",
   "execution_count": 23,
   "metadata": {},
   "outputs": [],
   "source": [
    "# Compile the model\n",
    "\n",
    "model.compile(optimizer='adam', loss='mae')"
   ]
  },
  {
   "cell_type": "markdown",
   "metadata": {},
   "source": [
    "#### Train the model with the callback"
   ]
  },
  {
   "cell_type": "code",
   "execution_count": 24,
   "metadata": {},
   "outputs": [
    {
     "name": "stdout",
     "output_type": "stream",
     "text": [
      "Starting Training...\n",
      "Starting Epoch 0\n",
      "Training: Starting batch 0\n",
      "Training Finished batch 0\n",
      "Training: Starting batch 1\n",
      "Training Finished batch 1\n",
      "Training: Starting batch 2\n",
      "Training Finished batch 2\n",
      "Training: Starting batch 3\n",
      "Training Finished batch 3\n",
      "Finished epoch 0\n",
      "Starting Epoch 1\n",
      "Training: Starting batch 0\n",
      "Training Finished batch 0\n",
      "Training: Starting batch 1\n",
      "Training Finished batch 1\n",
      "Training: Starting batch 2\n",
      "Training Finished batch 2\n",
      "Training: Starting batch 3\n",
      "Training Finished batch 3\n",
      "Finished epoch 1\n",
      "Starting Epoch 2\n",
      "Training: Starting batch 0\n",
      "Training Finished batch 0\n",
      "Training: Starting batch 1\n",
      "Training Finished batch 1\n",
      "Training: Starting batch 2\n",
      "Training Finished batch 2\n",
      "Training: Starting batch 3\n",
      "Training Finished batch 3\n",
      "Finished epoch 2\n",
      "Training Finished...\n"
     ]
    },
    {
     "data": {
      "text/plain": [
       "<tensorflow.python.keras.callbacks.History at 0x1f23185f948>"
      ]
     },
     "execution_count": 24,
     "metadata": {},
     "output_type": "execute_result"
    }
   ],
   "source": [
    "# Train the model, with some of the data reserved for validation\n",
    "\n",
    "model.fit(train_data, train_targets, epochs=3, batch_size=128, verbose=False, callbacks=[TrainingCallback()])"
   ]
  },
  {
   "cell_type": "code",
   "execution_count": 25,
   "metadata": {},
   "outputs": [
    {
     "name": "stdout",
     "output_type": "stream",
     "text": [
      "Starting testing...\n",
      "Testing Starting batch 0\n",
      "Testing Finished batch 0\n",
      "Testing Starting batch 1\n",
      "Testing Finished batch 1\n",
      "Finished testing!\n"
     ]
    },
    {
     "data": {
      "text/plain": [
       "0.828568696975708"
      ]
     },
     "execution_count": 25,
     "metadata": {},
     "output_type": "execute_result"
    }
   ],
   "source": [
    "# Evaluate the model\n",
    "\n",
    "model.evaluate(test_data, test_targets, verbose=False, callbacks=[TestingCallback()])"
   ]
  },
  {
   "cell_type": "code",
   "execution_count": 26,
   "metadata": {},
   "outputs": [
    {
     "name": "stdout",
     "output_type": "stream",
     "text": [
      "Starting prediction...\n",
      "Prediction: Starting batch 0\n",
      "Prediction: Finished batch 0\n",
      "Prediction: Starting batch 1\n",
      "Prediction: Finished batch 1\n",
      "Finished Prediction!\n"
     ]
    },
    {
     "data": {
      "text/plain": [
       "array([[-0.06132456],\n",
       "       [-0.06454326],\n",
       "       [-0.0167629 ],\n",
       "       [-0.03674473],\n",
       "       [-0.05874375],\n",
       "       [-0.05380329],\n",
       "       [-0.01177161],\n",
       "       [-0.01202501],\n",
       "       [-0.03464665],\n",
       "       [-0.03327987],\n",
       "       [-0.02425654],\n",
       "       [ 0.01034734],\n",
       "       [-0.03901767],\n",
       "       [-0.05561306],\n",
       "       [-0.03433785],\n",
       "       [-0.03741965],\n",
       "       [-0.04796545],\n",
       "       [-0.01195225],\n",
       "       [-0.04975336],\n",
       "       [-0.0617264 ],\n",
       "       [-0.0558082 ],\n",
       "       [-0.01506856],\n",
       "       [-0.04556167],\n",
       "       [-0.02616858],\n",
       "       [-0.01319787],\n",
       "       [-0.05832028],\n",
       "       [-0.05407767],\n",
       "       [-0.05065149],\n",
       "       [-0.05891378],\n",
       "       [-0.00909352],\n",
       "       [ 0.0046022 ],\n",
       "       [-0.04680128],\n",
       "       [-0.06309102],\n",
       "       [-0.04541387],\n",
       "       [-0.01374566],\n",
       "       [-0.0433149 ],\n",
       "       [-0.01116496],\n",
       "       [-0.0470164 ],\n",
       "       [-0.02371226],\n",
       "       [-0.05047219],\n",
       "       [-0.03614172],\n",
       "       [-0.06066593],\n",
       "       [-0.007015  ],\n",
       "       [-0.05353596],\n",
       "       [-0.04465555]], dtype=float32)"
      ]
     },
     "execution_count": 26,
     "metadata": {},
     "output_type": "execute_result"
    }
   ],
   "source": [
    "# Make predictions with the model\n",
    "\n",
    "model.predict(test_data, verbose=False, callbacks=[PredictionCallback()])"
   ]
  },
  {
   "cell_type": "markdown",
   "metadata": {},
   "source": [
    "***\n",
    "<a id=\"coding_tutorial_4\"></a>\n",
    "## Early stopping / patience"
   ]
  },
  {
   "cell_type": "markdown",
   "metadata": {},
   "source": [
    "#### Re-train the models with early stopping"
   ]
  },
  {
   "cell_type": "code",
   "execution_count": 27,
   "metadata": {},
   "outputs": [],
   "source": [
    "# Re-train the unregularised model\n",
    "\n"
   ]
  },
  {
   "cell_type": "code",
   "execution_count": 28,
   "metadata": {},
   "outputs": [],
   "source": [
    "# Evaluate the model on the test set\n",
    "\n"
   ]
  },
  {
   "cell_type": "code",
   "execution_count": 29,
   "metadata": {},
   "outputs": [],
   "source": [
    "# Re-train the regularised model\n",
    "\n"
   ]
  },
  {
   "cell_type": "code",
   "execution_count": 30,
   "metadata": {},
   "outputs": [],
   "source": [
    "# Evaluate the model on the test set\n",
    "\n"
   ]
  },
  {
   "cell_type": "markdown",
   "metadata": {},
   "source": [
    "#### Plot the learning curves"
   ]
  },
  {
   "cell_type": "code",
   "execution_count": 31,
   "metadata": {},
   "outputs": [
    {
     "ename": "NameError",
     "evalue": "name 'unreg_history' is not defined",
     "output_type": "error",
     "traceback": [
      "\u001b[1;31m---------------------------------------------------------------------------\u001b[0m",
      "\u001b[1;31mNameError\u001b[0m                                 Traceback (most recent call last)",
      "\u001b[1;32m<ipython-input-31-ba0e6ff73507>\u001b[0m in \u001b[0;36m<module>\u001b[1;34m\u001b[0m\n\u001b[0;32m      7\u001b[0m \u001b[0mfig\u001b[0m\u001b[1;33m.\u001b[0m\u001b[0madd_subplot\u001b[0m\u001b[1;33m(\u001b[0m\u001b[1;36m121\u001b[0m\u001b[1;33m)\u001b[0m\u001b[1;33m\u001b[0m\u001b[1;33m\u001b[0m\u001b[0m\n\u001b[0;32m      8\u001b[0m \u001b[1;33m\u001b[0m\u001b[0m\n\u001b[1;32m----> 9\u001b[1;33m \u001b[0mplt\u001b[0m\u001b[1;33m.\u001b[0m\u001b[0mplot\u001b[0m\u001b[1;33m(\u001b[0m\u001b[0munreg_history\u001b[0m\u001b[1;33m.\u001b[0m\u001b[0mhistory\u001b[0m\u001b[1;33m[\u001b[0m\u001b[1;34m'loss'\u001b[0m\u001b[1;33m]\u001b[0m\u001b[1;33m)\u001b[0m\u001b[1;33m\u001b[0m\u001b[1;33m\u001b[0m\u001b[0m\n\u001b[0m\u001b[0;32m     10\u001b[0m \u001b[0mplt\u001b[0m\u001b[1;33m.\u001b[0m\u001b[0mplot\u001b[0m\u001b[1;33m(\u001b[0m\u001b[0munreg_history\u001b[0m\u001b[1;33m.\u001b[0m\u001b[0mhistory\u001b[0m\u001b[1;33m[\u001b[0m\u001b[1;34m'val_loss'\u001b[0m\u001b[1;33m]\u001b[0m\u001b[1;33m)\u001b[0m\u001b[1;33m\u001b[0m\u001b[1;33m\u001b[0m\u001b[0m\n\u001b[0;32m     11\u001b[0m \u001b[0mplt\u001b[0m\u001b[1;33m.\u001b[0m\u001b[0mtitle\u001b[0m\u001b[1;33m(\u001b[0m\u001b[1;34m'Unregularised model: loss vs. epochs'\u001b[0m\u001b[1;33m)\u001b[0m\u001b[1;33m\u001b[0m\u001b[1;33m\u001b[0m\u001b[0m\n",
      "\u001b[1;31mNameError\u001b[0m: name 'unreg_history' is not defined"
     ]
    },
    {
     "data": {
      "image/png": "[encoded data removed]",
      "text/plain": [
       "<Figure size 864x360 with 1 Axes>"
      ]
     },
     "metadata": {
      "needs_background": "light"
     },
     "output_type": "display_data"
    }
   ],
   "source": [
    "# Plot the training and validation loss\n",
    "\n",
    "import matplotlib.pyplot as plt\n",
    "\n",
    "fig = plt.figure(figsize=(12, 5))\n",
    "\n",
    "fig.add_subplot(121)\n",
    "\n",
    "plt.plot(unreg_history.history['loss'])\n",
    "plt.plot(unreg_history.history['val_loss'])\n",
    "plt.title('Unregularised model: loss vs. epochs')\n",
    "plt.ylabel('Loss')\n",
    "plt.xlabel('Epoch')\n",
    "plt.legend(['Training', 'Validation'], loc='upper right')\n",
    "\n",
    "fig.add_subplot(122)\n",
    "\n",
    "plt.plot(reg_history.history['loss'])\n",
    "plt.plot(reg_history.history['val_loss'])\n",
    "plt.title('Regularised model: loss vs. epochs')\n",
    "plt.ylabel('Loss')\n",
    "plt.xlabel('Epoch')\n",
    "plt.legend(['Training', 'Validation'], loc='upper right')\n",
    "\n",
    "plt.show()"
   ]
  }
 ],
 "metadata": {
  "kernelspec": {
   "display_name": "Python 3",
   "language": "python",
   "name": "python3"
  },
  "language_info": {
   "codemirror_mode": {
    "name": "ipython",
    "version": 3
   },
   "file_extension": ".py",
   "mimetype": "text/x-python",
   "name": "python",
   "nbconvert_exporter": "python",
   "pygments_lexer": "ipython3",
   "version": "3.7.6"
  }
 },
 "nbformat": 4,
 "nbformat_minor": 2
}
