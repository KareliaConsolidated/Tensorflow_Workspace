{
 "cells": [
  {
   "cell_type": "code",
   "execution_count": null,
   "metadata": {
    "scrolled": true
   },
   "outputs": [],
   "source": [
    "import tensorflow as tf\n",
    "print(tf.__version__)"
   ]
  },
  {
   "cell_type": "markdown",
   "metadata": {},
   "source": [
    "# Validation"
   ]
  },
  {
   "cell_type": "markdown",
   "metadata": {},
   "source": [
    "***\n",
    "<a id=\"coding_tutorial_1\"></a>\n",
    "## Validation sets"
   ]
  },
  {
   "cell_type": "markdown",
   "metadata": {},
   "source": [
    "#### Load the data"
   ]
  },
  {
   "cell_type": "code",
   "execution_count": 3,
   "metadata": {},
   "outputs": [
    {
     "name": "stdout",
     "output_type": "stream",
     "text": [
      ".. _diabetes_dataset:\n",
      "\n",
      "Diabetes dataset\n",
      "----------------\n",
      "\n",
      "Ten baseline variables, age, sex, body mass index, average blood\n",
      "pressure, and six blood serum measurements were obtained for each of n =\n",
      "442 diabetes patients, as well as the response of interest, a\n",
      "quantitative measure of disease progression one year after baseline.\n",
      "\n",
      "**Data Set Characteristics:**\n",
      "\n",
      "  :Number of Instances: 442\n",
      "\n",
      "  :Number of Attributes: First 10 columns are numeric predictive values\n",
      "\n",
      "  :Target: Column 11 is a quantitative measure of disease progression one year after baseline\n",
      "\n",
      "  :Attribute Information:\n",
      "      - Age\n",
      "      - Sex\n",
      "      - Body mass index\n",
      "      - Average blood pressure\n",
      "      - S1\n",
      "      - S2\n",
      "      - S3\n",
      "      - S4\n",
      "      - S5\n",
      "      - S6\n",
      "\n",
      "Note: Each of these 10 feature variables have been mean centered and scaled by the standard deviation times `n_samples` (i.e. the sum of squares of each column totals 1).\n",
      "\n",
      "Source URL:\n",
      "http://www4.stat.ncsu.edu/~boos/var.select/diabetes.html\n",
      "\n",
      "For more information see:\n",
      "Bradley Efron, Trevor Hastie, Iain Johnstone and Robert Tibshirani (2004) \"Least Angle Regression,\" Annals of Statistics (with discussion), 407-499.\n",
      "(http://web.stanford.edu/~hastie/Papers/LARS/LeastAngle_2002.pdf)\n"
     ]
    }
   ],
   "source": [
    "# Load the diabetes dataset\n",
    "\n",
    "from sklearn.datasets import load_diabetes\n",
    "\n",
    "diabetes_dataset = load_diabetes()\n",
    "print(diabetes_dataset['DESCR'])"
   ]
  },
  {
   "cell_type": "code",
   "execution_count": 5,
   "metadata": {},
   "outputs": [],
   "source": [
    "# Save the input and target variables\n",
    "\n",
    "data = diabetes_dataset[\"data\"]\n",
    "targets = diabetes_dataset[\"target\"]"
   ]
  },
  {
   "cell_type": "code",
   "execution_count": 6,
   "metadata": {},
   "outputs": [
    {
     "data": {
      "text/plain": [
       "array([-1.47194752e-02, -1.00165882e+00, -1.44579915e-01,  6.99512942e-01,\n",
       "       -2.22496178e-01, -7.15965848e-01, -1.83538046e-01, -1.15749134e+00,\n",
       "       -5.47147277e-01,  2.05006151e+00, -6.64021672e-01, -1.07957508e+00,\n",
       "        3.48889755e-01,  4.26806019e-01, -4.43258925e-01,  2.45001404e-01,\n",
       "        1.80071184e-01, -1.05621783e-01, -7.15965848e-01,  2.06043272e-01,\n",
       "       -1.09256112e+00, -1.33929596e+00, -1.09256112e+00,  1.20596866e+00,\n",
       "        4.13819975e-01,  6.47568766e-01, -1.96524090e-01, -8.71798376e-01,\n",
       "       -2.74440354e-01,  1.69943833e+00, -3.00412442e-01, -1.20943552e+00,\n",
       "        2.45262887e+00, -8.45826288e-01, -1.13151925e+00, -6.51035629e-01,\n",
       "        1.46568953e+00,  1.60853602e+00,  1.29687096e+00, -8.06868156e-01,\n",
       "       -6.77007716e-01, -1.26137969e+00, -1.18346343e+00, -7.80896068e-01,\n",
       "        1.38777327e+00, -1.28735178e+00,  4.91736239e-01, -1.31593871e-01,\n",
       "       -1.00165882e+00, -1.31593871e-01,  3.72247006e-02,  9.46247777e-01,\n",
       "       -1.20943552e+00, -6.25063541e-01,  3.87847887e-01, -3.13398486e-01,\n",
       "       -1.30033783e+00, -1.49512849e+00,  2.32015360e-01,  2.32015360e-01,\n",
       "       -1.18346343e+00, -1.05621783e-01, -1.30033783e+00, -3.13398486e-01,\n",
       "       -1.05360299e+00,  1.41113052e-01, -2.77055191e-02, -7.15965848e-01,\n",
       "        1.02154920e-01,  3.35903711e-01, -1.35228200e+00,  1.53061975e+00,\n",
       "        6.47568766e-01, -5.34161233e-01, -8.71798376e-01, -1.43019827e+00,\n",
       "        2.32015360e-01,  6.21596678e-01,  1.29687096e+00, -5.08189145e-01,\n",
       "       -1.18607827e-01, -1.31332387e+00, -1.30033783e+00,  7.51457118e-01,\n",
       "       -1.13151925e+00, -1.44579915e-01, -1.26137969e+00, -2.35482222e-01,\n",
       "       -1.43019827e+00, -5.34161233e-01, -7.02979804e-01,  1.54099096e-01,\n",
       "       -1.35228200e+00, -7.28951892e-01, -8.06868156e-01,  1.28127008e-01,\n",
       "       -2.77055191e-02,  1.64749415e+00, -7.80896068e-01, -8.97770464e-01,\n",
       "       -3.13398486e-01, -6.51035629e-01,  1.94617316e+00,  5.95624590e-01,\n",
       "       -7.41937936e-01, -1.28735178e+00, -2.35482222e-01, -1.05621783e-01,\n",
       "        1.03715008e+00, -9.23742551e-01, -6.25063541e-01, -1.20943552e+00,\n",
       "        1.21895470e+00,  1.88124294e+00,  1.37478723e+00,  9.98191953e-01,\n",
       "        1.59554997e+00,  1.67346624e+00,  3.48889755e-01,  6.21596678e-01,\n",
       "        6.21596678e-01,  2.70973492e-01,  3.61875799e-01, -8.84784420e-01,\n",
       "       -4.04300794e-01,  1.15140964e-01, -6.89993760e-01, -5.60133321e-01,\n",
       "       -4.82217057e-01,  1.50464767e+00,  1.58256393e+00,  7.61828325e-02,\n",
       "       -5.86105409e-01, -8.97770464e-01, -6.38049585e-01,  1.55659184e+00,\n",
       "       -8.71798376e-01,  1.66048019e+00,  2.38769865e+00,  1.67346624e+00,\n",
       "       -4.43258925e-01,  2.14096382e+00,  1.07610822e+00, -1.19644947e+00,\n",
       "        2.83959536e-01,  1.38777327e+00,  3.35903711e-01, -3.13398486e-01,\n",
       "       -7.28951892e-01, -3.39370574e-01,  1.76436855e+00, -8.32840244e-01,\n",
       "        1.81631272e+00, -1.05360299e+00,  5.82638546e-01,  4.39792063e-01,\n",
       "       -1.65096101e+00, -8.84784420e-01, -7.28951892e-01,  5.56666458e-01,\n",
       "       -1.28735178e+00,  8.42359425e-01,  2.57987448e-01, -2.74440354e-01,\n",
       "        8.03401293e-01, -1.20943552e+00, -1.06658903e+00,  8.81317557e-01,\n",
       "        1.50464767e+00, -1.73343121e-03, -1.36526805e+00, -1.01464486e+00,\n",
       "        1.85527085e+00, -6.64021672e-01, -1.47194752e-02, -3.26384530e-01,\n",
       "        1.10208030e+00,  9.46247777e-01, -9.23742551e-01, -1.47194752e-02,\n",
       "       -5.86105409e-01, -1.14450530e+00, -1.83538046e-01,  4.26806019e-01,\n",
       "        1.46568953e+00, -6.64021672e-01, -1.96524090e-01, -1.18607827e-01,\n",
       "       -1.44579915e-01, -9.49714639e-01,  1.81631272e+00,  3.35903711e-01,\n",
       "       -7.93882112e-01, -4.69231013e-01, -8.58812332e-01, -3.91314750e-01,\n",
       "       -1.04061695e+00, -3.00412442e-01, -1.31593871e-01, -8.06868156e-01,\n",
       "        7.61828325e-02, -1.46915640e+00,  5.69652502e-01,  9.07289645e-01,\n",
       "        1.62152206e+00, -6.89993760e-01,  5.69652502e-01,  6.47568766e-01,\n",
       "        3.72247006e-02, -9.75686727e-01,  5.04722283e-01, -1.06658903e+00,\n",
       "       -1.02763090e+00, -1.33929596e+00, -1.13151925e+00,  1.43971745e+00,\n",
       "        1.24492679e+00,  1.86825690e+00,  8.03401293e-01,  4.26806019e-01,\n",
       "       -9.62700683e-01, -7.67910024e-01,  1.29687096e+00, -2.77055191e-02,\n",
       "       -9.75686727e-01,  7.25485030e-01, -9.75686727e-01, -5.73119365e-01,\n",
       "        1.02154920e-01, -1.28735178e+00,  8.81317557e-01,  2.42386567e-02,\n",
       "        1.38777327e+00, -8.06868156e-01,  1.21895470e+00, -3.65342662e-01,\n",
       "       -1.10554717e+00, -1.04061695e+00,  1.36180118e+00,  1.42673140e+00,\n",
       "        1.59554997e+00,  3.22917667e-01, -1.05360299e+00, -1.36526805e+00,\n",
       "        4.52778107e-01, -3.52356618e-01, -9.62700683e-01, -1.31332387e+00,\n",
       "        1.37478723e+00,  8.16387337e-01,  1.95915920e+00,  1.17999657e+00,\n",
       "       -7.93882112e-01, -2.77055191e-02,  2.05006151e+00,  1.12526127e-02,\n",
       "        2.51755909e+00, -1.15749134e+00, -8.19854200e-01, -1.32630991e+00,\n",
       "       -1.46915640e+00, -6.38049585e-01,  2.02408942e+00, -4.69231013e-01,\n",
       "       -9.26357388e-02, -1.01464486e+00, -1.39124013e+00, -4.82217057e-01,\n",
       "        1.45270349e+00, -8.45826288e-01,  6.47568766e-01, -3.26384530e-01,\n",
       "        3.87847887e-01,  1.15402448e+00, -1.11853321e+00, -7.54923980e-01,\n",
       "        1.69943833e+00, -1.14450530e+00, -6.51035629e-01,  6.21596678e-01,\n",
       "        1.46568953e+00, -7.54923980e-01,  1.01117800e+00,  3.74861843e-01,\n",
       "        5.02107446e-02,  1.05013613e+00, -1.19644947e+00,  8.68331513e-01,\n",
       "       -9.36728595e-01, -1.09256112e+00,  2.33575448e+00,  1.24492679e+00,\n",
       "       -8.84784420e-01,  6.21596678e-01, -1.26137969e+00, -8.71798376e-01,\n",
       "       -8.19854200e-01, -1.57304475e+00, -3.00412442e-01, -8.97770464e-01,\n",
       "        1.59554997e+00, -1.13151925e+00,  5.95624590e-01,  1.08909426e+00,\n",
       "        1.30985701e+00, -3.65342662e-01, -1.40422618e+00,  2.57987448e-01,\n",
       "       -4.95203101e-01, -1.31593871e-01, -5.60133321e-01,  3.61875799e-01,\n",
       "       -1.05621783e-01,  1.41113052e-01, -6.66636509e-02, -7.15965848e-01,\n",
       "        8.81317557e-01,  4.91736239e-01, -5.60133321e-01,  5.04722283e-01,\n",
       "       -3.91314750e-01,  1.01117800e+00,  1.16701052e+00,  1.24492679e+00,\n",
       "        1.25791283e+00,  5.17708327e-01, -2.74440354e-01,  1.10208030e+00,\n",
       "       -9.62700683e-01, -2.22496178e-01,  1.19298261e+00,  6.08610634e-01,\n",
       "        1.53061975e+00,  1.54099096e-01, -1.04061695e+00, -7.28951892e-01,\n",
       "        1.99811734e+00, -7.93882112e-01,  8.03401293e-01, -7.41937936e-01,\n",
       "        8.29373381e-01,  1.43971745e+00,  3.35903711e-01, -5.08189145e-01,\n",
       "        6.21596678e-01, -1.70552003e-01, -1.70552003e-01, -8.32840244e-01,\n",
       "       -5.36776070e-02, -8.32840244e-01,  1.17999657e+00, -1.05360299e+00,\n",
       "       -9.75686727e-01, -5.60133321e-01,  1.55659184e+00, -1.19644947e+00,\n",
       "       -1.27436574e+00,  8.94303601e-01, -8.06868156e-01,  2.06304756e+00,\n",
       "        1.67346624e+00,  3.87847887e-01,  2.19290800e+00, -1.22242156e+00,\n",
       "        1.42673140e+00,  6.99512942e-01,  1.05013613e+00,  1.16701052e+00,\n",
       "       -3.78328706e-01,  1.93057228e-01, -1.15749134e+00,  5.82638546e-01,\n",
       "       -1.05360299e+00,  2.06043272e-01, -1.57565959e-01,  8.42359425e-01,\n",
       "       -4.04300794e-01,  1.07610822e+00,  1.20596866e+00, -1.45617035e+00,\n",
       "       -1.30033783e+00, -6.25063541e-01, -2.61454310e-01, -8.32840244e-01,\n",
       "       -1.07957508e+00,  8.68331513e-01, -1.04061695e+00,  6.34582722e-01,\n",
       "       -5.47147277e-01, -1.31332387e+00,  1.62152206e+00, -1.15749134e+00,\n",
       "       -4.43258925e-01, -1.07957508e+00,  1.56957789e+00,  1.37478723e+00,\n",
       "       -1.41721222e+00,  5.95624590e-01,  1.16701052e+00,  1.03715008e+00,\n",
       "        2.96945580e-01, -7.67910024e-01,  2.06043272e-01,  1.59554997e+00,\n",
       "        1.82929877e+00,  1.67346624e+00, -1.04061695e+00, -1.57565959e-01,\n",
       "        4.78750195e-01,  3.74861843e-01,  7.38471074e-01, -2.09510134e-01,\n",
       "        1.41374536e+00, -5.08189145e-01, -2.74440354e-01,  2.83959536e-01,\n",
       "        1.36180118e+00, -1.26137969e+00, -8.84784420e-01, -1.43019827e+00,\n",
       "       -7.96496949e-02,  7.77429206e-01,  1.05013613e+00, -7.93882112e-01,\n",
       "       -5.34161233e-01, -1.73343121e-03, -4.17286837e-01, -1.10554717e+00,\n",
       "        2.05006151e+00, -7.54923980e-01,  4.00833931e-01, -1.11853321e+00,\n",
       "        2.70973492e-01, -1.04061695e+00, -1.33929596e+00, -1.14450530e+00,\n",
       "       -1.35228200e+00,  3.35903711e-01, -6.25063541e-01, -2.61454310e-01,\n",
       "        8.81317557e-01, -1.23540761e+00])"
      ]
     },
     "execution_count": 6,
     "metadata": {},
     "output_type": "execute_result"
    }
   ],
   "source": [
    "# Normalise the target data (this will make clearer training curves)\n",
    "\n",
    "targets = (targets - targets.mean(axis=0)) / targets.std()\n",
    "targets"
   ]
  },
  {
   "cell_type": "code",
   "execution_count": 7,
   "metadata": {},
   "outputs": [
    {
     "name": "stdout",
     "output_type": "stream",
     "text": [
      "(397, 10)\n",
      "(45, 10)\n",
      "(397,)\n",
      "(45,)\n"
     ]
    }
   ],
   "source": [
    "# Split the data into train and test sets\n",
    "\n",
    "from sklearn.model_selection import train_test_split\n",
    "\n",
    "train_data, test_data, train_targets, test_targets = train_test_split(data, targets, test_size=0.1)\n",
    "\n",
    "print(train_data.shape)\n",
    "print(test_data.shape)\n",
    "print(train_targets.shape)\n",
    "print(test_targets.shape)"
   ]
  },
  {
   "cell_type": "markdown",
   "metadata": {},
   "source": [
    "#### Train a feedforward neural network model"
   ]
  },
  {
   "cell_type": "code",
   "execution_count": 8,
   "metadata": {},
   "outputs": [],
   "source": [
    "# Build the model\n",
    "\n",
    "from tensorflow.keras.models import Sequential\n",
    "from tensorflow.keras.layers import Dense\n",
    "\n",
    "def get_model():\n",
    "    model = Sequential([\n",
    "        Dense(128, activation='relu', input_shape=(train_data.shape[1],)),\n",
    "        Dense(128, activation='relu'),\n",
    "        Dense(128, activation='relu'),\n",
    "        Dense(128, activation='relu'),\n",
    "        Dense(128, activation='relu'),\n",
    "        Dense(128, activation='relu'),\n",
    "        Dense(1)\n",
    "    ])\n",
    "    \n",
    "    return model\n",
    "\n",
    "model = get_model()"
   ]
  },
  {
   "cell_type": "code",
   "execution_count": 9,
   "metadata": {},
   "outputs": [
    {
     "name": "stdout",
     "output_type": "stream",
     "text": [
      "Model: \"sequential\"\n",
      "_________________________________________________________________\n",
      "Layer (type)                 Output Shape              Param #   \n",
      "=================================================================\n",
      "dense (Dense)                (None, 128)               1408      \n",
      "_________________________________________________________________\n",
      "dense_1 (Dense)              (None, 128)               16512     \n",
      "_________________________________________________________________\n",
      "dense_2 (Dense)              (None, 128)               16512     \n",
      "_________________________________________________________________\n",
      "dense_3 (Dense)              (None, 128)               16512     \n",
      "_________________________________________________________________\n",
      "dense_4 (Dense)              (None, 128)               16512     \n",
      "_________________________________________________________________\n",
      "dense_5 (Dense)              (None, 128)               16512     \n",
      "_________________________________________________________________\n",
      "dense_6 (Dense)              (None, 1)                 129       \n",
      "=================================================================\n",
      "Total params: 84,097\n",
      "Trainable params: 84,097\n",
      "Non-trainable params: 0\n",
      "_________________________________________________________________\n"
     ]
    }
   ],
   "source": [
    "# Print the model summary\n",
    "\n",
    "model.summary()"
   ]
  },
  {
   "cell_type": "code",
   "execution_count": 10,
   "metadata": {},
   "outputs": [],
   "source": [
    "# Compile the model\n",
    "\n",
    "model.compile(optimizer='adam', loss='mse', metrics=['mae'])"
   ]
  },
  {
   "cell_type": "code",
   "execution_count": 11,
   "metadata": {
    "scrolled": true
   },
   "outputs": [
    {
     "name": "stdout",
     "output_type": "stream",
     "text": [
      "Train on 337 samples, validate on 60 samples\n",
      "Epoch 1/100\n",
      "337/337 - 2s - loss: 1.0208 - mae: 0.8537 - val_loss: 0.7906 - val_mae: 0.7603\n",
      "Epoch 2/100\n",
      "337/337 - 0s - loss: 0.9062 - mae: 0.8066 - val_loss: 0.6367 - val_mae: 0.6920\n",
      "Epoch 3/100\n",
      "337/337 - 0s - loss: 0.6678 - mae: 0.6870 - val_loss: 0.6067 - val_mae: 0.6130\n",
      "Epoch 4/100\n",
      "337/337 - 0s - loss: 0.5588 - mae: 0.5820 - val_loss: 0.5654 - val_mae: 0.6017\n",
      "Epoch 5/100\n",
      "337/337 - 0s - loss: 0.5162 - mae: 0.5754 - val_loss: 0.5074 - val_mae: 0.6079\n",
      "Epoch 6/100\n",
      "337/337 - 0s - loss: 0.5244 - mae: 0.5970 - val_loss: 0.4834 - val_mae: 0.6045\n",
      "Epoch 7/100\n",
      "337/337 - 0s - loss: 0.5282 - mae: 0.5779 - val_loss: 0.4930 - val_mae: 0.5927\n",
      "Epoch 8/100\n",
      "337/337 - 0s - loss: 0.4991 - mae: 0.5754 - val_loss: 0.5050 - val_mae: 0.5987\n",
      "Epoch 9/100\n",
      "337/337 - 0s - loss: 0.4752 - mae: 0.5448 - val_loss: 0.4977 - val_mae: 0.5971\n",
      "Epoch 10/100\n",
      "337/337 - 0s - loss: 0.4454 - mae: 0.5390 - val_loss: 0.4886 - val_mae: 0.5848\n",
      "Epoch 11/100\n",
      "337/337 - 0s - loss: 0.4335 - mae: 0.5225 - val_loss: 0.5136 - val_mae: 0.5977\n",
      "Epoch 12/100\n",
      "337/337 - 0s - loss: 0.4185 - mae: 0.5041 - val_loss: 0.5139 - val_mae: 0.5859\n",
      "Epoch 13/100\n",
      "337/337 - 0s - loss: 0.4124 - mae: 0.5019 - val_loss: 0.5092 - val_mae: 0.5957\n",
      "Epoch 14/100\n",
      "337/337 - 0s - loss: 0.3966 - mae: 0.4893 - val_loss: 0.5265 - val_mae: 0.5889\n",
      "Epoch 15/100\n",
      "337/337 - 0s - loss: 0.3963 - mae: 0.4901 - val_loss: 0.5414 - val_mae: 0.6010\n",
      "Epoch 16/100\n",
      "337/337 - 0s - loss: 0.3855 - mae: 0.4805 - val_loss: 0.5369 - val_mae: 0.5918\n",
      "Epoch 17/100\n",
      "337/337 - 0s - loss: 0.3931 - mae: 0.4920 - val_loss: 0.5335 - val_mae: 0.5992\n",
      "Epoch 18/100\n",
      "337/337 - 0s - loss: 0.3835 - mae: 0.4798 - val_loss: 0.5824 - val_mae: 0.6186\n",
      "Epoch 19/100\n",
      "337/337 - 0s - loss: 0.3905 - mae: 0.4858 - val_loss: 0.5911 - val_mae: 0.6028\n",
      "Epoch 20/100\n",
      "337/337 - 0s - loss: 0.4523 - mae: 0.5358 - val_loss: 0.5749 - val_mae: 0.6178\n",
      "Epoch 21/100\n",
      "337/337 - 0s - loss: 0.3779 - mae: 0.4844 - val_loss: 0.5627 - val_mae: 0.5792\n",
      "Epoch 22/100\n",
      "337/337 - 0s - loss: 0.3739 - mae: 0.4784 - val_loss: 0.5673 - val_mae: 0.6157\n",
      "Epoch 23/100\n",
      "337/337 - 0s - loss: 0.3514 - mae: 0.4611 - val_loss: 0.5732 - val_mae: 0.6055\n",
      "Epoch 24/100\n",
      "337/337 - 0s - loss: 0.3524 - mae: 0.4532 - val_loss: 0.6132 - val_mae: 0.6244\n",
      "Epoch 25/100\n",
      "337/337 - 0s - loss: 0.3367 - mae: 0.4454 - val_loss: 0.5956 - val_mae: 0.6320\n",
      "Epoch 26/100\n",
      "337/337 - 0s - loss: 0.3305 - mae: 0.4422 - val_loss: 0.6124 - val_mae: 0.6367\n",
      "Epoch 27/100\n",
      "337/337 - 0s - loss: 0.3226 - mae: 0.4336 - val_loss: 0.6567 - val_mae: 0.6363\n",
      "Epoch 28/100\n",
      "337/337 - 0s - loss: 0.3379 - mae: 0.4454 - val_loss: 0.5948 - val_mae: 0.6274\n",
      "Epoch 29/100\n",
      "337/337 - 0s - loss: 0.3136 - mae: 0.4342 - val_loss: 0.5779 - val_mae: 0.6039\n",
      "Epoch 30/100\n",
      "337/337 - 0s - loss: 0.3106 - mae: 0.4344 - val_loss: 0.6102 - val_mae: 0.6274\n",
      "Epoch 31/100\n",
      "337/337 - 0s - loss: 0.3019 - mae: 0.4234 - val_loss: 0.6384 - val_mae: 0.6421\n",
      "Epoch 32/100\n",
      "337/337 - 0s - loss: 0.2933 - mae: 0.4089 - val_loss: 0.6013 - val_mae: 0.6339\n",
      "Epoch 33/100\n",
      "337/337 - 0s - loss: 0.2907 - mae: 0.4218 - val_loss: 0.6589 - val_mae: 0.6777\n",
      "Epoch 34/100\n",
      "337/337 - 0s - loss: 0.2896 - mae: 0.4096 - val_loss: 0.6510 - val_mae: 0.6567\n",
      "Epoch 35/100\n",
      "337/337 - 0s - loss: 0.2915 - mae: 0.4112 - val_loss: 0.5935 - val_mae: 0.6389\n",
      "Epoch 36/100\n",
      "337/337 - 0s - loss: 0.2815 - mae: 0.4130 - val_loss: 0.7342 - val_mae: 0.6917\n",
      "Epoch 37/100\n",
      "337/337 - 0s - loss: 0.3164 - mae: 0.4315 - val_loss: 0.6388 - val_mae: 0.6522\n",
      "Epoch 38/100\n",
      "337/337 - 0s - loss: 0.2997 - mae: 0.4160 - val_loss: 0.6968 - val_mae: 0.6796\n",
      "Epoch 39/100\n",
      "337/337 - 0s - loss: 0.3036 - mae: 0.4355 - val_loss: 0.6548 - val_mae: 0.6626\n",
      "Epoch 40/100\n",
      "337/337 - 0s - loss: 0.2744 - mae: 0.4143 - val_loss: 0.6372 - val_mae: 0.6405\n",
      "Epoch 41/100\n",
      "337/337 - 0s - loss: 0.2498 - mae: 0.3804 - val_loss: 0.6448 - val_mae: 0.6561\n",
      "Epoch 42/100\n",
      "337/337 - 0s - loss: 0.2470 - mae: 0.3766 - val_loss: 0.7213 - val_mae: 0.6882\n",
      "Epoch 43/100\n",
      "337/337 - 0s - loss: 0.2590 - mae: 0.3952 - val_loss: 0.6003 - val_mae: 0.6385\n",
      "Epoch 44/100\n",
      "337/337 - 0s - loss: 0.2506 - mae: 0.3914 - val_loss: 0.6225 - val_mae: 0.6363\n",
      "Epoch 45/100\n",
      "337/337 - 0s - loss: 0.2167 - mae: 0.3563 - val_loss: 0.6563 - val_mae: 0.6705\n",
      "Epoch 46/100\n",
      "337/337 - 0s - loss: 0.2205 - mae: 0.3577 - val_loss: 0.6689 - val_mae: 0.6654\n",
      "Epoch 47/100\n",
      "337/337 - 0s - loss: 0.2388 - mae: 0.3720 - val_loss: 0.6454 - val_mae: 0.6487\n",
      "Epoch 48/100\n",
      "337/337 - 0s - loss: 0.2179 - mae: 0.3581 - val_loss: 0.6274 - val_mae: 0.6614\n",
      "Epoch 49/100\n",
      "337/337 - 0s - loss: 0.2093 - mae: 0.3557 - val_loss: 0.6818 - val_mae: 0.6675\n",
      "Epoch 50/100\n",
      "337/337 - 0s - loss: 0.1989 - mae: 0.3362 - val_loss: 0.6766 - val_mae: 0.6921\n",
      "Epoch 51/100\n",
      "337/337 - 0s - loss: 0.1801 - mae: 0.3235 - val_loss: 0.6635 - val_mae: 0.6555\n",
      "Epoch 52/100\n",
      "337/337 - 0s - loss: 0.1956 - mae: 0.3424 - val_loss: 0.6974 - val_mae: 0.6758\n",
      "Epoch 53/100\n",
      "337/337 - 0s - loss: 0.1721 - mae: 0.3178 - val_loss: 0.6971 - val_mae: 0.6750\n",
      "Epoch 54/100\n",
      "337/337 - 0s - loss: 0.1614 - mae: 0.3022 - val_loss: 0.6859 - val_mae: 0.6801\n",
      "Epoch 55/100\n",
      "337/337 - 0s - loss: 0.1616 - mae: 0.3096 - val_loss: 0.7305 - val_mae: 0.7011\n",
      "Epoch 56/100\n",
      "337/337 - 0s - loss: 0.1731 - mae: 0.3227 - val_loss: 0.7779 - val_mae: 0.7254\n",
      "Epoch 57/100\n",
      "337/337 - 0s - loss: 0.1669 - mae: 0.3111 - val_loss: 0.7384 - val_mae: 0.6891\n",
      "Epoch 58/100\n",
      "337/337 - 0s - loss: 0.1582 - mae: 0.3135 - val_loss: 0.7000 - val_mae: 0.6713\n",
      "Epoch 59/100\n",
      "337/337 - 0s - loss: 0.1368 - mae: 0.2762 - val_loss: 0.6683 - val_mae: 0.6487\n",
      "Epoch 60/100\n",
      "337/337 - 0s - loss: 0.1324 - mae: 0.2694 - val_loss: 0.7334 - val_mae: 0.6815\n",
      "Epoch 61/100\n",
      "337/337 - 0s - loss: 0.1288 - mae: 0.2752 - val_loss: 0.7285 - val_mae: 0.6779\n",
      "Epoch 62/100\n",
      "337/337 - 0s - loss: 0.1127 - mae: 0.2529 - val_loss: 0.7435 - val_mae: 0.6840\n",
      "Epoch 63/100\n",
      "337/337 - 0s - loss: 0.1265 - mae: 0.2675 - val_loss: 0.6939 - val_mae: 0.6619\n",
      "Epoch 64/100\n",
      "337/337 - 0s - loss: 0.1159 - mae: 0.2583 - val_loss: 0.7452 - val_mae: 0.6740\n",
      "Epoch 65/100\n",
      "337/337 - 0s - loss: 0.1133 - mae: 0.2543 - val_loss: 0.6962 - val_mae: 0.6502\n",
      "Epoch 66/100\n",
      "337/337 - 0s - loss: 0.1031 - mae: 0.2365 - val_loss: 0.7234 - val_mae: 0.6765\n",
      "Epoch 67/100\n",
      "337/337 - 0s - loss: 0.1109 - mae: 0.2511 - val_loss: 0.7150 - val_mae: 0.6545\n",
      "Epoch 68/100\n",
      "337/337 - 0s - loss: 0.0994 - mae: 0.2371 - val_loss: 0.7329 - val_mae: 0.6761\n",
      "Epoch 69/100\n",
      "337/337 - 0s - loss: 0.1079 - mae: 0.2480 - val_loss: 0.7498 - val_mae: 0.6848\n",
      "Epoch 70/100\n",
      "337/337 - 0s - loss: 0.1023 - mae: 0.2430 - val_loss: 0.7382 - val_mae: 0.6891\n",
      "Epoch 71/100\n",
      "337/337 - 0s - loss: 0.0998 - mae: 0.2392 - val_loss: 0.7382 - val_mae: 0.6668\n",
      "Epoch 72/100\n",
      "337/337 - 0s - loss: 0.0892 - mae: 0.2260 - val_loss: 0.7302 - val_mae: 0.6773\n",
      "Epoch 73/100\n",
      "337/337 - 0s - loss: 0.0948 - mae: 0.2355 - val_loss: 0.7480 - val_mae: 0.6727\n",
      "Epoch 74/100\n",
      "337/337 - 0s - loss: 0.1050 - mae: 0.2523 - val_loss: 0.7141 - val_mae: 0.6575\n",
      "Epoch 75/100\n",
      "337/337 - 0s - loss: 0.0990 - mae: 0.2430 - val_loss: 0.7741 - val_mae: 0.6914\n",
      "Epoch 76/100\n",
      "337/337 - 0s - loss: 0.1434 - mae: 0.2949 - val_loss: 0.7657 - val_mae: 0.6944\n",
      "Epoch 77/100\n",
      "337/337 - 0s - loss: 0.1386 - mae: 0.2944 - val_loss: 0.6900 - val_mae: 0.6614\n",
      "Epoch 78/100\n",
      "337/337 - 0s - loss: 0.1162 - mae: 0.2635 - val_loss: 0.7605 - val_mae: 0.6898\n",
      "Epoch 79/100\n",
      "337/337 - 0s - loss: 0.0915 - mae: 0.2288 - val_loss: 0.7732 - val_mae: 0.6995\n",
      "Epoch 80/100\n",
      "337/337 - 0s - loss: 0.0933 - mae: 0.2308 - val_loss: 0.7781 - val_mae: 0.7150\n",
      "Epoch 81/100\n",
      "337/337 - 0s - loss: 0.0884 - mae: 0.2222 - val_loss: 0.7303 - val_mae: 0.6557\n",
      "Epoch 82/100\n",
      "337/337 - 0s - loss: 0.0772 - mae: 0.1978 - val_loss: 0.7345 - val_mae: 0.6664\n",
      "Epoch 83/100\n",
      "337/337 - 0s - loss: 0.0636 - mae: 0.1786 - val_loss: 0.7737 - val_mae: 0.6794\n",
      "Epoch 84/100\n",
      "337/337 - 0s - loss: 0.0626 - mae: 0.1818 - val_loss: 0.7478 - val_mae: 0.6821\n",
      "Epoch 85/100\n",
      "337/337 - 0s - loss: 0.0657 - mae: 0.1900 - val_loss: 0.7627 - val_mae: 0.6628\n",
      "Epoch 86/100\n",
      "337/337 - 0s - loss: 0.0625 - mae: 0.1838 - val_loss: 0.7414 - val_mae: 0.6604\n",
      "Epoch 87/100\n",
      "337/337 - 0s - loss: 0.0574 - mae: 0.1737 - val_loss: 0.8098 - val_mae: 0.6980\n",
      "Epoch 88/100\n",
      "337/337 - 0s - loss: 0.0725 - mae: 0.2082 - val_loss: 0.7853 - val_mae: 0.6861\n",
      "Epoch 89/100\n",
      "337/337 - 0s - loss: 0.0686 - mae: 0.1994 - val_loss: 0.7369 - val_mae: 0.6656\n",
      "Epoch 90/100\n",
      "337/337 - 0s - loss: 0.0627 - mae: 0.1831 - val_loss: 0.7668 - val_mae: 0.6726\n",
      "Epoch 91/100\n",
      "337/337 - 0s - loss: 0.0613 - mae: 0.1783 - val_loss: 0.7922 - val_mae: 0.6898\n",
      "Epoch 92/100\n",
      "337/337 - 0s - loss: 0.0580 - mae: 0.1796 - val_loss: 0.7211 - val_mae: 0.6605\n",
      "Epoch 93/100\n",
      "337/337 - 0s - loss: 0.0588 - mae: 0.1876 - val_loss: 0.7813 - val_mae: 0.6919\n",
      "Epoch 94/100\n",
      "337/337 - 0s - loss: 0.0650 - mae: 0.1969 - val_loss: 0.7589 - val_mae: 0.6764\n",
      "Epoch 95/100\n",
      "337/337 - 0s - loss: 0.0631 - mae: 0.1906 - val_loss: 0.7564 - val_mae: 0.6675\n",
      "Epoch 96/100\n",
      "337/337 - 0s - loss: 0.0548 - mae: 0.1728 - val_loss: 0.7307 - val_mae: 0.6546\n",
      "Epoch 97/100\n",
      "337/337 - 0s - loss: 0.0650 - mae: 0.1894 - val_loss: 0.7482 - val_mae: 0.6646\n",
      "Epoch 98/100\n",
      "337/337 - 0s - loss: 0.0650 - mae: 0.1892 - val_loss: 0.7179 - val_mae: 0.6526\n",
      "Epoch 99/100\n",
      "337/337 - 0s - loss: 0.0631 - mae: 0.1880 - val_loss: 0.7227 - val_mae: 0.6525\n",
      "Epoch 100/100\n",
      "337/337 - 0s - loss: 0.0482 - mae: 0.1568 - val_loss: 0.7134 - val_mae: 0.6560\n"
     ]
    }
   ],
   "source": [
    "# Train the model, with some of the data reserved for validation\n",
    "\n",
    "history = model.fit(train_data, train_targets, epochs=100, validation_split=0.15, batch_size=64, verbose=2)"
   ]
  },
  {
   "cell_type": "code",
   "execution_count": 12,
   "metadata": {},
   "outputs": [
    {
     "name": "stdout",
     "output_type": "stream",
     "text": [
      "45/1 - 0s - loss: 1.2078 - mae: 0.8259\n"
     ]
    },
    {
     "data": {
      "text/plain": [
       "[1.1445752408769396, 0.8259131]"
      ]
     },
     "execution_count": 12,
     "metadata": {},
     "output_type": "execute_result"
    }
   ],
   "source": [
    "# Evaluate the model on the test set\n",
    "\n",
    "model.evaluate(test_data, test_targets, verbose=2)"
   ]
  },
  {
   "cell_type": "markdown",
   "metadata": {},
   "source": [
    "#### Plot the learning curves"
   ]
  },
  {
   "cell_type": "code",
   "execution_count": 13,
   "metadata": {},
   "outputs": [],
   "source": [
    "import matplotlib.pyplot as plt\n",
    "%matplotlib inline"
   ]
  },
  {
   "cell_type": "code",
   "execution_count": 14,
   "metadata": {},
   "outputs": [
    {
     "data": {
      "image/png": "[encoded data removed]",
      "text/plain": [
       "<Figure size 432x288 with 1 Axes>"
      ]
     },
     "metadata": {
      "needs_background": "light"
     },
     "output_type": "display_data"
    }
   ],
   "source": [
    "# Plot the training and validation loss\n",
    "\n",
    "plt.plot(history.history['loss'])\n",
    "plt.plot(history.history['val_loss'])\n",
    "plt.title('Loss vs. epochs')\n",
    "plt.ylabel('Loss')\n",
    "plt.xlabel('Epoch')\n",
    "plt.legend(['Training', 'Validation'], loc='upper right')\n",
    "plt.show()"
   ]
  }
 ],
 "metadata": {
  "kernelspec": {
   "display_name": "Python 3",
   "language": "python",
   "name": "python3"
  },
  "language_info": {
   "codemirror_mode": {
    "name": "ipython",
    "version": 3
   },
   "file_extension": ".py",
   "mimetype": "text/x-python",
   "name": "python",
   "nbconvert_exporter": "python",
   "pygments_lexer": "ipython3",
   "version": "3.7.6"
  }
 },
 "nbformat": 4,
 "nbformat_minor": 2
}
